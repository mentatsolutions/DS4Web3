{
 "cells": [
  {
   "cell_type": "markdown",
   "id": "bb7e540b",
   "metadata": {},
   "source": [
    "## Imports\n",
    "\n",
    "Import the web3, datetime libraries. The web3 library will be used to connect to the Ethereum blockchain and retrieve transaction data. The datetime library is used to manipulate time data. The pandas library will be used to store the transaction data in a dataframe."
   ]
  },
  {
   "cell_type": "code",
   "execution_count": null,
   "id": "7c7807de",
   "metadata": {},
   "outputs": [],
   "source": [
    "from web3 import Web3\n",
    "from datetime import datetime"
   ]
  },
  {
   "cell_type": "markdown",
   "id": "5bc192be",
   "metadata": {},
   "source": [
    "## Connection\n",
    "\n",
    "Use the web3 library to connect to the Ethereum blockchain and retrieve transaction data using the Infura URL provided. The `web3.isConnected()` method will be used to check if the connection was successful."
   ]
  },
  {
   "cell_type": "code",
   "execution_count": 2,
   "id": "d678abfc",
   "metadata": {},
   "outputs": [
    {
     "data": {
      "text/plain": [
       "True"
      ]
     },
     "execution_count": 2,
     "metadata": {},
     "output_type": "execute_result"
    }
   ],
   "source": [
    "infura_url= 'https://mainnet.infura.io/v3/[YOUR INFURA KEY]'\n",
    "web3= Web3(Web3.HTTPProvider (infura_url))\n",
    "web3.isConnected()"
   ]
  },
  {
   "cell_type": "markdown",
   "id": "b091a60f",
   "metadata": {},
   "source": [
    "## Block Height\n",
    "\n",
    "Print the latest Ethereum block number stored in the variable 'latest'. This will allow the user to see the most recent block number and use it to retrieve transaction data from the Ethereum blockchain."
   ]
  },
  {
   "cell_type": "code",
   "execution_count": 3,
   "id": "d44dee2c",
   "metadata": {},
   "outputs": [],
   "source": [
    "latest = web3.eth.blockNumber"
   ]
  },
  {
   "cell_type": "code",
   "execution_count": 4,
   "id": "467c52ba",
   "metadata": {},
   "outputs": [
    {
     "name": "stdout",
     "output_type": "stream",
     "text": [
      "The latest block is:  15652876\n"
     ]
    }
   ],
   "source": [
    "print (\"The latest block is: \", latest)"
   ]
  },
  {
   "cell_type": "markdown",
   "id": "d77e8b15",
   "metadata": {},
   "source": [
    "## Time\n",
    "\n",
    "Retrieve the timestamp of the latest Ethereum block stored in the variable 'latest'. This will allow the user to see the timestamp of the most recent block and use it to retrieve transaction data from the Ethereum blockchain when needed as an input.\n",
    "\n",
    "Timestamp is expressed in unix timestamp format and the following code convert it to a readable date format."
   ]
  },
  {
   "cell_type": "code",
   "execution_count": 5,
   "id": "a7166d43",
   "metadata": {},
   "outputs": [
    {
     "data": {
      "text/plain": [
       "1664622047"
      ]
     },
     "execution_count": 5,
     "metadata": {},
     "output_type": "execute_result"
    }
   ],
   "source": [
    "block_timestamp= web3.eth.get_block(latest).timestamp\n",
    "block_timestamp"
   ]
  },
  {
   "cell_type": "code",
   "execution_count": 6,
   "id": "7234fa81",
   "metadata": {},
   "outputs": [
    {
     "name": "stdout",
     "output_type": "stream",
     "text": [
      "2022-10-01 11:00:47\n"
     ]
    }
   ],
   "source": [
    "block_timestamp = int(block_timestamp)\n",
    "print(datetime.utcfromtimestamp(block_timestamp).strftime('%Y-%m-%d %H:%M:%S'))"
   ]
  }
 ],
 "metadata": {
  "kernelspec": {
   "display_name": "Python 3 (ipykernel)",
   "language": "python",
   "name": "python3"
  },
  "language_info": {
   "codemirror_mode": {
    "name": "ipython",
    "version": 3
   },
   "file_extension": ".py",
   "mimetype": "text/x-python",
   "name": "python",
   "nbconvert_exporter": "python",
   "pygments_lexer": "ipython3",
   "version": "3.8.13"
  }
 },
 "nbformat": 4,
 "nbformat_minor": 5
}
