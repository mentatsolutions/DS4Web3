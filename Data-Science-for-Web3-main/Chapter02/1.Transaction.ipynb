{
 "cells": [
  {
   "cell_type": "markdown",
   "id": "dd48c80b",
   "metadata": {},
   "source": [
    "### Introduction:\n",
    "This notebook corresponds to Chapter 2. The primary objective of this notebook is to provide practical code examples that complement the explanations given in the chapter. Here, we will delve into the different components of a transaction executed on the Ethereum blockchain.\n",
    "\n",
    "By following the provided steps, you will develop a comprehensive understanding of each part of a transaction and learn how to access and analyze them. This hands-on approach will enhance your proficiency in working with transaction data and enable you to navigate and interpret Ethereum transactions effectively.\n",
    "\n",
    "#### Imports\n",
    "\n",
    "Import the necesary libraries to run the notebook."
   ]
  },
  {
   "cell_type": "code",
   "execution_count": 1,
   "id": "29992777",
   "metadata": {},
   "outputs": [],
   "source": [
    "from web3 import Web3\n",
    "from datetime import datetime\n",
    "import pandas as pd\n",
    "import json"
   ]
  },
  {
   "cell_type": "markdown",
   "id": "5cea09ff",
   "metadata": {},
   "source": [
    "#### Connection\n",
    "Connect to the Ethereum blockchain using the web3 library and the Infura service. Check if the connection is successful by calling the `web3.isConnected()` method."
   ]
  },
  {
   "cell_type": "code",
   "execution_count": 2,
   "id": "63698425",
   "metadata": {},
   "outputs": [
    {
     "data": {
      "text/plain": [
       "True"
      ]
     },
     "execution_count": 2,
     "metadata": {},
     "output_type": "execute_result"
    }
   ],
   "source": [
    "infura_url= 'https://mainnet.infura.io/v3/[YOUR API KEY]'\n",
    "web3= Web3(Web3.HTTPProvider (infura_url))\n",
    "web3.isConnected()"
   ]
  },
  {
   "cell_type": "markdown",
   "id": "6c3f7f5c",
   "metadata": {},
   "source": [
    "# Dissecting Transaction\n",
    "\n",
    "We will define one address and one transaction to use as example. "
   ]
  },
  {
   "cell_type": "code",
   "execution_count": 3,
   "id": "13b19029",
   "metadata": {},
   "outputs": [],
   "source": [
    "address= web3.toChecksumAddress(\"0x1ad91ee08f21be3de0ba2ba6918e714da6b45836\")\n",
    "transaction= '0x032ed60363beb809a2b9c9790bb7dadd83b743040945a087aeecbe9e6b2dc2af'"
   ]
  },
  {
   "cell_type": "markdown",
   "id": "954a38da",
   "metadata": {},
   "source": [
    "* Nonce\n",
    "\n",
    "#### Retrieve the Account nonce\n",
    "\n",
    "We can query directly the address and it retrieve the number up to the latest block."
   ]
  },
  {
   "cell_type": "code",
   "execution_count": 4,
   "id": "b3ccfb7f",
   "metadata": {},
   "outputs": [
    {
     "data": {
      "text/plain": [
       "3460174"
      ]
     },
     "execution_count": 4,
     "metadata": {},
     "output_type": "execute_result"
    }
   ],
   "source": [
    "next_nonce= web3.eth.getTransactionCount(address)\n",
    "next_nonce"
   ]
  },
  {
   "cell_type": "markdown",
   "id": "c3008531",
   "metadata": {},
   "source": [
    "Or we can query a transaction, that will provide the situation of the source address at the moment of that transaction.  "
   ]
  },
  {
   "cell_type": "code",
   "execution_count": 5,
   "id": "b8b4954c",
   "metadata": {},
   "outputs": [
    {
     "data": {
      "text/plain": [
       "3460171"
      ]
     },
     "execution_count": 5,
     "metadata": {},
     "output_type": "execute_result"
    }
   ],
   "source": [
    "transaction_nonce= web3.eth.get_transaction(transaction).nonce\n",
    "transaction_nonce"
   ]
  },
  {
   "cell_type": "markdown",
   "id": "e05b685c",
   "metadata": {},
   "source": [
    "* Gas\n",
    "\n",
    "#### Retrieve Transaction Gas Price\n",
    "Retrieve the gas price for a given transaction using the `web3.eth.get_transaction()` method specifying the `gas price` property. "
   ]
  },
  {
   "cell_type": "code",
   "execution_count": 6,
   "id": "aeab5f6a",
   "metadata": {},
   "outputs": [
    {
     "data": {
      "text/plain": [
       "19209576968"
      ]
     },
     "execution_count": 6,
     "metadata": {},
     "output_type": "execute_result"
    }
   ],
   "source": [
    "gasPrice= web3.eth.get_transaction(transaction).gasPrice\n",
    "gasPrice"
   ]
  },
  {
   "cell_type": "markdown",
   "id": "0f62c2b5",
   "metadata": {},
   "source": [
    "#### Retrieve Transaction Gas limit\n",
    "Retrieve the gas price for a given transaction using the `web3.eth.get_transaction()` method specifying the `gas` property. "
   ]
  },
  {
   "cell_type": "code",
   "execution_count": 7,
   "id": "81921057",
   "metadata": {},
   "outputs": [
    {
     "data": {
      "text/plain": [
       "100000"
      ]
     },
     "execution_count": 7,
     "metadata": {},
     "output_type": "execute_result"
    }
   ],
   "source": [
    "gaslimit= web3.eth.get_transaction(transaction).gas\n",
    "gaslimit"
   ]
  },
  {
   "cell_type": "markdown",
   "id": "faebc030",
   "metadata": {},
   "source": [
    "#### Retrieve Transaction Gas Used\n",
    "Retrieve the gas price for a given transaction using the `web3.eth.get_transaction()` method specifying the `gasUsed` property. "
   ]
  },
  {
   "cell_type": "code",
   "execution_count": 8,
   "id": "68e64704",
   "metadata": {},
   "outputs": [
    {
     "data": {
      "text/plain": [
       "21000"
      ]
     },
     "execution_count": 8,
     "metadata": {},
     "output_type": "execute_result"
    }
   ],
   "source": [
    "gasUsed= web3.eth.getTransactionReceipt (transaction).gasUsed\n",
    "gasUsed"
   ]
  },
  {
   "cell_type": "markdown",
   "id": "5007bfee",
   "metadata": {},
   "source": [
    "* To\n",
    "\n",
    "#### Retrieve Transaction Recipient\n",
    "Retrieve the transaction recipient for a given transaction using the `web3.eth.get_transaction()` method specifying the `to` property. "
   ]
  },
  {
   "cell_type": "code",
   "execution_count": 9,
   "id": "86563628",
   "metadata": {},
   "outputs": [
    {
     "data": {
      "text/plain": [
       "'0x3c16183c1C0E28F1a0cB9F8ee4b21D0Db208cA46'"
      ]
     },
     "execution_count": 9,
     "metadata": {},
     "output_type": "execute_result"
    }
   ],
   "source": [
    "recipient= web3.eth.get_transaction(transaction).to\n",
    "recipient"
   ]
  },
  {
   "cell_type": "markdown",
   "id": "16d416f8",
   "metadata": {},
   "source": [
    "* From\n",
    "\n",
    "#### Retrieve Transaction Sender\n",
    "Retrieve the transaction sender for a given transaction using the `web3.eth.get_transaction()` method specifying the `gas price` property. "
   ]
  },
  {
   "cell_type": "code",
   "execution_count": null,
   "id": "63de0c18",
   "metadata": {},
   "outputs": [],
   "source": [
    "sender= web3.eth.get_transaction(transaction)[\"from\"]\n",
    "sender"
   ]
  },
  {
   "cell_type": "markdown",
   "id": "ec1171cd",
   "metadata": {},
   "source": [
    "* Value\n",
    "\n",
    "#### Retrieving Transaction Value\n",
    "Retrieve the value transferred in a given transaction using the `web3.eth.get_transaction()` method specifying the `value` property.  The value  of the transaction is expressed in wei, which can be converted to ether by multiplying it by `10**-18` or with `web3.fromWei('value','ether')`"
   ]
  },
  {
   "cell_type": "code",
   "execution_count": 10,
   "id": "90090943",
   "metadata": {},
   "outputs": [
    {
     "data": {
      "text/plain": [
       "48.0"
      ]
     },
     "execution_count": 10,
     "metadata": {},
     "output_type": "execute_result"
    }
   ],
   "source": [
    "value= web3.eth.get_transaction(transaction).value\n",
    "value*10**-18"
   ]
  },
  {
   "cell_type": "markdown",
   "id": "c030cab9",
   "metadata": {},
   "source": [
    "* Data\n",
    "\n",
    "#### Retrieve Transaction Input\n",
    "Retrieve the input data in a given transaction using the `web3.eth.get_transaction()` method specifying the `input` property."
   ]
  },
  {
   "cell_type": "code",
   "execution_count": 11,
   "id": "fdd2b011",
   "metadata": {},
   "outputs": [
    {
     "data": {
      "text/plain": [
       "'0x'"
      ]
     },
     "execution_count": 11,
     "metadata": {},
     "output_type": "execute_result"
    }
   ],
   "source": [
    "data= web3.eth.get_transaction(transaction).input\n",
    "data"
   ]
  },
  {
   "cell_type": "markdown",
   "id": "7fb947dc",
   "metadata": {},
   "source": [
    "#### Decode Transaction Input\n",
    "\n",
    "We will connect the ABI, the smart contract address and the input data resulting of using the `web3.eth.get_transaction()` method. "
   ]
  },
  {
   "cell_type": "code",
   "execution_count": 12,
   "id": "2432c647",
   "metadata": {},
   "outputs": [],
   "source": [
    "transaction_ba='0xb3827bb3cca1a693ec69edb744755f64d8ff8c90f89f69cbfbfafd17b0083159'"
   ]
  },
  {
   "cell_type": "code",
   "execution_count": 13,
   "id": "ac88f456",
   "metadata": {},
   "outputs": [
    {
     "data": {
      "text/plain": [
       "'0xa723533e0000000000000000000000000000000000000000000000000000000000000001'"
      ]
     },
     "execution_count": 13,
     "metadata": {},
     "output_type": "execute_result"
    }
   ],
   "source": [
    "data_ba= web3.eth.get_transaction(transaction_ba).input\n",
    "data_ba"
   ]
  },
  {
   "cell_type": "code",
   "execution_count": 14,
   "id": "0e5d15e0",
   "metadata": {},
   "outputs": [],
   "source": [
    "bored_ape= web3.eth.get_transaction(transaction_ba)"
   ]
  },
  {
   "cell_type": "code",
   "execution_count": 15,
   "id": "bdfbe92d",
   "metadata": {},
   "outputs": [],
   "source": [
    "sc_address=\"0xBC4CA0EdA7647A8aB7C2061c2E118A18a936f13D\"\n",
    "with open (\"./ba_abi.json\") as f:\n",
    "    abi= json.load (f)"
   ]
  },
  {
   "cell_type": "code",
   "execution_count": 16,
   "id": "b715fb0e",
   "metadata": {},
   "outputs": [],
   "source": [
    "baContract = web3.eth.contract(address=sc_address, abi=abi)"
   ]
  },
  {
   "cell_type": "markdown",
   "id": "8162734e",
   "metadata": {},
   "source": [
    "The method `decode_function_input ()` will decode the function input from the bored_ape dictionary. "
   ]
  },
  {
   "cell_type": "code",
   "execution_count": 17,
   "id": "18b61cac",
   "metadata": {},
   "outputs": [
    {
     "name": "stdout",
     "output_type": "stream",
     "text": [
      "<Function mintApe(uint256)> parameters:  {'numberOfTokens': 1}\n"
     ]
    }
   ],
   "source": [
    "function, parameters = baContract.decode_function_input(bored_ape[\"input\"])\n",
    "print (function, 'parameters: ',parameters )"
   ]
  },
  {
   "cell_type": "markdown",
   "id": "346ce303",
   "metadata": {},
   "source": [
    "* Log events\n",
    "\n",
    "#### Decoding Events\n",
    "Create a list of events listed in the the object baContract. Loop through the abi_events list and create a dictionary called event_abi_hex. The dictionary will contain the event name as the key and the event ABI in hexadecimal format as the value. "
   ]
  },
  {
   "cell_type": "code",
   "execution_count": 18,
   "id": "496c038a",
   "metadata": {},
   "outputs": [],
   "source": [
    "abi_events = [abi for abi in baContract.abi if abi[\"type\"] == \"event\"]\n",
    "event_abi_hex = {}\n",
    "for event in abi_events:\n",
    "    name = event[\"name\"]\n",
    "    inputs = \",\".join([param[\"type\"] for param in event[\"inputs\"]])\n",
    "    event_abi_human = f\"{name}({inputs})\"\n",
    "    event_abi_hex[name] = web3.toHex(web3.keccak(text=event_abi_human))"
   ]
  },
  {
   "cell_type": "markdown",
   "id": "83c62858",
   "metadata": {},
   "source": [
    "Retrieve the transaction receipt for the transaction_ba and loop through the logs in the receipt. For each log, it will get the event in hexadecimal format from the first topic and then compare it to the event_abi_hex dictionary. If a match is found, it will decode the log using `processReceipt(tx_receipt)` "
   ]
  },
  {
   "cell_type": "code",
   "execution_count": 19,
   "id": "b9055c7a",
   "metadata": {},
   "outputs": [
    {
     "data": {
      "text/plain": [
       "(AttributeDict({'args': AttributeDict({'from': '0x0000000000000000000000000000000000000000',\n",
       "   'to': '0x9909017A0F637380af916257D05c3e7dD2F6c68a',\n",
       "   'tokenId': 6633}),\n",
       "  'event': 'Transfer',\n",
       "  'logIndex': 124,\n",
       "  'transactionIndex': 321,\n",
       "  'transactionHash': HexBytes('0xb3827bb3cca1a693ec69edb744755f64d8ff8c90f89f69cbfbfafd17b0083159'),\n",
       "  'address': '0xBC4CA0EdA7647A8aB7C2061c2E118A18a936f13D',\n",
       "  'blockHash': HexBytes('0x26537966b001e26c3c960bfb619d1af5fdd4d04c54596fb50a3a94d73bf66a69'),\n",
       "  'blockNumber': 12347114}),)"
      ]
     },
     "execution_count": 19,
     "metadata": {},
     "output_type": "execute_result"
    }
   ],
   "source": [
    "tx_receipt = web3.eth.getTransactionReceipt(transaction_ba)\n",
    "decoded_logs = []\n",
    "for log in tx_receipt['logs']:\n",
    "    event_hex = web3.toHex(log['topics'][0])\n",
    "    event_name = None\n",
    "    for name, hex_value in event_abi_hex.items():\n",
    "        if hex_value == event_hex:\n",
    "            event_name = name\n",
    "            break\n",
    "    if event_name is not None:\n",
    "        decoded_log = baContract.events[event_name]().processReceipt(tx_receipt)\n",
    "        decoded_logs.append(decoded_log)\n",
    "decoded_logs"
   ]
  }
 ],
 "metadata": {
  "kernelspec": {
   "display_name": "Python 3 (ipykernel)",
   "language": "python",
   "name": "python3"
  },
  "language_info": {
   "codemirror_mode": {
    "name": "ipython",
    "version": 3
   },
   "file_extension": ".py",
   "mimetype": "text/x-python",
   "name": "python",
   "nbconvert_exporter": "python",
   "pygments_lexer": "ipython3",
   "version": "3.8.13"
  }
 },
 "nbformat": 4,
 "nbformat_minor": 5
}
