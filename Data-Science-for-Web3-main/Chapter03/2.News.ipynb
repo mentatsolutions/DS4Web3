{
 "cells": [
  {
   "cell_type": "markdown",
   "id": "74090563",
   "metadata": {},
   "source": [
    "## Imports\n",
    "\n",
    "Import the `requests` library to retrieve data from the CryptoPanic URL and `pandas` to manipulate it."
   ]
  },
  {
   "cell_type": "code",
   "execution_count": 1,
   "id": "4e6a475b",
   "metadata": {},
   "outputs": [],
   "source": [
    "import requests\n",
    "import pandas as pd"
   ]
  },
  {
   "cell_type": "markdown",
   "id": "5191b50c",
   "metadata": {},
   "source": [
    "## CryptoPanic\n",
    "\n",
    "Use the `requests` library to retrieve the news titles from CryptoPanic. "
   ]
  },
  {
   "cell_type": "code",
   "execution_count": 2,
   "id": "974ea147",
   "metadata": {},
   "outputs": [],
   "source": [
    "url= 'https://cryptopanic.com/api/v1/posts/?auth_token=[YOUR API KEY]&currencies=BTC&kind=news'\n",
    "response = requests.get(url)\n",
    "data= response.json()"
   ]
  },
  {
   "cell_type": "code",
   "execution_count": 3,
   "id": "a5606fe2",
   "metadata": {},
   "outputs": [
    {
     "name": "stdout",
     "output_type": "stream",
     "text": [
      "Kazakhstan Lawmakers Pass New Bitcoin Mining Bills\n",
      "This Week in Coins: Bitcoin and Ethereum Flat Again, Axie Infinity Sees Rare Jump\n",
      "Texas Senator Ted Cruz Is a Fan of Bitcoin and Crypto Mining\n",
      "Whales Move Over 275 Million XRP Amid Price Surge\n",
      "Bitcoin, Ethereum Technical Analysis: BTC, ETH Consolidate to Start the Weekend\n",
      "FTX’s Dent on Crypto Could Last a While\n",
      "Bitcoin bulls protect $17K as trader eyes key China BTC price catalyst\n",
      "Crypto.com Crypto Exchange Provides Proof of Reserves After Panic by Investors – Here’s What You Need to Know\n",
      "Bitcoin Sees Another Threat? - Elon Musk Just Might Be Hinting At This\n",
      "BitMEX Co-Founder Explains Where He Is Putting His Money During This Crypto Winter\n",
      "Trading of Bitcoin Miner Argo Blockchain’s stocks suspended in UK and U.S.\n",
      "Axie Infinty (AXS) Explodes 20% Weekly, Bitcoin Remains Stable Above $17K: Market Watch\n",
      "Russian Crypto Miners Reportedly Ramping Up Their Spending on ASIC Devices\n",
      "SILK Is Now Available for Trading on LBank Exchange\n",
      "Veteran Crypto Trader Tone Vays Says Bitcoin (BTC) Is Priming for a Major Move – Here’s His Outlook\n",
      "PET CASTLE PROTOCOL (PCP) Is Now Available for Trading on LBank Exchange\n",
      "How Erlay Helps Preserve Bitcoin’s Decentralization\n",
      "Binance and Crypto.com Publish Proof-of-Reserve Audits Conducted by Global Auditor Mazars Group\n",
      "Quant Explains How This Nasdaq Support Retest Could Also Help Reverse Bitcoin\n",
      "Bitcoin mining report: TeraWulf, Core Scientific among top performers\n"
     ]
    }
   ],
   "source": [
    "for item in range (len (data['results'])):\n",
    "    print (data['results'][item]['title'])"
   ]
  },
  {
   "cell_type": "markdown",
   "id": "017f3b41",
   "metadata": {},
   "source": [
    "### Ready for sentiment analysis\n",
    "\n",
    "The code loops through the json response and stores the news title, negative, positive, toxic, and timestamp of each item in separate lists. Later we use those lists to build a `pandas` DataFrame."
   ]
  },
  {
   "cell_type": "code",
   "execution_count": 4,
   "id": "7079c396",
   "metadata": {},
   "outputs": [],
   "source": [
    "title=[]\n",
    "negative=[]\n",
    "positive=[]\n",
    "toxic=[]\n",
    "timestamp=[]\n",
    "\n",
    "for item in range (len (data['results'])):\n",
    "    title.append (data['results'][item]['title'])\n",
    "    negative.append (data['results'][item]['votes']['negative'])\n",
    "    positive.append (data['results'][item]['votes']['positive'])\n",
    "    toxic.append (data['results'][item]['votes']['toxic'])\n",
    "    timestamp. append (data['results'][item]['created_at'])"
   ]
  },
  {
   "cell_type": "code",
   "execution_count": 5,
   "id": "36121810",
   "metadata": {},
   "outputs": [
    {
     "data": {
      "text/html": [
       "<div>\n",
       "<style scoped>\n",
       "    .dataframe tbody tr th:only-of-type {\n",
       "        vertical-align: middle;\n",
       "    }\n",
       "\n",
       "    .dataframe tbody tr th {\n",
       "        vertical-align: top;\n",
       "    }\n",
       "\n",
       "    .dataframe thead th {\n",
       "        text-align: right;\n",
       "    }\n",
       "</style>\n",
       "<table border=\"1\" class=\"dataframe\">\n",
       "  <thead>\n",
       "    <tr style=\"text-align: right;\">\n",
       "      <th></th>\n",
       "      <th>title</th>\n",
       "      <th>neg_sentiment</th>\n",
       "      <th>pos_sentiment</th>\n",
       "      <th>toxic</th>\n",
       "      <th>date_time</th>\n",
       "    </tr>\n",
       "  </thead>\n",
       "  <tbody>\n",
       "    <tr>\n",
       "      <th>0</th>\n",
       "      <td>Kazakhstan Lawmakers Pass New Bitcoin Mining B...</td>\n",
       "      <td>0</td>\n",
       "      <td>0</td>\n",
       "      <td>0</td>\n",
       "      <td>2022-12-10T15:51:56Z</td>\n",
       "    </tr>\n",
       "    <tr>\n",
       "      <th>1</th>\n",
       "      <td>This Week in Coins: Bitcoin and Ethereum Flat ...</td>\n",
       "      <td>1</td>\n",
       "      <td>0</td>\n",
       "      <td>0</td>\n",
       "      <td>2022-12-10T14:53:35Z</td>\n",
       "    </tr>\n",
       "    <tr>\n",
       "      <th>2</th>\n",
       "      <td>Texas Senator Ted Cruz Is a Fan of Bitcoin and...</td>\n",
       "      <td>0</td>\n",
       "      <td>1</td>\n",
       "      <td>0</td>\n",
       "      <td>2022-12-10T14:35:58Z</td>\n",
       "    </tr>\n",
       "    <tr>\n",
       "      <th>3</th>\n",
       "      <td>Whales Move Over 275 Million XRP Amid Price Surge</td>\n",
       "      <td>0</td>\n",
       "      <td>0</td>\n",
       "      <td>0</td>\n",
       "      <td>2022-12-10T14:27:03Z</td>\n",
       "    </tr>\n",
       "    <tr>\n",
       "      <th>4</th>\n",
       "      <td>Bitcoin, Ethereum Technical Analysis: BTC, ETH...</td>\n",
       "      <td>0</td>\n",
       "      <td>0</td>\n",
       "      <td>0</td>\n",
       "      <td>2022-12-10T14:00:46Z</td>\n",
       "    </tr>\n",
       "  </tbody>\n",
       "</table>\n",
       "</div>"
      ],
      "text/plain": [
       "                                               title  neg_sentiment  \\\n",
       "0  Kazakhstan Lawmakers Pass New Bitcoin Mining B...              0   \n",
       "1  This Week in Coins: Bitcoin and Ethereum Flat ...              1   \n",
       "2  Texas Senator Ted Cruz Is a Fan of Bitcoin and...              0   \n",
       "3  Whales Move Over 275 Million XRP Amid Price Surge              0   \n",
       "4  Bitcoin, Ethereum Technical Analysis: BTC, ETH...              0   \n",
       "\n",
       "   pos_sentiment  toxic             date_time  \n",
       "0              0      0  2022-12-10T15:51:56Z  \n",
       "1              0      0  2022-12-10T14:53:35Z  \n",
       "2              1      0  2022-12-10T14:35:58Z  \n",
       "3              0      0  2022-12-10T14:27:03Z  \n",
       "4              0      0  2022-12-10T14:00:46Z  "
      ]
     },
     "execution_count": 5,
     "metadata": {},
     "output_type": "execute_result"
    }
   ],
   "source": [
    "df = pd.DataFrame(list(zip(title, negative, positive, toxic, timestamp)),\n",
    "               columns =['title', 'neg_sentiment','pos_sentiment', 'toxic', 'date_time'])\n",
    "df.head()"
   ]
  }
 ],
 "metadata": {
  "kernelspec": {
   "display_name": "Python 3 (ipykernel)",
   "language": "python",
   "name": "python3"
  },
  "language_info": {
   "codemirror_mode": {
    "name": "ipython",
    "version": 3
   },
   "file_extension": ".py",
   "mimetype": "text/x-python",
   "name": "python",
   "nbconvert_exporter": "python",
   "pygments_lexer": "ipython3",
   "version": "3.8.13"
  }
 },
 "nbformat": 4,
 "nbformat_minor": 5
}
