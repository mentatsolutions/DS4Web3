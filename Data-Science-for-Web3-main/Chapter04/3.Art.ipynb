{
 "cells": [
  {
   "cell_type": "markdown",
   "id": "e4c377d4",
   "metadata": {},
   "source": [
    "#### Imports \n",
    "\n",
    "Import the necessary libraries to run the notebook. "
   ]
  },
  {
   "cell_type": "code",
   "execution_count": 1,
   "id": "69fe75de",
   "metadata": {},
   "outputs": [],
   "source": [
    "from web3 import Web3\n",
    "import json\n",
    "import requests\n",
    "from IPython.display import Image"
   ]
  },
  {
   "cell_type": "markdown",
   "id": "e480b7e5",
   "metadata": {},
   "source": [
    "#### Connection\n",
    "Create a connection to the Ethereum network using the `web3` library and the Infura URL provided. Check if the connection to the Ethereum network is successful using the `web3.isConnected()` method. "
   ]
  },
  {
   "cell_type": "code",
   "execution_count": 2,
   "id": "d4389cf2",
   "metadata": {},
   "outputs": [
    {
     "data": {
      "text/plain": [
       "True"
      ]
     },
     "execution_count": 2,
     "metadata": {},
     "output_type": "execute_result"
    }
   ],
   "source": [
    "infura_url= 'https://mainnet.infura.io/v3/[YOUR API KEY]'\n",
    "web3= Web3(Web3.HTTPProvider (infura_url))\n",
    "web3.isConnected()"
   ]
  },
  {
   "cell_type": "markdown",
   "id": "96e7d68d",
   "metadata": {},
   "source": [
    "#### Retrieving the Owner of APE 6633\n",
    "Load the ABI stored in the `ba_abi.json` file. Use the `web3` library to create a contract instance from the Ethereum address stored in the `sc_address` variable and the ABI stored in the `ba_abi.json` file. "
   ]
  },
  {
   "cell_type": "code",
   "execution_count": 3,
   "id": "d8a477b7",
   "metadata": {},
   "outputs": [],
   "source": [
    "sc_address=\"0xBC4CA0EdA7647A8aB7C2061c2E118A18a936f13D\"\n",
    "with open (\"./ba_abi.json\") as f:\n",
    "    abi= json.load (f)"
   ]
  },
  {
   "cell_type": "code",
   "execution_count": 4,
   "id": "e21b251d",
   "metadata": {},
   "outputs": [],
   "source": [
    "baContract = web3.eth.contract(address=sc_address, abi=abi)"
   ]
  },
  {
   "cell_type": "code",
   "execution_count": 5,
   "id": "cc5a86fc",
   "metadata": {},
   "outputs": [
    {
     "name": "stdout",
     "output_type": "stream",
     "text": [
      "The owner of APE 6633:  0xC4505dB8CC490767fA6f4b6f0F2bDd668B357A5D\n"
     ]
    }
   ],
   "source": [
    "print (\"The owner of APE 6633: \", baContract.functions.ownerOf(6633).call())"
   ]
  },
  {
   "cell_type": "markdown",
   "id": "9d2070e8",
   "metadata": {},
   "source": [
    "#### Transactions from Address \n",
    "We can find the transaction trace using the Covalent API. The parameters of the search will return the complete log of the transaction that resulted in the APE 6633 being sold to the current owner. "
   ]
  },
  {
   "cell_type": "code",
   "execution_count": 6,
   "id": "48bdc397",
   "metadata": {},
   "outputs": [],
   "source": [
    "url= \"https://api.covalenthq.com/v1/1/address/0xC4505dB8CC490767fA6f4b6f0F2bDd668B357A5D/transactions_v2/?quote-currency=USD&format=JSON&block-signed-at-asc=false&no-logs=false&page-size=1000&page-number=8&key=[YOUR API KEY]\"\n",
    "response= requests.get (url)\n",
    "data= response.json()"
   ]
  },
  {
   "cell_type": "code",
   "execution_count": 7,
   "id": "8f0545b0",
   "metadata": {},
   "outputs": [
    {
     "name": "stdout",
     "output_type": "stream",
     "text": [
      "{'block_signed_at': '2022-01-20T23:21:01Z', 'block_height': 14045417, 'tx_hash': '0x055ff0db37439fb3d6d92509db2e5805bc0d65e4e746838ec210771c899ccc74', 'tx_offset': 307, 'successful': True, 'from_address': '0xb4c27f85d7659e0cf72f479693c564e61472cb57', 'from_address_label': None, 'to_address': '0xbc4ca0eda7647a8ab7c2061c2e118a18a936f13d', 'to_address_label': None, 'value': '0', 'value_quote': 0.0, 'gas_offered': 134399, 'gas_spent': 124799, 'gas_price': 227296063064, 'fees_paid': '28366321374324136', 'gas_quote': 87.48932532550214, 'gas_quote_rate': 3084.267578125, 'log_events': [{'block_signed_at': '2022-01-20T23:21:01Z', 'block_height': 14045417, 'tx_offset': 307, 'log_offset': 561, 'tx_hash': '0x055ff0db37439fb3d6d92509db2e5805bc0d65e4e746838ec210771c899ccc74', 'raw_log_topics': ['0xddf252ad1be2c89b69c2b068fc378daa952ba7f163c4a11628f55a4df523b3ef', '0x000000000000000000000000b4c27f85d7659e0cf72f479693c564e61472cb57', '0x000000000000000000000000c4505db8cc490767fa6f4b6f0f2bdd668b357a5d', '0x00000000000000000000000000000000000000000000000000000000000019e9'], 'sender_contract_decimals': 0, 'sender_name': 'BoredApeYachtClub', 'sender_contract_ticker_symbol': 'BAYC', 'sender_address': '0xbc4ca0eda7647a8ab7c2061c2e118a18a936f13d', 'sender_address_label': None, 'sender_logo_url': 'https://logos.covalenthq.com/tokens/0xbc4ca0eda7647a8ab7c2061c2e118a18a936f13d.png', 'raw_log_data': None, 'decoded': {'name': 'Transfer', 'signature': 'Transfer(indexed address from, indexed address to, indexed uint256 tokenId)', 'params': [{'name': 'from', 'type': 'address', 'indexed': True, 'decoded': True, 'value': '0xb4c27f85d7659e0cf72f479693c564e61472cb57'}, {'name': 'to', 'type': 'address', 'indexed': True, 'decoded': True, 'value': '0xc4505db8cc490767fa6f4b6f0f2bdd668b357a5d'}, {'name': 'tokenId', 'type': 'uint256', 'indexed': True, 'decoded': True, 'value': '6633'}]}}, {'block_signed_at': '2022-01-20T23:21:01Z', 'block_height': 14045417, 'tx_offset': 307, 'log_offset': 560, 'tx_hash': '0x055ff0db37439fb3d6d92509db2e5805bc0d65e4e746838ec210771c899ccc74', 'raw_log_topics': ['0x8c5be1e5ebec7d5bd14f71427d1e84f3dd0314c0f7b2291e5b200ac8c7c3b925', '0x000000000000000000000000b4c27f85d7659e0cf72f479693c564e61472cb57', '0x0000000000000000000000000000000000000000000000000000000000000000', '0x00000000000000000000000000000000000000000000000000000000000019e9'], 'sender_contract_decimals': 0, 'sender_name': 'BoredApeYachtClub', 'sender_contract_ticker_symbol': 'BAYC', 'sender_address': '0xbc4ca0eda7647a8ab7c2061c2e118a18a936f13d', 'sender_address_label': None, 'sender_logo_url': 'https://logos.covalenthq.com/tokens/0xbc4ca0eda7647a8ab7c2061c2e118a18a936f13d.png', 'raw_log_data': None, 'decoded': {'name': 'Approval', 'signature': 'Approval(indexed address from, indexed address to, indexed uint256 tokenId)', 'params': [{'name': 'from', 'type': 'address', 'indexed': True, 'decoded': True, 'value': '0xb4c27f85d7659e0cf72f479693c564e61472cb57'}, {'name': 'to', 'type': 'address', 'indexed': True, 'decoded': True, 'value': '0x0000000000000000000000000000000000000000'}, {'name': 'tokenId', 'type': 'uint256', 'indexed': True, 'decoded': True, 'value': '6633'}]}}]}\n"
     ]
    }
   ],
   "source": [
    "for element in data['data']['items']:\n",
    "    if element['to_address'] == '0xbc4ca0eda7647a8ab7c2061c2e118a18a936f13d' and element [\"log_events\"][0][\"decoded\"][\"params\"][2][\"value\"] == '6633':\n",
    "        print (element)\n",
    "        break\n",
    "else:\n",
    "    print ('keep looking')"
   ]
  },
  {
   "cell_type": "markdown",
   "id": "63d080e1",
   "metadata": {},
   "source": [
    "### Floor price - State data\n",
    "The code in this cell will create a web3 object, convert an address to a checksum address, and create a contract object using the Chainlink price feed address and abi provided. The contract object can then be used to interact with the contract at the given address"
   ]
  },
  {
   "cell_type": "code",
   "execution_count": 3,
   "id": "c71ec485",
   "metadata": {},
   "outputs": [],
   "source": [
    "abi='[{\"inputs\":[{\"internalType\":\"address\",\"name\":\"_aggregator\",\"type\":\"address\"},{\"internalType\":\"address\",\"name\":\"_accessController\",\"type\":\"address\"}],\"stateMutability\":\"nonpayable\",\"type\":\"constructor\"},{\"anonymous\":false,\"inputs\":[{\"indexed\":true,\"internalType\":\"int256\",\"name\":\"current\",\"type\":\"int256\"},{\"indexed\":true,\"internalType\":\"uint256\",\"name\":\"roundId\",\"type\":\"uint256\"},{\"indexed\":false,\"internalType\":\"uint256\",\"name\":\"updatedAt\",\"type\":\"uint256\"}],\"name\":\"AnswerUpdated\",\"type\":\"event\"},{\"anonymous\":false,\"inputs\":[{\"indexed\":true,\"internalType\":\"uint256\",\"name\":\"roundId\",\"type\":\"uint256\"},{\"indexed\":true,\"internalType\":\"address\",\"name\":\"startedBy\",\"type\":\"address\"},{\"indexed\":false,\"internalType\":\"uint256\",\"name\":\"startedAt\",\"type\":\"uint256\"}],\"name\":\"NewRound\",\"type\":\"event\"},{\"anonymous\":false,\"inputs\":[{\"indexed\":true,\"internalType\":\"address\",\"name\":\"from\",\"type\":\"address\"},{\"indexed\":true,\"internalType\":\"address\",\"name\":\"to\",\"type\":\"address\"}],\"name\":\"OwnershipTransferRequested\",\"type\":\"event\"},{\"anonymous\":false,\"inputs\":[{\"indexed\":true,\"internalType\":\"address\",\"name\":\"from\",\"type\":\"address\"},{\"indexed\":true,\"internalType\":\"address\",\"name\":\"to\",\"type\":\"address\"}],\"name\":\"OwnershipTransferred\",\"type\":\"event\"},{\"inputs\":[],\"name\":\"acceptOwnership\",\"outputs\":[],\"stateMutability\":\"nonpayable\",\"type\":\"function\"},{\"inputs\":[],\"name\":\"accessController\",\"outputs\":[{\"internalType\":\"contract AccessControllerInterface\",\"name\":\"\",\"type\":\"address\"}],\"stateMutability\":\"view\",\"type\":\"function\"},{\"inputs\":[],\"name\":\"aggregator\",\"outputs\":[{\"internalType\":\"address\",\"name\":\"\",\"type\":\"address\"}],\"stateMutability\":\"view\",\"type\":\"function\"},{\"inputs\":[{\"internalType\":\"address\",\"name\":\"_aggregator\",\"type\":\"address\"}],\"name\":\"confirmAggregator\",\"outputs\":[],\"stateMutability\":\"nonpayable\",\"type\":\"function\"},{\"inputs\":[],\"name\":\"decimals\",\"outputs\":[{\"internalType\":\"uint8\",\"name\":\"\",\"type\":\"uint8\"}],\"stateMutability\":\"view\",\"type\":\"function\"},{\"inputs\":[],\"name\":\"description\",\"outputs\":[{\"internalType\":\"string\",\"name\":\"\",\"type\":\"string\"}],\"stateMutability\":\"view\",\"type\":\"function\"},{\"inputs\":[{\"internalType\":\"uint256\",\"name\":\"_roundId\",\"type\":\"uint256\"}],\"name\":\"getAnswer\",\"outputs\":[{\"internalType\":\"int256\",\"name\":\"\",\"type\":\"int256\"}],\"stateMutability\":\"view\",\"type\":\"function\"},{\"inputs\":[{\"internalType\":\"uint80\",\"name\":\"_roundId\",\"type\":\"uint80\"}],\"name\":\"getRoundData\",\"outputs\":[{\"internalType\":\"uint80\",\"name\":\"roundId\",\"type\":\"uint80\"},{\"internalType\":\"int256\",\"name\":\"answer\",\"type\":\"int256\"},{\"internalType\":\"uint256\",\"name\":\"startedAt\",\"type\":\"uint256\"},{\"internalType\":\"uint256\",\"name\":\"updatedAt\",\"type\":\"uint256\"},{\"internalType\":\"uint80\",\"name\":\"answeredInRound\",\"type\":\"uint80\"}],\"stateMutability\":\"view\",\"type\":\"function\"},{\"inputs\":[{\"internalType\":\"uint256\",\"name\":\"_roundId\",\"type\":\"uint256\"}],\"name\":\"getTimestamp\",\"outputs\":[{\"internalType\":\"uint256\",\"name\":\"\",\"type\":\"uint256\"}],\"stateMutability\":\"view\",\"type\":\"function\"},{\"inputs\":[],\"name\":\"latestAnswer\",\"outputs\":[{\"internalType\":\"int256\",\"name\":\"\",\"type\":\"int256\"}],\"stateMutability\":\"view\",\"type\":\"function\"},{\"inputs\":[],\"name\":\"latestRound\",\"outputs\":[{\"internalType\":\"uint256\",\"name\":\"\",\"type\":\"uint256\"}],\"stateMutability\":\"view\",\"type\":\"function\"},{\"inputs\":[],\"name\":\"latestRoundData\",\"outputs\":[{\"internalType\":\"uint80\",\"name\":\"roundId\",\"type\":\"uint80\"},{\"internalType\":\"int256\",\"name\":\"answer\",\"type\":\"int256\"},{\"internalType\":\"uint256\",\"name\":\"startedAt\",\"type\":\"uint256\"},{\"internalType\":\"uint256\",\"name\":\"updatedAt\",\"type\":\"uint256\"},{\"internalType\":\"uint80\",\"name\":\"answeredInRound\",\"type\":\"uint80\"}],\"stateMutability\":\"view\",\"type\":\"function\"},{\"inputs\":[],\"name\":\"latestTimestamp\",\"outputs\":[{\"internalType\":\"uint256\",\"name\":\"\",\"type\":\"uint256\"}],\"stateMutability\":\"view\",\"type\":\"function\"},{\"inputs\":[],\"name\":\"owner\",\"outputs\":[{\"internalType\":\"address\",\"name\":\"\",\"type\":\"address\"}],\"stateMutability\":\"view\",\"type\":\"function\"},{\"inputs\":[{\"internalType\":\"uint16\",\"name\":\"\",\"type\":\"uint16\"}],\"name\":\"phaseAggregators\",\"outputs\":[{\"internalType\":\"contract AggregatorV2V3Interface\",\"name\":\"\",\"type\":\"address\"}],\"stateMutability\":\"view\",\"type\":\"function\"},{\"inputs\":[],\"name\":\"phaseId\",\"outputs\":[{\"internalType\":\"uint16\",\"name\":\"\",\"type\":\"uint16\"}],\"stateMutability\":\"view\",\"type\":\"function\"},{\"inputs\":[{\"internalType\":\"address\",\"name\":\"_aggregator\",\"type\":\"address\"}],\"name\":\"proposeAggregator\",\"outputs\":[],\"stateMutability\":\"nonpayable\",\"type\":\"function\"},{\"inputs\":[],\"name\":\"proposedAggregator\",\"outputs\":[{\"internalType\":\"contract AggregatorV2V3Interface\",\"name\":\"\",\"type\":\"address\"}],\"stateMutability\":\"view\",\"type\":\"function\"},{\"inputs\":[{\"internalType\":\"uint80\",\"name\":\"_roundId\",\"type\":\"uint80\"}],\"name\":\"proposedGetRoundData\",\"outputs\":[{\"internalType\":\"uint80\",\"name\":\"roundId\",\"type\":\"uint80\"},{\"internalType\":\"int256\",\"name\":\"answer\",\"type\":\"int256\"},{\"internalType\":\"uint256\",\"name\":\"startedAt\",\"type\":\"uint256\"},{\"internalType\":\"uint256\",\"name\":\"updatedAt\",\"type\":\"uint256\"},{\"internalType\":\"uint80\",\"name\":\"answeredInRound\",\"type\":\"uint80\"}],\"stateMutability\":\"view\",\"type\":\"function\"},{\"inputs\":[],\"name\":\"proposedLatestRoundData\",\"outputs\":[{\"internalType\":\"uint80\",\"name\":\"roundId\",\"type\":\"uint80\"},{\"internalType\":\"int256\",\"name\":\"answer\",\"type\":\"int256\"},{\"internalType\":\"uint256\",\"name\":\"startedAt\",\"type\":\"uint256\"},{\"internalType\":\"uint256\",\"name\":\"updatedAt\",\"type\":\"uint256\"},{\"internalType\":\"uint80\",\"name\":\"answeredInRound\",\"type\":\"uint80\"}],\"stateMutability\":\"view\",\"type\":\"function\"},{\"inputs\":[{\"internalType\":\"address\",\"name\":\"_accessController\",\"type\":\"address\"}],\"name\":\"setController\",\"outputs\":[],\"stateMutability\":\"nonpayable\",\"type\":\"function\"},{\"inputs\":[{\"internalType\":\"address\",\"name\":\"_to\",\"type\":\"address\"}],\"name\":\"transferOwnership\",\"outputs\":[],\"stateMutability\":\"nonpayable\",\"type\":\"function\"},{\"inputs\":[],\"name\":\"version\",\"outputs\":[{\"internalType\":\"uint256\",\"name\":\"\",\"type\":\"uint256\"}],\"stateMutability\":\"view\",\"type\":\"function\"}]'\n",
    "addr = web3.toChecksumAddress('0x352f2Bc3039429fC2fe62004a1575aE74001CfcE')\n",
    "contract = web3.eth.contract(address=addr, abi=abi)"
   ]
  },
  {
   "cell_type": "markdown",
   "id": "fca03c95",
   "metadata": {},
   "source": [
    "List all the functions available in the contract object created in the previous cell."
   ]
  },
  {
   "cell_type": "code",
   "execution_count": 12,
   "id": "922ec6a1",
   "metadata": {},
   "outputs": [
    {
     "data": {
      "text/plain": [
       "[<Function acceptOwnership()>,\n",
       " <Function accessController()>,\n",
       " <Function aggregator()>,\n",
       " <Function confirmAggregator(address)>,\n",
       " <Function decimals()>,\n",
       " <Function description()>,\n",
       " <Function getAnswer(uint256)>,\n",
       " <Function getRoundData(uint80)>,\n",
       " <Function getTimestamp(uint256)>,\n",
       " <Function latestAnswer()>,\n",
       " <Function latestRound()>,\n",
       " <Function latestRoundData()>,\n",
       " <Function latestTimestamp()>,\n",
       " <Function owner()>,\n",
       " <Function phaseAggregators(uint16)>,\n",
       " <Function phaseId()>,\n",
       " <Function proposeAggregator(address)>,\n",
       " <Function proposedAggregator()>,\n",
       " <Function proposedGetRoundData(uint80)>,\n",
       " <Function proposedLatestRoundData()>,\n",
       " <Function setController(address)>,\n",
       " <Function transferOwnership(address)>,\n",
       " <Function version()>]"
      ]
     },
     "execution_count": 12,
     "metadata": {},
     "output_type": "execute_result"
    }
   ],
   "source": [
    "contract.all_functions()"
   ]
  },
  {
   "cell_type": "markdown",
   "id": "7cb9764f",
   "metadata": {},
   "source": [
    "Retrieve the latest round data from the price feed instantiated in the previous cell."
   ]
  },
  {
   "cell_type": "code",
   "execution_count": 6,
   "id": "2e72ce54",
   "metadata": {},
   "outputs": [
    {
     "data": {
      "text/plain": [
       "68600000000000000000"
      ]
     },
     "execution_count": 6,
     "metadata": {},
     "output_type": "execute_result"
    }
   ],
   "source": [
    "latestData = contract.functions.latestRoundData().call()\n",
    "latestData[1]"
   ]
  },
  {
   "cell_type": "markdown",
   "id": "c23a64f1",
   "metadata": {},
   "source": [
    "Retrieve the number of decimals of the price feed instantiated in the previous cell. "
   ]
  },
  {
   "cell_type": "code",
   "execution_count": 4,
   "id": "3434529c",
   "metadata": {},
   "outputs": [
    {
     "data": {
      "text/plain": [
       "18"
      ]
     },
     "execution_count": 4,
     "metadata": {},
     "output_type": "execute_result"
    }
   ],
   "source": [
    "decimal=contract.functions.decimals().call()\n",
    "decimal"
   ]
  },
  {
   "cell_type": "markdown",
   "id": "435b8fa1",
   "metadata": {},
   "source": [
    "We retrive the latest round data and transform it to decimal. "
   ]
  },
  {
   "cell_type": "code",
   "execution_count": 7,
   "id": "528e0df3",
   "metadata": {},
   "outputs": [
    {
     "data": {
      "text/plain": [
       "68.60000000000001"
      ]
     },
     "execution_count": 7,
     "metadata": {},
     "output_type": "execute_result"
    }
   ],
   "source": [
    "latestData[1]*10**-decimal"
   ]
  }
 ],
 "metadata": {
  "kernelspec": {
   "display_name": "Python 3 (ipykernel)",
   "language": "python",
   "name": "python3"
  },
  "language_info": {
   "codemirror_mode": {
    "name": "ipython",
    "version": 3
   },
   "file_extension": ".py",
   "mimetype": "text/x-python",
   "name": "python",
   "nbconvert_exporter": "python",
   "pygments_lexer": "ipython3",
   "version": "3.8.13"
  }
 },
 "nbformat": 4,
 "nbformat_minor": 5
}
