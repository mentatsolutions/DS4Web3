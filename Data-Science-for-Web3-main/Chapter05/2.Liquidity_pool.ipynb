{
 "cells": [
  {
   "cell_type": "code",
   "execution_count": 1,
   "id": "d09a4d75",
   "metadata": {},
   "outputs": [],
   "source": [
    "from web3 import Web3\n",
    "from datetime import datetime\n",
    "import pandas as pd\n",
    "import requests\n",
    "import json\n",
    "from IPython.display import Image"
   ]
  },
  {
   "cell_type": "code",
   "execution_count": 2,
   "id": "a0d3e021",
   "metadata": {},
   "outputs": [
    {
     "data": {
      "text/plain": [
       "True"
      ]
     },
     "execution_count": 2,
     "metadata": {},
     "output_type": "execute_result"
    }
   ],
   "source": [
    "infura_url= 'https://mainnet.infura.io/v3/[YOUR KEY]'\n",
    "web3= Web3(Web3.HTTPProvider (infura_url))\n",
    "web3.isConnected()"
   ]
  },
  {
   "cell_type": "code",
   "execution_count": 3,
   "id": "bd06dfbd",
   "metadata": {},
   "outputs": [],
   "source": [
    "sc_address=\"0x88e6A0c2dDD26FEEb64F039a2c41296FcB3f5640\"\n",
    "with open (\"./pool_abi.json\") as f:\n",
    "    abi= json.load (f)"
   ]
  },
  {
   "cell_type": "code",
   "execution_count": 4,
   "id": "7070c894",
   "metadata": {},
   "outputs": [],
   "source": [
    "poolContract = web3.eth.contract(address=sc_address, abi=abi)"
   ]
  },
  {
   "cell_type": "code",
   "execution_count": 5,
   "id": "ecb07241",
   "metadata": {},
   "outputs": [
    {
     "data": {
      "text/plain": [
       "[<Function burn(int24,int24,uint128)>,\n",
       " <Function collect(address,int24,int24,uint128,uint128)>,\n",
       " <Function collectProtocol(address,uint128,uint128)>,\n",
       " <Function factory()>,\n",
       " <Function fee()>,\n",
       " <Function feeGrowthGlobal0X128()>,\n",
       " <Function feeGrowthGlobal1X128()>,\n",
       " <Function flash(address,uint256,uint256,bytes)>,\n",
       " <Function increaseObservationCardinalityNext(uint16)>,\n",
       " <Function initialize(uint160)>,\n",
       " <Function liquidity()>,\n",
       " <Function maxLiquidityPerTick()>,\n",
       " <Function mint(address,int24,int24,uint128,bytes)>,\n",
       " <Function observations(uint256)>,\n",
       " <Function observe(uint32[])>,\n",
       " <Function positions(bytes32)>,\n",
       " <Function protocolFees()>,\n",
       " <Function setFeeProtocol(uint8,uint8)>,\n",
       " <Function slot0()>,\n",
       " <Function snapshotCumulativesInside(int24,int24)>,\n",
       " <Function swap(address,bool,int256,uint160,bytes)>,\n",
       " <Function tickBitmap(int16)>,\n",
       " <Function tickSpacing()>,\n",
       " <Function ticks(int24)>,\n",
       " <Function token0()>,\n",
       " <Function token1()>]"
      ]
     },
     "execution_count": 5,
     "metadata": {},
     "output_type": "execute_result"
    }
   ],
   "source": [
    "poolContract.all_functions()"
   ]
  },
  {
   "cell_type": "code",
   "execution_count": 6,
   "id": "3430757b",
   "metadata": {},
   "outputs": [
    {
     "name": "stdout",
     "output_type": "stream",
     "text": [
      "Token0:  0xA0b86991c6218b36c1d19D4a2e9Eb0cE3606eB48 and Token1:  0xC02aaA39b223FE8D0A0e5C4F27eAD9083C756Cc2\n"
     ]
    }
   ],
   "source": [
    "print (\"Token0: \", poolContract.functions.token0().call(), \"and Token1: \", poolContract.functions.token1().call())"
   ]
  },
  {
   "cell_type": "code",
   "execution_count": 24,
   "id": "fe8606e8",
   "metadata": {},
   "outputs": [],
   "source": [
    "token0=poolContract.functions.token0().call()\n",
    "token1=poolContract.functions.token1().call()"
   ]
  },
  {
   "cell_type": "code",
   "execution_count": 8,
   "id": "26ac70b2",
   "metadata": {},
   "outputs": [
    {
     "data": {
      "text/plain": [
       "37.06954217032682"
      ]
     },
     "execution_count": 8,
     "metadata": {},
     "output_type": "execute_result"
    }
   ],
   "source": [
    "poolContract.functions.liquidity().call()*10**-18"
   ]
  },
  {
   "cell_type": "markdown",
   "id": "ef76e0b4",
   "metadata": {},
   "source": [
    "## Tokens locked"
   ]
  },
  {
   "cell_type": "code",
   "execution_count": 30,
   "id": "53acaaee",
   "metadata": {},
   "outputs": [
    {
     "data": {
      "text/plain": [
       "113370615.185584"
      ]
     },
     "execution_count": 30,
     "metadata": {},
     "output_type": "execute_result"
    }
   ],
   "source": [
    "with open (\"./erc20_abi.json\") as f:\n",
    "    erc_abi= json.load (f)\n",
    "token0Contract = web3.eth.contract(address=token0, abi=erc_abi)\n",
    "token0Contract.functions.balanceOf(sc_address).call()*10**-6"
   ]
  },
  {
   "cell_type": "code",
   "execution_count": 31,
   "id": "c2bc04a2",
   "metadata": {},
   "outputs": [
    {
     "data": {
      "text/plain": [
       "68597.4830382957"
      ]
     },
     "execution_count": 31,
     "metadata": {},
     "output_type": "execute_result"
    }
   ],
   "source": [
    "with open (\"./erc20_abi.json\") as f:\n",
    "    erc_abi= json.load (f)\n",
    "token1Contract = web3.eth.contract(address=token1, abi=erc_abi)\n",
    "token1Contract.functions.balanceOf(sc_address).call()*10**-18"
   ]
  },
  {
   "cell_type": "markdown",
   "id": "06721269",
   "metadata": {},
   "source": [
    "## Prices\n",
    "\n",
    "https://stackoverflow.com/questions/74555451/uniswap-v3-what-does-price-mean-at-a-given-tick best explanation"
   ]
  },
  {
   "cell_type": "code",
   "execution_count": 46,
   "id": "6bb76da9",
   "metadata": {},
   "outputs": [],
   "source": [
    "slot= poolContract.functions.slot0().call()"
   ]
  },
  {
   "cell_type": "markdown",
   "id": "3a63ce8f",
   "metadata": {},
   "source": [
    "### USDC"
   ]
  },
  {
   "cell_type": "code",
   "execution_count": 47,
   "id": "0af26dff",
   "metadata": {},
   "outputs": [
    {
     "data": {
      "text/plain": [
       "525939098.6327819"
      ]
     },
     "execution_count": 47,
     "metadata": {},
     "output_type": "execute_result"
    }
   ],
   "source": [
    "1.0001 **  slot[1]"
   ]
  },
  {
   "cell_type": "markdown",
   "id": "42972e30",
   "metadata": {},
   "source": [
    "Expressed in gwei multiply it by 10**6 (the decimals of USDC) and divide by 10**18 (the decimals of [W]ETH), which is equal to multiplying the price by 10**-12."
   ]
  },
  {
   "cell_type": "code",
   "execution_count": 34,
   "id": "891a3fbd",
   "metadata": {},
   "outputs": [
    {
     "data": {
      "text/plain": [
       "0.0005267812326121342"
      ]
     },
     "execution_count": 34,
     "metadata": {},
     "output_type": "execute_result"
    }
   ],
   "source": [
    "1.0001 ** 200833 * (10 ** -12) "
   ]
  },
  {
   "cell_type": "markdown",
   "id": "c21fe7f7",
   "metadata": {},
   "source": [
    "The inverse to get the Ethereum price"
   ]
  },
  {
   "cell_type": "code",
   "execution_count": 37,
   "id": "646f4c04",
   "metadata": {},
   "outputs": [
    {
     "data": {
      "text/plain": [
       "1898.3212348726436"
      ]
     },
     "execution_count": 37,
     "metadata": {},
     "output_type": "execute_result"
    }
   ],
   "source": [
    "1 / 0.0005267812326121342"
   ]
  }
 ],
 "metadata": {
  "kernelspec": {
   "display_name": "Python 3 (ipykernel)",
   "language": "python",
   "name": "python3"
  },
  "language_info": {
   "codemirror_mode": {
    "name": "ipython",
    "version": 3
   },
   "file_extension": ".py",
   "mimetype": "text/x-python",
   "name": "python",
   "nbconvert_exporter": "python",
   "pygments_lexer": "ipython3",
   "version": "3.8.13"
  }
 },
 "nbformat": 4,
 "nbformat_minor": 5
}
