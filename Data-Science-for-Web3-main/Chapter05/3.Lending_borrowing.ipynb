{
 "cells": [
  {
   "cell_type": "code",
   "execution_count": 105,
   "id": "f0b69b8e",
   "metadata": {},
   "outputs": [],
   "source": [
    "from web3 import Web3\n",
    "from datetime import datetime\n",
    "import pandas as pd\n",
    "import requests\n",
    "import json\n",
    "from IPython.display import Image"
   ]
  },
  {
   "cell_type": "code",
   "execution_count": 106,
   "id": "c302c238",
   "metadata": {},
   "outputs": [
    {
     "data": {
      "text/plain": [
       "True"
      ]
     },
     "execution_count": 106,
     "metadata": {},
     "output_type": "execute_result"
    }
   ],
   "source": [
    "infura_url= 'https://polygon-mainnet.infura.io/v3/[YOUR KEY]'\n",
    "web3= Web3(Web3.HTTPProvider (infura_url))\n",
    "web3.isConnected()"
   ]
  },
  {
   "cell_type": "code",
   "execution_count": 107,
   "id": "fddb1d6b",
   "metadata": {},
   "outputs": [],
   "source": [
    "sc_address=\"0xF25212E676D1F7F89Cd72fFEe66158f541246445\" ## https://docs.compound.finance/#developer-resources \n",
    "with open (\"./ctoken_abi.json\") as f:\n",
    "    abi= json.load (f)"
   ]
  },
  {
   "cell_type": "code",
   "execution_count": 108,
   "id": "d2f34b4e",
   "metadata": {},
   "outputs": [],
   "source": [
    "ctokenContract = web3.eth.contract(address=sc_address, abi=abi)"
   ]
  },
  {
   "cell_type": "code",
   "execution_count": 109,
   "id": "6fcd95a1",
   "metadata": {},
   "outputs": [
    {
     "data": {
      "text/plain": [
       "[<Function absorb(address,address[])>,\n",
       " <Function accrueAccount(address)>,\n",
       " <Function approveThis(address,address,uint256)>,\n",
       " <Function balanceOf(address)>,\n",
       " <Function baseBorrowMin()>,\n",
       " <Function baseMinForRewards()>,\n",
       " <Function baseScale()>,\n",
       " <Function baseToken()>,\n",
       " <Function baseTokenPriceFeed()>,\n",
       " <Function baseTrackingBorrowSpeed()>,\n",
       " <Function baseTrackingSupplySpeed()>,\n",
       " <Function borrowBalanceOf(address)>,\n",
       " <Function borrowKink()>,\n",
       " <Function borrowPerSecondInterestRateBase()>,\n",
       " <Function borrowPerSecondInterestRateSlopeHigh()>,\n",
       " <Function borrowPerSecondInterestRateSlopeLow()>,\n",
       " <Function buyCollateral(address,uint256,uint256,address)>,\n",
       " <Function decimals()>,\n",
       " <Function extensionDelegate()>,\n",
       " <Function getAssetInfo(uint8)>,\n",
       " <Function getAssetInfoByAddress(address)>,\n",
       " <Function getBorrowRate(uint256)>,\n",
       " <Function getCollateralReserves(address)>,\n",
       " <Function getPrice(address)>,\n",
       " <Function getReserves()>,\n",
       " <Function getSupplyRate(uint256)>,\n",
       " <Function getUtilization()>,\n",
       " <Function governor()>,\n",
       " <Function hasPermission(address,address)>,\n",
       " <Function initializeStorage()>,\n",
       " <Function isAbsorbPaused()>,\n",
       " <Function isAllowed(address,address)>,\n",
       " <Function isBorrowCollateralized(address)>,\n",
       " <Function isBuyPaused()>,\n",
       " <Function isLiquidatable(address)>,\n",
       " <Function isSupplyPaused()>,\n",
       " <Function isTransferPaused()>,\n",
       " <Function isWithdrawPaused()>,\n",
       " <Function liquidatorPoints(address)>,\n",
       " <Function numAssets()>,\n",
       " <Function pause(bool,bool,bool,bool,bool)>,\n",
       " <Function pauseGuardian()>,\n",
       " <Function quoteCollateral(address,uint256)>,\n",
       " <Function storeFrontPriceFactor()>,\n",
       " <Function supply(address,uint256)>,\n",
       " <Function supplyFrom(address,address,address,uint256)>,\n",
       " <Function supplyKink()>,\n",
       " <Function supplyPerSecondInterestRateBase()>,\n",
       " <Function supplyPerSecondInterestRateSlopeHigh()>,\n",
       " <Function supplyPerSecondInterestRateSlopeLow()>,\n",
       " <Function supplyTo(address,address,uint256)>,\n",
       " <Function targetReserves()>,\n",
       " <Function totalBorrow()>,\n",
       " <Function totalSupply()>,\n",
       " <Function totalsCollateral(address)>,\n",
       " <Function trackingIndexScale()>,\n",
       " <Function transfer(address,uint256)>,\n",
       " <Function transferAsset(address,address,uint256)>,\n",
       " <Function transferAssetFrom(address,address,address,uint256)>,\n",
       " <Function transferFrom(address,address,uint256)>,\n",
       " <Function userBasic(address)>,\n",
       " <Function userCollateral(address,address)>,\n",
       " <Function userNonce(address)>,\n",
       " <Function withdraw(address,uint256)>,\n",
       " <Function withdrawFrom(address,address,address,uint256)>,\n",
       " <Function withdrawReserves(address,uint256)>,\n",
       " <Function withdrawTo(address,address,uint256)>]"
      ]
     },
     "execution_count": 109,
     "metadata": {},
     "output_type": "execute_result"
    }
   ],
   "source": [
    "ctokenContract.all_functions()"
   ]
  },
  {
   "cell_type": "code",
   "execution_count": 110,
   "id": "478de567",
   "metadata": {},
   "outputs": [],
   "source": [
    "##Basic data"
   ]
  },
  {
   "cell_type": "code",
   "execution_count": 63,
   "id": "a6ea73e0",
   "metadata": {},
   "outputs": [],
   "source": [
    "decimal=ctokenContract.functions.decimals().call()\n",
    "asset_number=ctokenContract.functions.numAssets().call()"
   ]
  },
  {
   "cell_type": "code",
   "execution_count": 100,
   "id": "53f565d2",
   "metadata": {},
   "outputs": [
    {
     "data": {
      "text/plain": [
       "6"
      ]
     },
     "execution_count": 100,
     "metadata": {},
     "output_type": "execute_result"
    }
   ],
   "source": [
    "decimal=ctokenContract.functions.decimals().call()\n",
    "decimal"
   ]
  },
  {
   "cell_type": "code",
   "execution_count": 83,
   "id": "e8839e2c",
   "metadata": {},
   "outputs": [
    {
     "name": "stdout",
     "output_type": "stream",
     "text": [
      "collateral_order 0\n",
      "collateral_token 0x7ceB23fD6bC0adD59E62ac25578270cFf1b9f619\n",
      "chainlink_price_feed 0xF9680D99D6C9589e2a93a78A04A279e509205945\n",
      "------------------------------------------------\n",
      "collateral_order 1\n",
      "collateral_token 0x1BFD67037B42Cf73acF2047067bd4F2C47D9BfD6\n",
      "chainlink_price_feed 0xDE31F8bFBD8c84b5360CFACCa3539B938dd78ae6\n",
      "------------------------------------------------\n",
      "collateral_order 2\n",
      "collateral_token 0x0d500B1d8E8eF31E21C99d1Db9A6444d3ADf1270\n",
      "chainlink_price_feed 0xAB594600376Ec9fD91F8e885dADF0CE036862dE0\n",
      "------------------------------------------------\n"
     ]
    }
   ],
   "source": [
    "for x in range (0,asset_number):\n",
    "   # print (ctokenContract.functions.getAssetInfo(x).call())\n",
    "    print ('collateral_order',ctokenContract.functions.getAssetInfo(x).call()[0])\n",
    "    print ('collateral_token',ctokenContract.functions.getAssetInfo(x).call()[1])\n",
    "    print ('chainlink_price_feed',ctokenContract.functions.getAssetInfo(x).call()[2])\n",
    "    print ('------------------------------------------------')"
   ]
  },
  {
   "cell_type": "code",
   "execution_count": 60,
   "id": "48c7a516",
   "metadata": {},
   "outputs": [
    {
     "name": "stdout",
     "output_type": "stream",
     "text": [
      "(PoS) Wrapped BTC 595.78446307\n",
      "Wrapped Ether 7531.341128725864\n",
      "Wrapped Matic 3586508.6568912677\n",
      "USD Coin (PoS) 5419955.259935999\n"
     ]
    }
   ],
   "source": [
    "collateral0='0x7ceB23fD6bC0adD59E62ac25578270cFf1b9f619' ###Wrapped Ether\n",
    "collateral1='0x1BFD67037B42Cf73acF2047067bd4F2C47D9BfD6' ###Wrapped Bitcoin\n",
    "collateral2='0x0d500B1d8E8eF31E21C99d1Db9A6444d3ADf1270' ###WMatic\n",
    "basetoken= ctokenContract.functions.baseToken().call()\n",
    "collateral_list=[collateral0, collateral1, collateral2,basetoken]\n",
    "tvl={}\n",
    "with open (\"./erc20_abi.json\") as f:\n",
    "    erc_abi= json.load (f)\n",
    "for collateral in collateral_list:\n",
    "    collateralcontract = web3.eth.contract(address=collateral, abi=erc_abi)\n",
    "    decimal=collateralcontract.functions.decimals().call()\n",
    "    locked= (collateralcontract.functions.balanceOf(sc_address).call())*10**-(int(decimal))\n",
    "    print (collateralcontract.functions.name().call(), locked)\n",
    "    tvl[collateralcontract.functions.name().call()]=locked"
   ]
  },
  {
   "cell_type": "code",
   "execution_count": 42,
   "id": "871a55b4",
   "metadata": {},
   "outputs": [],
   "source": [
    "url = \"https://api.coingecko.com/api/v3/simple/price?ids=bitcoin&vs_currencies=usd\"\n",
    "btc_price = requests.get(url).json()[\"bitcoin\"][\"usd\"]\n",
    "\n",
    "url = \"https://api.coingecko.com/api/v3/simple/price?ids=ethereum&vs_currencies=usd\"\n",
    "eth_price = requests.get(url).json()[\"ethereum\"][\"usd\"]\n",
    "\n",
    "url = \"https://api.coingecko.com/api/v3/simple/price?ids=matic-network&vs_currencies=usd\"\n",
    "matic_price = requests.get(url).json()[\"matic-network\"][\"usd\"]\n",
    "\n",
    "url = \"https://api.coingecko.com/api/v3/simple/price?ids=usd-coin&vs_currencies=usd\"\n",
    "usdc_price = requests.get(url).json()[\"usd-coin\"][\"usd\"]"
   ]
  },
  {
   "cell_type": "code",
   "execution_count": 43,
   "id": "b2a87b00",
   "metadata": {},
   "outputs": [],
   "source": [
    "prices_dic={'(PoS) Wrapped BTC':btc_price, \n",
    "         'Wrapped Ether': eth_price,\n",
    "         'Wrapped Matic': matic_price,\n",
    "        'USD Coin (PoS)': usdc_price}"
   ]
  },
  {
   "cell_type": "code",
   "execution_count": 39,
   "id": "e2155bae",
   "metadata": {},
   "outputs": [],
   "source": [
    "df=pd.DataFrame.from_dict(tvl, orient='index', columns=['token_amount'])"
   ]
  },
  {
   "cell_type": "code",
   "execution_count": 44,
   "id": "0e7fbc94",
   "metadata": {},
   "outputs": [],
   "source": [
    "df['price'] = df.index.map(prices_dic)"
   ]
  },
  {
   "cell_type": "code",
   "execution_count": 45,
   "id": "5745bb58",
   "metadata": {},
   "outputs": [
    {
     "data": {
      "text/html": [
       "<div>\n",
       "<style scoped>\n",
       "    .dataframe tbody tr th:only-of-type {\n",
       "        vertical-align: middle;\n",
       "    }\n",
       "\n",
       "    .dataframe tbody tr th {\n",
       "        vertical-align: top;\n",
       "    }\n",
       "\n",
       "    .dataframe thead th {\n",
       "        text-align: right;\n",
       "    }\n",
       "</style>\n",
       "<table border=\"1\" class=\"dataframe\">\n",
       "  <thead>\n",
       "    <tr style=\"text-align: right;\">\n",
       "      <th></th>\n",
       "      <th>token_amount</th>\n",
       "      <th>price</th>\n",
       "    </tr>\n",
       "  </thead>\n",
       "  <tbody>\n",
       "    <tr>\n",
       "      <th>(PoS) Wrapped BTC</th>\n",
       "      <td>5.957845e+02</td>\n",
       "      <td>29895.000000</td>\n",
       "    </tr>\n",
       "    <tr>\n",
       "      <th>Wrapped Ether</th>\n",
       "      <td>7.531341e+03</td>\n",
       "      <td>1874.150000</td>\n",
       "    </tr>\n",
       "    <tr>\n",
       "      <th>Wrapped Matic</th>\n",
       "      <td>3.586509e+06</td>\n",
       "      <td>0.749631</td>\n",
       "    </tr>\n",
       "    <tr>\n",
       "      <th>USD Coin (PoS)</th>\n",
       "      <td>5.419955e+06</td>\n",
       "      <td>0.999911</td>\n",
       "    </tr>\n",
       "  </tbody>\n",
       "</table>\n",
       "</div>"
      ],
      "text/plain": [
       "                   token_amount         price\n",
       "(PoS) Wrapped BTC  5.957845e+02  29895.000000\n",
       "Wrapped Ether      7.531341e+03   1874.150000\n",
       "Wrapped Matic      3.586509e+06      0.749631\n",
       "USD Coin (PoS)     5.419955e+06      0.999911"
      ]
     },
     "execution_count": 45,
     "metadata": {},
     "output_type": "execute_result"
    }
   ],
   "source": [
    "df.head()"
   ]
  },
  {
   "cell_type": "code",
   "execution_count": 46,
   "id": "07ac56f5",
   "metadata": {},
   "outputs": [],
   "source": [
    "df['amount_usd']=df['token_amount']*df['price']"
   ]
  },
  {
   "cell_type": "code",
   "execution_count": 49,
   "id": "e15d5a8b",
   "metadata": {},
   "outputs": [
    {
     "data": {
      "text/plain": [
       "40033870.45477115"
      ]
     },
     "execution_count": 49,
     "metadata": {},
     "output_type": "execute_result"
    }
   ],
   "source": [
    "tvl=df.amount_usd.sum()\n",
    "tvl"
   ]
  },
  {
   "cell_type": "code",
   "execution_count": 53,
   "id": "9f803cd0",
   "metadata": {},
   "outputs": [
    {
     "data": {
      "image/png": "[encoded data removed]",
      "text/plain": [
       "<IPython.core.display.Image object>"
      ]
     },
     "execution_count": 53,
     "metadata": {},
     "output_type": "execute_result"
    }
   ],
   "source": [
    "Image(filename='defi_lama_tvl.png') ### Source: defillama"
   ]
  },
  {
   "cell_type": "code",
   "execution_count": 88,
   "id": "339ddd21",
   "metadata": {},
   "outputs": [
    {
     "data": {
      "text/plain": [
       "34614397.570853285"
      ]
     },
     "execution_count": 88,
     "metadata": {},
     "output_type": "execute_result"
    }
   ],
   "source": [
    "total_collateral = df['amount_usd'].iloc[:-1].sum()\n",
    "total_collateral"
   ]
  },
  {
   "cell_type": "code",
   "execution_count": 65,
   "id": "8c2a2113",
   "metadata": {},
   "outputs": [
    {
     "data": {
      "text/plain": [
       "17841155.532107"
      ]
     },
     "execution_count": 65,
     "metadata": {},
     "output_type": "execute_result"
    }
   ],
   "source": [
    "total_borrow= ctokenContract.functions.totalBorrow().call()*10**-int (decimal)\n",
    "total_borrow"
   ]
  },
  {
   "cell_type": "code",
   "execution_count": 91,
   "id": "161f2713",
   "metadata": {},
   "outputs": [
    {
     "data": {
      "text/plain": [
       "51.54258569887684"
      ]
     },
     "execution_count": 91,
     "metadata": {},
     "output_type": "execute_result"
    }
   ],
   "source": [
    "loan_to_deposit_ratio= (total_borrow/total_collateral)*100\n",
    "loan_to_deposit_ratio"
   ]
  },
  {
   "cell_type": "code",
   "execution_count": 64,
   "id": "007da4de",
   "metadata": {},
   "outputs": [
    {
     "data": {
      "text/plain": [
       "23235883.687459998"
      ]
     },
     "execution_count": 64,
     "metadata": {},
     "output_type": "execute_result"
    }
   ],
   "source": [
    "total_earning= ctokenContract.functions.totalSupply().call()*10**-int (decimal)\n",
    "total_earning"
   ]
  },
  {
   "cell_type": "code",
   "execution_count": 89,
   "id": "4c8ad497",
   "metadata": {},
   "outputs": [
    {
     "data": {
      "text/plain": [
       "76.78302486511905"
      ]
     },
     "execution_count": 89,
     "metadata": {},
     "output_type": "execute_result"
    }
   ],
   "source": [
    "utilization=ctokenContract.functions.getUtilization().call()*10**-18\n",
    "utilization*100"
   ]
  },
  {
   "cell_type": "code",
   "execution_count": 87,
   "id": "5e83ff15",
   "metadata": {},
   "outputs": [
    {
     "data": {
      "text/plain": [
       "25239.343365"
      ]
     },
     "execution_count": 87,
     "metadata": {},
     "output_type": "execute_result"
    }
   ],
   "source": [
    "ctokenContract.functions.getReserves().call()*10**-decimal"
   ]
  }
 ],
 "metadata": {
  "kernelspec": {
   "display_name": "Python 3 (ipykernel)",
   "language": "python",
   "name": "python3"
  },
  "language_info": {
   "codemirror_mode": {
    "name": "ipython",
    "version": 3
   },
   "file_extension": ".py",
   "mimetype": "text/x-python",
   "name": "python",
   "nbconvert_exporter": "python",
   "pygments_lexer": "ipython3",
   "version": "3.8.13"
  }
 },
 "nbformat": 4,
 "nbformat_minor": 5
}
