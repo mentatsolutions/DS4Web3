{
 "cells": [
  {
   "cell_type": "code",
   "execution_count": 1,
   "id": "83997059",
   "metadata": {},
   "outputs": [],
   "source": [
    "from web3 import Web3\n",
    "from datetime import datetime\n",
    "import pandas as pd\n",
    "import requests\n",
    "import json\n",
    "from IPython.display import Image"
   ]
  },
  {
   "cell_type": "code",
   "execution_count": 2,
   "id": "a04dc57a",
   "metadata": {},
   "outputs": [
    {
     "data": {
      "text/plain": [
       "True"
      ]
     },
     "execution_count": 2,
     "metadata": {},
     "output_type": "execute_result"
    }
   ],
   "source": [
    "infura_url= 'https://mainnet.infura.io/v3/[YOUR KEY]'\n",
    "web3= Web3(Web3.HTTPProvider (infura_url))\n",
    "web3.isConnected()"
   ]
  },
  {
   "cell_type": "code",
   "execution_count": 24,
   "id": "f01c5661",
   "metadata": {},
   "outputs": [],
   "source": [
    "sc_address=\"0xf074540eb83c86211F305E145eB31743E228E57d\"\n",
    "with open (\"./bridge_abi.json\") as f:\n",
    "    abi= json.load (f)"
   ]
  },
  {
   "cell_type": "code",
   "execution_count": 25,
   "id": "29b829fc",
   "metadata": {},
   "outputs": [
    {
     "data": {
      "text/plain": [
       "[<Function CHALLENGE_AMOUNT_DIVISOR()>,\n",
       " <Function TIME_SLOT_SIZE()>,\n",
       " <Function addBonder(address)>,\n",
       " <Function bondTransferRoot(bytes32,uint256,uint256)>,\n",
       " <Function bondWithdrawal(address,uint256,bytes32,uint256)>,\n",
       " <Function chainBalance(uint256)>,\n",
       " <Function challengePeriod()>,\n",
       " <Function challengeResolutionPeriod()>,\n",
       " <Function challengeTransferBond(bytes32,uint256)>,\n",
       " <Function confirmTransferRoot(uint256,bytes32,uint256,uint256,uint256)>,\n",
       " <Function crossDomainMessengerWrappers(uint256)>,\n",
       " <Function getBondForTransferAmount(uint256)>,\n",
       " <Function getBondedWithdrawalAmount(address,bytes32)>,\n",
       " <Function getChainId()>,\n",
       " <Function getChallengeAmountForTransferAmount(uint256)>,\n",
       " <Function getCredit(address)>,\n",
       " <Function getDebitAndAdditionalDebit(address)>,\n",
       " <Function getIsBonder(address)>,\n",
       " <Function getRawDebit(address)>,\n",
       " <Function getTimeSlot(uint256)>,\n",
       " <Function getTransferId(uint256,address,uint256,bytes32,uint256,uint256,uint256)>,\n",
       " <Function getTransferRoot(bytes32,uint256)>,\n",
       " <Function getTransferRootId(bytes32,uint256)>,\n",
       " <Function governance()>,\n",
       " <Function isChainIdPaused(uint256)>,\n",
       " <Function isTransferIdSpent(bytes32)>,\n",
       " <Function l1CanonicalToken()>,\n",
       " <Function minTransferRootBondDelay()>,\n",
       " <Function removeBonder(address)>,\n",
       " <Function rescueTransferRoot(bytes32,uint256,address)>,\n",
       " <Function resolveChallenge(bytes32,uint256)>,\n",
       " <Function sendToL2(uint256,address,uint256,uint256,uint256,address,uint256)>,\n",
       " <Function setChainIdDepositsPaused(uint256,bool)>,\n",
       " <Function setChallengePeriod(uint256)>,\n",
       " <Function setChallengeResolutionPeriod(uint256)>,\n",
       " <Function setCrossDomainMessengerWrapper(uint256,address)>,\n",
       " <Function setGovernance(address)>,\n",
       " <Function setMinTransferRootBondDelay(uint256)>,\n",
       " <Function settleBondedWithdrawal(address,bytes32,bytes32,uint256,uint256,bytes32[],uint256)>,\n",
       " <Function settleBondedWithdrawals(address,bytes32[],uint256)>,\n",
       " <Function stake(address,uint256)>,\n",
       " <Function timeSlotToAmountBonded(uint256,address)>,\n",
       " <Function transferBonds(bytes32)>,\n",
       " <Function transferRootCommittedAt(bytes32)>,\n",
       " <Function unstake(uint256)>,\n",
       " <Function withdraw(address,uint256,bytes32,uint256,uint256,uint256,bytes32,uint256,uint256,bytes32[],uint256)>]"
      ]
     },
     "execution_count": 25,
     "metadata": {},
     "output_type": "execute_result"
    }
   ],
   "source": [
    "bridgeContract = web3.eth.contract(address=sc_address, abi=abi)\n",
    "bridgeContract.all_functions()"
   ]
  },
  {
   "cell_type": "code",
   "execution_count": 26,
   "id": "7765c57b",
   "metadata": {},
   "outputs": [
    {
     "data": {
      "text/plain": [
       "'0xB0c7a3Ba49C7a6EaBa6cD4a96C55a1391070Ac9A'"
      ]
     },
     "execution_count": 26,
     "metadata": {},
     "output_type": "execute_result"
    }
   ],
   "source": [
    "#l1CanonicalToken\n",
    "bridgeContract.functions.l1CanonicalToken().call()"
   ]
  },
  {
   "cell_type": "code",
   "execution_count": 27,
   "id": "041fcd4c",
   "metadata": {},
   "outputs": [
    {
     "name": "stdout",
     "output_type": "stream",
     "text": [
      "USD Coin 9033573.495695999\n",
      "Tether USD 2039626.6284339998\n",
      "Matic Token 1125462.7843598279\n",
      "Dai Stablecoin 3033540.347161223\n",
      "Hop 25053569.15818467\n",
      "Synthetix Network Token 591010.9652927803\n",
      "Synth sUSD 1221293.989997617\n",
      "Rocket Pool ETH 1153.5951250765336\n",
      "MAGIC 1250081.3799648664\n"
     ]
    }
   ],
   "source": [
    "##List of hop L1 bridge \n",
    "## source: https://github.com/hop-protocol/hop/blob/develop/packages/core/src/addresses/mainnet.ts \n",
    "\n",
    "bridges=['0x3666f603Cc164936C1b87e207F36BEBa4AC5f18a', '0x3E4a3a4796d16c0Cd582C382691998f7c06420B6', '0x22B1Cbb8D98a01a3B71D034BB899775A76Eb1cc2',\n",
    "        '0x3d4Cc8A61c7528Fd86C55cfe061a78dCBA48EDd1',  '0x914f986a44AcB623A277d6Bd17368171FCbe4273', '0x893246FACF345c99e4235E5A7bbEE7404c988b96',  '0x36443fC70E073fe9D50425f82a3eE19feF697d62', '0x87269B23e73305117D0404557bAdc459CEd0dbEc',\n",
    "          '0xf074540eb83c86211F305E145eB31743E228E57d'\n",
    "        ]\n",
    "#l1CanonicalToken_list=[]\n",
    "tvl={}\n",
    "## We take out the EtH because that one stores ETH not tokens\n",
    "for bridge in bridges:\n",
    "    with open (\"./bridge_abi.json\") as f:\n",
    "        bridge_abi= json.load (f)\n",
    "\n",
    "    bridgeContract = web3.eth.contract(address=bridge, abi=bridge_abi)    \n",
    "    token_locked=bridgeContract.functions.l1CanonicalToken().call()\n",
    "    \n",
    "    with open (\"./erc20_abi.json\") as f:\n",
    "        erc_abi= json.load (f)\n",
    "    collateralcontract = web3.eth.contract(address=token_locked, abi=erc_abi)\n",
    "    decimal=collateralcontract.functions.decimals().call()\n",
    "    locked= (collateralcontract.functions.balanceOf(bridge).call())*10**-(int(decimal))\n",
    "    print (collateralcontract.functions.name().call(), locked)\n",
    "    tvl[collateralcontract.functions.name().call()]=locked"
   ]
  },
  {
   "cell_type": "code",
   "execution_count": null,
   "id": "8f42ddd0",
   "metadata": {},
   "outputs": [],
   "source": [
    "#l1CanonicalToken0='0xA0b86991c6218b36c1d19D4a2e9Eb0cE3606eB48' ###USD\n",
    "#l1CanonicalToken0='0xdAC17F958D2ee523a2206206994597C13D831ec7' ###USDT\n",
    "#l1CanonicalToken0='0x7D1AfA7B718fb893dB30A3aBc0Cfc608AaCfeBB0' ###Matic\n",
    "#l1CanonicalToken0='0x6B175474E89094C44Da98b954EedeAC495271d0F' ###DAI\n",
    "#l1CanonicalToken0='0xc5102fE9359FD9a28f877a67E36B0F050d81a3CC' ###Hop\n",
    "#l1CanonicalToken0='0xC011a73ee8576Fb46F5E1c5751cA3B9Fe0af2a6F' ###SNX\n",
    "#l1CanonicalToken0='0xae78736Cd615f374D3085123A210448E74Fc6393' ###rETH\n",
    "#l1CanonicalToken0='0xB0c7a3Ba49C7a6EaBa6cD4a96C55a1391070Ac9A' ###Magic"
   ]
  },
  {
   "cell_type": "code",
   "execution_count": 28,
   "id": "40e3df14",
   "metadata": {},
   "outputs": [
    {
     "data": {
      "text/plain": [
       "{'USD Coin': 9033573.495695999,\n",
       " 'Tether USD': 2039626.6284339998,\n",
       " 'Matic Token': 1125462.7843598279,\n",
       " 'Dai Stablecoin': 3033540.347161223,\n",
       " 'Hop': 25053569.15818467,\n",
       " 'Synthetix Network Token': 591010.9652927803,\n",
       " 'Synth sUSD': 1221293.989997617,\n",
       " 'Rocket Pool ETH': 1153.5951250765336,\n",
       " 'MAGIC': 1250081.3799648664}"
      ]
     },
     "execution_count": 28,
     "metadata": {},
     "output_type": "execute_result"
    }
   ],
   "source": [
    "tvl"
   ]
  },
  {
   "cell_type": "code",
   "execution_count": 29,
   "id": "5ad93db2",
   "metadata": {},
   "outputs": [],
   "source": [
    "url = \"https://api.coingecko.com/api/v3/simple/price?ids=ethereum&vs_currencies=usd\"\n",
    "eth_price = requests.get(url).json()[\"ethereum\"][\"usd\"]\n",
    "\n",
    "url = \"https://api.coingecko.com/api/v3/simple/price?ids=matic-network&vs_currencies=usd\"\n",
    "matic_price = requests.get(url).json()[\"matic-network\"][\"usd\"]\n",
    "\n",
    "url = \"https://api.coingecko.com/api/v3/simple/price?ids=usd-coin&vs_currencies=usd\"\n",
    "usdc_price = requests.get(url).json()[\"usd-coin\"][\"usd\"]\n",
    "\n",
    "url = \"https://api.coingecko.com/api/v3/simple/price?ids=tether&vs_currencies=usd\"\n",
    "usdt_price = requests.get(url).json()[\"tether\"][\"usd\"]\n",
    "\n",
    "url = \"https://api.coingecko.com/api/v3/simple/price?ids=dai&vs_currencies=usd\"\n",
    "dai_price = requests.get(url).json()[\"dai\"][\"usd\"]\n",
    "\n",
    "url = \"https://api.coingecko.com/api/v3/simple/price?ids=hop-protocol&vs_currencies=usd\"\n",
    "hop_price = requests.get(url).json()[\"hop-protocol\"][\"usd\"]\n",
    "\n",
    "url = \"https://api.coingecko.com/api/v3/simple/price?ids=havven&vs_currencies=usd\"\n",
    "snx_price = requests.get(url).json()[\"havven\"][\"usd\"]\n",
    "\n",
    "url = \"https://api.coingecko.com/api/v3/simple/price?ids=nusd&vs_currencies=usd\"\n",
    "susd_price = requests.get(url).json()[\"nusd\"][\"usd\"]\n",
    "\n",
    "url = \"https://api.coingecko.com/api/v3/simple/price?ids=rocket-pool-eth&vs_currencies=usd\"\n",
    "rETH_price = requests.get(url).json()[\"rocket-pool-eth\"][\"usd\"]\n",
    "\n",
    "url = \"https://api.coingecko.com/api/v3/simple/price?ids=magic&vs_currencies=usd\"\n",
    "magic_price = requests.get(url).json()[\"magic\"][\"usd\"]"
   ]
  },
  {
   "cell_type": "code",
   "execution_count": 38,
   "id": "9bd868ca",
   "metadata": {},
   "outputs": [],
   "source": [
    "prices_dic={'USD Coin': usdc_price,\n",
    " 'Tether USD': usdt_price,\n",
    " 'Matic Token': matic_price,\n",
    " 'Dai Stablecoin': dai_price,\n",
    " 'Hop': hop_price,\n",
    " 'Synthetix Network Token': snx_price,\n",
    " 'Synth sUSD': susd_price,\n",
    " 'Rocket Pool ETH': rETH_price,\n",
    " 'MAGIC': magic_price,\n",
    " 'ethereum': eth_price}"
   ]
  },
  {
   "cell_type": "code",
   "execution_count": 39,
   "id": "459c8219",
   "metadata": {},
   "outputs": [
    {
     "data": {
      "text/plain": [
       "{'USD Coin': 0.999487,\n",
       " 'Tether USD': 0.999825,\n",
       " 'Matic Token': 0.721981,\n",
       " 'Dai Stablecoin': 0.999436,\n",
       " 'Hop': 0.063698,\n",
       " 'Synthetix Network Token': 2.82,\n",
       " 'Synth sUSD': 0.996588,\n",
       " 'Rocket Pool ETH': 1986.29,\n",
       " 'MAGIC': 0.726983,\n",
       " 'ethereum': 1843.76}"
      ]
     },
     "execution_count": 39,
     "metadata": {},
     "output_type": "execute_result"
    }
   ],
   "source": [
    "prices_dic"
   ]
  },
  {
   "cell_type": "code",
   "execution_count": 37,
   "id": "8f72f8f2",
   "metadata": {},
   "outputs": [],
   "source": [
    "ethereum= web3.eth.get_balance('0xb8901acB165ed027E32754E0FFe830802919727f')*10**-18"
   ]
  },
  {
   "cell_type": "code",
   "execution_count": 42,
   "id": "b50ac622",
   "metadata": {},
   "outputs": [
    {
     "data": {
      "text/html": [
       "<div>\n",
       "<style scoped>\n",
       "    .dataframe tbody tr th:only-of-type {\n",
       "        vertical-align: middle;\n",
       "    }\n",
       "\n",
       "    .dataframe tbody tr th {\n",
       "        vertical-align: top;\n",
       "    }\n",
       "\n",
       "    .dataframe thead th {\n",
       "        text-align: right;\n",
       "    }\n",
       "</style>\n",
       "<table border=\"1\" class=\"dataframe\">\n",
       "  <thead>\n",
       "    <tr style=\"text-align: right;\">\n",
       "      <th></th>\n",
       "      <th>holding_amount</th>\n",
       "    </tr>\n",
       "  </thead>\n",
       "  <tbody>\n",
       "    <tr>\n",
       "      <th>USD Coin</th>\n",
       "      <td>9.033573e+06</td>\n",
       "    </tr>\n",
       "    <tr>\n",
       "      <th>Tether USD</th>\n",
       "      <td>2.039627e+06</td>\n",
       "    </tr>\n",
       "    <tr>\n",
       "      <th>Matic Token</th>\n",
       "      <td>1.125463e+06</td>\n",
       "    </tr>\n",
       "    <tr>\n",
       "      <th>Dai Stablecoin</th>\n",
       "      <td>3.033540e+06</td>\n",
       "    </tr>\n",
       "    <tr>\n",
       "      <th>Hop</th>\n",
       "      <td>2.505357e+07</td>\n",
       "    </tr>\n",
       "  </tbody>\n",
       "</table>\n",
       "</div>"
      ],
      "text/plain": [
       "                holding_amount\n",
       "USD Coin          9.033573e+06\n",
       "Tether USD        2.039627e+06\n",
       "Matic Token       1.125463e+06\n",
       "Dai Stablecoin    3.033540e+06\n",
       "Hop               2.505357e+07"
      ]
     },
     "execution_count": 42,
     "metadata": {},
     "output_type": "execute_result"
    }
   ],
   "source": [
    "df=pd.DataFrame.from_dict(tvl, orient='index', columns=['holding_amount'])\n",
    "df.head()"
   ]
  },
  {
   "cell_type": "code",
   "execution_count": 47,
   "id": "854a4225",
   "metadata": {},
   "outputs": [
    {
     "data": {
      "text/html": [
       "<div>\n",
       "<style scoped>\n",
       "    .dataframe tbody tr th:only-of-type {\n",
       "        vertical-align: middle;\n",
       "    }\n",
       "\n",
       "    .dataframe tbody tr th {\n",
       "        vertical-align: top;\n",
       "    }\n",
       "\n",
       "    .dataframe thead th {\n",
       "        text-align: right;\n",
       "    }\n",
       "</style>\n",
       "<table border=\"1\" class=\"dataframe\">\n",
       "  <thead>\n",
       "    <tr style=\"text-align: right;\">\n",
       "      <th></th>\n",
       "      <th>index</th>\n",
       "      <th>holding_amount</th>\n",
       "      <th>price</th>\n",
       "    </tr>\n",
       "  </thead>\n",
       "  <tbody>\n",
       "    <tr>\n",
       "      <th>0</th>\n",
       "      <td>USD Coin</td>\n",
       "      <td>9.033573e+06</td>\n",
       "      <td>0.999487</td>\n",
       "    </tr>\n",
       "    <tr>\n",
       "      <th>1</th>\n",
       "      <td>Tether USD</td>\n",
       "      <td>2.039627e+06</td>\n",
       "      <td>0.999825</td>\n",
       "    </tr>\n",
       "    <tr>\n",
       "      <th>2</th>\n",
       "      <td>Matic Token</td>\n",
       "      <td>1.125463e+06</td>\n",
       "      <td>0.721981</td>\n",
       "    </tr>\n",
       "    <tr>\n",
       "      <th>3</th>\n",
       "      <td>Dai Stablecoin</td>\n",
       "      <td>3.033540e+06</td>\n",
       "      <td>0.999436</td>\n",
       "    </tr>\n",
       "    <tr>\n",
       "      <th>4</th>\n",
       "      <td>Hop</td>\n",
       "      <td>2.505357e+07</td>\n",
       "      <td>0.063698</td>\n",
       "    </tr>\n",
       "  </tbody>\n",
       "</table>\n",
       "</div>"
      ],
      "text/plain": [
       "            index  holding_amount     price\n",
       "0        USD Coin    9.033573e+06  0.999487\n",
       "1      Tether USD    2.039627e+06  0.999825\n",
       "2     Matic Token    1.125463e+06  0.721981\n",
       "3  Dai Stablecoin    3.033540e+06  0.999436\n",
       "4             Hop    2.505357e+07  0.063698"
      ]
     },
     "execution_count": 47,
     "metadata": {},
     "output_type": "execute_result"
    }
   ],
   "source": [
    "df['price'] = df.index.map(prices_dic)\n",
    "df.reset_index(inplace=True)\n",
    "df.head()"
   ]
  },
  {
   "cell_type": "code",
   "execution_count": 48,
   "id": "166e5ba0",
   "metadata": {},
   "outputs": [],
   "source": [
    "eth_row = {'index':'ethereum', 'holding_amount': ethereum, 'price': eth_price}\n",
    "df = df.append(eth_row, ignore_index=True)\n",
    "\n",
    "# Add the new row using loc\n"
   ]
  },
  {
   "cell_type": "code",
   "execution_count": 49,
   "id": "e9608cfe",
   "metadata": {},
   "outputs": [
    {
     "data": {
      "text/html": [
       "<div>\n",
       "<style scoped>\n",
       "    .dataframe tbody tr th:only-of-type {\n",
       "        vertical-align: middle;\n",
       "    }\n",
       "\n",
       "    .dataframe tbody tr th {\n",
       "        vertical-align: top;\n",
       "    }\n",
       "\n",
       "    .dataframe thead th {\n",
       "        text-align: right;\n",
       "    }\n",
       "</style>\n",
       "<table border=\"1\" class=\"dataframe\">\n",
       "  <thead>\n",
       "    <tr style=\"text-align: right;\">\n",
       "      <th></th>\n",
       "      <th>index</th>\n",
       "      <th>holding_amount</th>\n",
       "      <th>price</th>\n",
       "    </tr>\n",
       "  </thead>\n",
       "  <tbody>\n",
       "    <tr>\n",
       "      <th>0</th>\n",
       "      <td>USD Coin</td>\n",
       "      <td>9.033573e+06</td>\n",
       "      <td>0.999487</td>\n",
       "    </tr>\n",
       "    <tr>\n",
       "      <th>1</th>\n",
       "      <td>Tether USD</td>\n",
       "      <td>2.039627e+06</td>\n",
       "      <td>0.999825</td>\n",
       "    </tr>\n",
       "    <tr>\n",
       "      <th>2</th>\n",
       "      <td>Matic Token</td>\n",
       "      <td>1.125463e+06</td>\n",
       "      <td>0.721981</td>\n",
       "    </tr>\n",
       "    <tr>\n",
       "      <th>3</th>\n",
       "      <td>Dai Stablecoin</td>\n",
       "      <td>3.033540e+06</td>\n",
       "      <td>0.999436</td>\n",
       "    </tr>\n",
       "    <tr>\n",
       "      <th>4</th>\n",
       "      <td>Hop</td>\n",
       "      <td>2.505357e+07</td>\n",
       "      <td>0.063698</td>\n",
       "    </tr>\n",
       "  </tbody>\n",
       "</table>\n",
       "</div>"
      ],
      "text/plain": [
       "            index  holding_amount     price\n",
       "0        USD Coin    9.033573e+06  0.999487\n",
       "1      Tether USD    2.039627e+06  0.999825\n",
       "2     Matic Token    1.125463e+06  0.721981\n",
       "3  Dai Stablecoin    3.033540e+06  0.999436\n",
       "4             Hop    2.505357e+07  0.063698"
      ]
     },
     "execution_count": 49,
     "metadata": {},
     "output_type": "execute_result"
    }
   ],
   "source": [
    "df.head()"
   ]
  },
  {
   "cell_type": "code",
   "execution_count": 50,
   "id": "b9af5fda",
   "metadata": {},
   "outputs": [],
   "source": [
    "df['amount_usd']=df['holding_amount']*df['price']"
   ]
  },
  {
   "cell_type": "code",
   "execution_count": 51,
   "id": "67db8443",
   "metadata": {},
   "outputs": [
    {
     "data": {
      "text/plain": [
       "45905515.596188046"
      ]
     },
     "execution_count": 51,
     "metadata": {},
     "output_type": "execute_result"
    }
   ],
   "source": [
    "tvl=df.amount_usd.sum()\n",
    "tvl"
   ]
  },
  {
   "cell_type": "code",
   "execution_count": 52,
   "id": "eacdc99e",
   "metadata": {},
   "outputs": [
    {
     "data": {
      "text/plain": [
       "45.905515596188046"
      ]
     },
     "execution_count": 52,
     "metadata": {},
     "output_type": "execute_result"
    }
   ],
   "source": [
    "tvl/1000000"
   ]
  }
 ],
 "metadata": {
  "kernelspec": {
   "display_name": "Python 3 (ipykernel)",
   "language": "python",
   "name": "python3"
  },
  "language_info": {
   "codemirror_mode": {
    "name": "ipython",
    "version": 3
   },
   "file_extension": ".py",
   "mimetype": "text/x-python",
   "name": "python",
   "nbconvert_exporter": "python",
   "pygments_lexer": "ipython3",
   "version": "3.8.13"
  }
 },
 "nbformat": 4,
 "nbformat_minor": 5
}
