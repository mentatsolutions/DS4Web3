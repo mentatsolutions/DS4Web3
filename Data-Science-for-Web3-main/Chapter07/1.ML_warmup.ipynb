{
 "cells": [
  {
   "cell_type": "markdown",
   "metadata": {
    "id": "FpY6w08VKBUl"
   },
   "source": [
    "## Installing Kaggle and Downloading Ethereum Fraud Detection Dataset\n",
    "\n",
    "The code `!pip install kaggle` will install the Kaggle API on the computer. TTo run the this cell you will need to provide the Kaggle user and password in json format in the same directory of this notebook. Please follow the tutorial available in the Further Reading section at the end of the Chapter. \n",
    "The code `!mkdir ~/.kaggle` will create a directory called `.kaggle` in the user's home directory, `!cp kaggle.json ~/.kaggle/` copy the `kaggle.json` file to the `.kaggle` directory and `!chmod 600 ~/.kaggle/kaggle.json` sets the permissions of the `kaggle.json` file to read-only. \n",
    "\n",
    "With `!kaggle datasets download vagifa/ethereum-frauddetection-dataset` download the Ethereum Fraud Detection Dataset from Kaggle and with `!unzip ethereum-frauddetection-dataset.zip` unzip it for use. "
   ]
  },
  {
   "cell_type": "code",
   "execution_count": null,
   "metadata": {
    "id": "rVW0s7Y_htRo"
   },
   "outputs": [],
   "source": [
    "!pip install kaggle\n",
    "!mkdir ~/.kaggle\n",
    "!cp kaggle.json ~/.kaggle/\n",
    "!chmod 600 ~/.kaggle/kaggle.json\n",
    "!kaggle datasets download vagifa/ethereum-frauddetection-dataset\n",
    "!unzip ethereum-frauddetection-dataset"
   ]
  },
  {
   "cell_type": "markdown",
   "metadata": {
    "id": "VDHjHd-zKNG5"
   },
   "source": [
    "## Imports\n",
    "\n",
    "Import the necessary libraries."
   ]
  },
  {
   "cell_type": "code",
   "execution_count": 2,
   "metadata": {
    "id": "5Bx2lVl1kUjC"
   },
   "outputs": [],
   "source": [
    "import pandas as pd\n",
    "import numpy as np\n",
    "import seaborn as sns\n",
    "\n",
    "from sklearn.model_selection import train_test_split\n",
    "from sklearn.ensemble import RandomForestClassifier\n",
    "from sklearn.metrics import accuracy_score, classification_report, confusion_matrix"
   ]
  },
  {
   "cell_type": "markdown",
   "metadata": {
    "id": "hgZfRAHOK0Ex"
   },
   "source": [
    "## Read the Dataset\n",
    "\n",
    "Define a list of columns to be used and read the dataset from the file `transaction_dataset.csv` downloaded from Kaggle. "
   ]
  },
  {
   "cell_type": "code",
   "execution_count": 3,
   "metadata": {
    "colab": {
     "base_uri": "https://localhost:8080/",
     "height": 357
    },
    "id": "qLUCoaYskZXJ",
    "outputId": "1c810704-2493-46c6-d387-5042143159e4"
   },
   "outputs": [
    {
     "data": {
      "text/html": [
       "\n",
       "  <div id=\"df-cc0e44f6-a2df-4bcc-9778-be30600315b1\">\n",
       "    <div class=\"colab-df-container\">\n",
       "      <div>\n",
       "<style scoped>\n",
       "    .dataframe tbody tr th:only-of-type {\n",
       "        vertical-align: middle;\n",
       "    }\n",
       "\n",
       "    .dataframe tbody tr th {\n",
       "        vertical-align: top;\n",
       "    }\n",
       "\n",
       "    .dataframe thead th {\n",
       "        text-align: right;\n",
       "    }\n",
       "</style>\n",
       "<table border=\"1\" class=\"dataframe\">\n",
       "  <thead>\n",
       "    <tr style=\"text-align: right;\">\n",
       "      <th></th>\n",
       "      <th>FLAG</th>\n",
       "      <th>Avg min between sent tnx</th>\n",
       "      <th>Avg min between received tnx</th>\n",
       "      <th>Sent tnx</th>\n",
       "      <th>Received Tnx</th>\n",
       "      <th>Unique Received From Addresses</th>\n",
       "      <th>Unique Sent To Addresses</th>\n",
       "      <th>avg val received</th>\n",
       "      <th>avg val sent</th>\n",
       "      <th>avg value sent to contract</th>\n",
       "      <th>total transactions (including tnx to create contract</th>\n",
       "      <th>total Ether sent</th>\n",
       "      <th>total ether received</th>\n",
       "      <th>total ether sent contracts</th>\n",
       "      <th>Total ERC20 tnxs</th>\n",
       "      <th>ERC20 total Ether received</th>\n",
       "    </tr>\n",
       "  </thead>\n",
       "  <tbody>\n",
       "    <tr>\n",
       "      <th>0</th>\n",
       "      <td>0</td>\n",
       "      <td>844.26</td>\n",
       "      <td>1093.71</td>\n",
       "      <td>721</td>\n",
       "      <td>89</td>\n",
       "      <td>40</td>\n",
       "      <td>118</td>\n",
       "      <td>6.589513</td>\n",
       "      <td>1.200681</td>\n",
       "      <td>0.0</td>\n",
       "      <td>810</td>\n",
       "      <td>865.691093</td>\n",
       "      <td>586.466675</td>\n",
       "      <td>0.0</td>\n",
       "      <td>265.0</td>\n",
       "      <td>3.558854e+07</td>\n",
       "    </tr>\n",
       "    <tr>\n",
       "      <th>1</th>\n",
       "      <td>0</td>\n",
       "      <td>12709.07</td>\n",
       "      <td>2958.44</td>\n",
       "      <td>94</td>\n",
       "      <td>8</td>\n",
       "      <td>5</td>\n",
       "      <td>14</td>\n",
       "      <td>0.385685</td>\n",
       "      <td>0.032844</td>\n",
       "      <td>0.0</td>\n",
       "      <td>102</td>\n",
       "      <td>3.087297</td>\n",
       "      <td>3.085478</td>\n",
       "      <td>0.0</td>\n",
       "      <td>8.0</td>\n",
       "      <td>4.034283e+02</td>\n",
       "    </tr>\n",
       "    <tr>\n",
       "      <th>2</th>\n",
       "      <td>0</td>\n",
       "      <td>246194.54</td>\n",
       "      <td>2434.02</td>\n",
       "      <td>2</td>\n",
       "      <td>10</td>\n",
       "      <td>10</td>\n",
       "      <td>2</td>\n",
       "      <td>0.358906</td>\n",
       "      <td>1.794308</td>\n",
       "      <td>0.0</td>\n",
       "      <td>12</td>\n",
       "      <td>3.588616</td>\n",
       "      <td>3.589057</td>\n",
       "      <td>0.0</td>\n",
       "      <td>8.0</td>\n",
       "      <td>5.215121e+02</td>\n",
       "    </tr>\n",
       "    <tr>\n",
       "      <th>3</th>\n",
       "      <td>0</td>\n",
       "      <td>10219.60</td>\n",
       "      <td>15785.09</td>\n",
       "      <td>25</td>\n",
       "      <td>9</td>\n",
       "      <td>7</td>\n",
       "      <td>13</td>\n",
       "      <td>99.488840</td>\n",
       "      <td>70.001834</td>\n",
       "      <td>0.0</td>\n",
       "      <td>34</td>\n",
       "      <td>1750.045862</td>\n",
       "      <td>895.399559</td>\n",
       "      <td>0.0</td>\n",
       "      <td>14.0</td>\n",
       "      <td>1.711105e+04</td>\n",
       "    </tr>\n",
       "    <tr>\n",
       "      <th>4</th>\n",
       "      <td>0</td>\n",
       "      <td>36.61</td>\n",
       "      <td>10707.77</td>\n",
       "      <td>4598</td>\n",
       "      <td>20</td>\n",
       "      <td>7</td>\n",
       "      <td>19</td>\n",
       "      <td>2.671095</td>\n",
       "      <td>0.022688</td>\n",
       "      <td>0.0</td>\n",
       "      <td>4619</td>\n",
       "      <td>104.318883</td>\n",
       "      <td>53.421897</td>\n",
       "      <td>0.0</td>\n",
       "      <td>42.0</td>\n",
       "      <td>1.628297e+05</td>\n",
       "    </tr>\n",
       "  </tbody>\n",
       "</table>\n",
       "</div>\n",
       "      <button class=\"colab-df-convert\" onclick=\"convertToInteractive('df-cc0e44f6-a2df-4bcc-9778-be30600315b1')\"\n",
       "              title=\"Convert this dataframe to an interactive table.\"\n",
       "              style=\"display:none;\">\n",
       "        \n",
       "  <svg xmlns=\"http://www.w3.org/2000/svg\" height=\"24px\"viewBox=\"0 0 24 24\"\n",
       "       width=\"24px\">\n",
       "    <path d=\"M0 0h24v24H0V0z\" fill=\"none\"/>\n",
       "    <path d=\"M18.56 5.44l.94 2.06.94-2.06 2.06-.94-2.06-.94-.94-2.06-.94 2.06-2.06.94zm-11 1L8.5 8.5l.94-2.06 2.06-.94-2.06-.94L8.5 2.5l-.94 2.06-2.06.94zm10 10l.94 2.06.94-2.06 2.06-.94-2.06-.94-.94-2.06-.94 2.06-2.06.94z\"/><path d=\"M17.41 7.96l-1.37-1.37c-.4-.4-.92-.59-1.43-.59-.52 0-1.04.2-1.43.59L10.3 9.45l-7.72 7.72c-.78.78-.78 2.05 0 2.83L4 21.41c.39.39.9.59 1.41.59.51 0 1.02-.2 1.41-.59l7.78-7.78 2.81-2.81c.8-.78.8-2.07 0-2.86zM5.41 20L4 18.59l7.72-7.72 1.47 1.35L5.41 20z\"/>\n",
       "  </svg>\n",
       "      </button>\n",
       "      \n",
       "  <style>\n",
       "    .colab-df-container {\n",
       "      display:flex;\n",
       "      flex-wrap:wrap;\n",
       "      gap: 12px;\n",
       "    }\n",
       "\n",
       "    .colab-df-convert {\n",
       "      background-color: #E8F0FE;\n",
       "      border: none;\n",
       "      border-radius: 50%;\n",
       "      cursor: pointer;\n",
       "      display: none;\n",
       "      fill: #1967D2;\n",
       "      height: 32px;\n",
       "      padding: 0 0 0 0;\n",
       "      width: 32px;\n",
       "    }\n",
       "\n",
       "    .colab-df-convert:hover {\n",
       "      background-color: #E2EBFA;\n",
       "      box-shadow: 0px 1px 2px rgba(60, 64, 67, 0.3), 0px 1px 3px 1px rgba(60, 64, 67, 0.15);\n",
       "      fill: #174EA6;\n",
       "    }\n",
       "\n",
       "    [theme=dark] .colab-df-convert {\n",
       "      background-color: #3B4455;\n",
       "      fill: #D2E3FC;\n",
       "    }\n",
       "\n",
       "    [theme=dark] .colab-df-convert:hover {\n",
       "      background-color: #434B5C;\n",
       "      box-shadow: 0px 1px 3px 1px rgba(0, 0, 0, 0.15);\n",
       "      filter: drop-shadow(0px 1px 2px rgba(0, 0, 0, 0.3));\n",
       "      fill: #FFFFFF;\n",
       "    }\n",
       "  </style>\n",
       "\n",
       "      <script>\n",
       "        const buttonEl =\n",
       "          document.querySelector('#df-cc0e44f6-a2df-4bcc-9778-be30600315b1 button.colab-df-convert');\n",
       "        buttonEl.style.display =\n",
       "          google.colab.kernel.accessAllowed ? 'block' : 'none';\n",
       "\n",
       "        async function convertToInteractive(key) {\n",
       "          const element = document.querySelector('#df-cc0e44f6-a2df-4bcc-9778-be30600315b1');\n",
       "          const dataTable =\n",
       "            await google.colab.kernel.invokeFunction('convertToInteractive',\n",
       "                                                     [key], {});\n",
       "          if (!dataTable) return;\n",
       "\n",
       "          const docLinkHtml = 'Like what you see? Visit the ' +\n",
       "            '<a target=\"_blank\" href=https://colab.research.google.com/notebooks/data_table.ipynb>data table notebook</a>'\n",
       "            + ' to learn more about interactive tables.';\n",
       "          element.innerHTML = '';\n",
       "          dataTable['output_type'] = 'display_data';\n",
       "          await google.colab.output.renderOutput(dataTable, element);\n",
       "          const docLink = document.createElement('div');\n",
       "          docLink.innerHTML = docLinkHtml;\n",
       "          element.appendChild(docLink);\n",
       "        }\n",
       "      </script>\n",
       "    </div>\n",
       "  </div>\n",
       "  "
      ],
      "text/plain": [
       "   FLAG  Avg min between sent tnx  Avg min between received tnx  Sent tnx  \\\n",
       "0     0                    844.26                       1093.71       721   \n",
       "1     0                  12709.07                       2958.44        94   \n",
       "2     0                 246194.54                       2434.02         2   \n",
       "3     0                  10219.60                      15785.09        25   \n",
       "4     0                     36.61                      10707.77      4598   \n",
       "\n",
       "   Received Tnx  Unique Received From Addresses  Unique Sent To Addresses  \\\n",
       "0            89                              40                       118   \n",
       "1             8                               5                        14   \n",
       "2            10                              10                         2   \n",
       "3             9                               7                        13   \n",
       "4            20                               7                        19   \n",
       "\n",
       "   avg val received  avg val sent  avg value sent to contract  \\\n",
       "0          6.589513      1.200681                         0.0   \n",
       "1          0.385685      0.032844                         0.0   \n",
       "2          0.358906      1.794308                         0.0   \n",
       "3         99.488840     70.001834                         0.0   \n",
       "4          2.671095      0.022688                         0.0   \n",
       "\n",
       "   total transactions (including tnx to create contract  total Ether sent  \\\n",
       "0                                                810           865.691093   \n",
       "1                                                102             3.087297   \n",
       "2                                                 12             3.588616   \n",
       "3                                                 34          1750.045862   \n",
       "4                                               4619           104.318883   \n",
       "\n",
       "   total ether received  total ether sent contracts   Total ERC20 tnxs  \\\n",
       "0            586.466675                         0.0              265.0   \n",
       "1              3.085478                         0.0                8.0   \n",
       "2              3.589057                         0.0                8.0   \n",
       "3            895.399559                         0.0               14.0   \n",
       "4             53.421897                         0.0               42.0   \n",
       "\n",
       "    ERC20 total Ether received  \n",
       "0                 3.558854e+07  \n",
       "1                 4.034283e+02  \n",
       "2                 5.215121e+02  \n",
       "3                 1.711105e+04  \n",
       "4                 1.628297e+05  "
      ]
     },
     "execution_count": 3,
     "metadata": {},
     "output_type": "execute_result"
    }
   ],
   "source": [
    "columns=['FLAG', 'Avg min between sent tnx','Avg min between received tnx','Sent tnx', 'Received Tnx', 'Unique Received From Addresses',\n",
    "       'Unique Sent To Addresses', 'avg val received','avg val sent', 'avg value sent to contract','total transactions (including tnx to create contract','total Ether sent', 'total ether received',\n",
    "       'total ether sent contracts', ' Total ERC20 tnxs', ' ERC20 total Ether received']\n",
    "df= pd.read_csv (\"transaction_dataset.csv\", usecols=columns)\n",
    "df.head()"
   ]
  },
  {
   "cell_type": "code",
   "execution_count": 4,
   "metadata": {
    "colab": {
     "base_uri": "https://localhost:8080/"
    },
    "id": "aUJUmj7RrGY9",
    "outputId": "fc095f34-3be7-4f39-ea45-72c85afbe617"
   },
   "outputs": [
    {
     "name": "stdout",
     "output_type": "stream",
     "text": [
      "<class 'pandas.core.frame.DataFrame'>\n",
      "RangeIndex: 9841 entries, 0 to 9840\n",
      "Data columns (total 16 columns):\n",
      " #   Column                                                Non-Null Count  Dtype  \n",
      "---  ------                                                --------------  -----  \n",
      " 0   FLAG                                                  9841 non-null   int64  \n",
      " 1   Avg min between sent tnx                              9841 non-null   float64\n",
      " 2   Avg min between received tnx                          9841 non-null   float64\n",
      " 3   Sent tnx                                              9841 non-null   int64  \n",
      " 4   Received Tnx                                          9841 non-null   int64  \n",
      " 5   Unique Received From Addresses                        9841 non-null   int64  \n",
      " 6   Unique Sent To Addresses                              9841 non-null   int64  \n",
      " 7   avg val received                                      9841 non-null   float64\n",
      " 8   avg val sent                                          9841 non-null   float64\n",
      " 9   avg value sent to contract                            9841 non-null   float64\n",
      " 10  total transactions (including tnx to create contract  9841 non-null   int64  \n",
      " 11  total Ether sent                                      9841 non-null   float64\n",
      " 12  total ether received                                  9841 non-null   float64\n",
      " 13  total ether sent contracts                            9841 non-null   float64\n",
      " 14   Total ERC20 tnxs                                     9012 non-null   float64\n",
      " 15   ERC20 total Ether received                           9012 non-null   float64\n",
      "dtypes: float64(10), int64(6)\n",
      "memory usage: 1.2 MB\n"
     ]
    }
   ],
   "source": [
    "df.info()"
   ]
  },
  {
   "cell_type": "markdown",
   "metadata": {},
   "source": [
    "## Dropping Null Values\n",
    "\n",
    "Drop all rows with null values in the specified columns."
   ]
  },
  {
   "cell_type": "code",
   "execution_count": 5,
   "metadata": {
    "id": "l9HkYPejvjZ7"
   },
   "outputs": [],
   "source": [
    "df.dropna(subset=['Avg min between sent tnx', 'Avg min between received tnx',\n",
    "       'Sent tnx', 'Received Tnx', 'Unique Received From Addresses',\n",
    "       'Unique Sent To Addresses', 'avg val received', 'avg val sent',\n",
    "       'avg value sent to contract',\n",
    "       'total transactions (including tnx to create contract',\n",
    "       'total Ether sent', 'total ether received',\n",
    "       'total ether sent contracts', ' Total ERC20 tnxs',\n",
    "       ' ERC20 total Ether received'], inplace=True)"
   ]
  },
  {
   "cell_type": "markdown",
   "metadata": {
    "id": "K7ZLE7YNK_bE"
   },
   "source": [
    "Select model and the parameters. \n",
    "\n",
    "The formula for class_weight is `total observations / (number of classes * observations in class)`, which will result in more weight to the less represented class. "
   ]
  },
  {
   "cell_type": "code",
   "execution_count": 6,
   "metadata": {
    "id": "LVeC5GouK_2D"
   },
   "outputs": [],
   "source": [
    "random_forest = RandomForestClassifier(random_state=42)  #, class_weight={1:3.34 ,0:0.59}"
   ]
  },
  {
   "cell_type": "markdown",
   "metadata": {
    "id": "on3S9bRjLH1N"
   },
   "source": [
    "Divide the dataset in train and test"
   ]
  },
  {
   "cell_type": "code",
   "execution_count": 7,
   "metadata": {
    "id": "8R1wSVDsrM_o"
   },
   "outputs": [],
   "source": [
    "X = df.loc[:, df.columns != \"FLAG\"]\n",
    "y= df[['FLAG']]"
   ]
  },
  {
   "cell_type": "markdown",
   "metadata": {},
   "source": [
    "## Splitting Data\n",
    "\n",
    "Split the data into training and testing sets. The `stratify` parameter ensures that the proportion of labels in the training and testing sets is the same as the proportion of labels in the original dataset. The `test_size` parameter is set to 0.33, which means that 33% of the data will be used for testing and the remaining 67% will be used for training. The `random_state` parameter is set to 42, which will ensure that the same split is used each time the code is run and then results are reproduceable. "
   ]
  },
  {
   "cell_type": "code",
   "execution_count": 8,
   "metadata": {
    "id": "ffx8PXzStOzC"
   },
   "outputs": [],
   "source": [
    "X_train, X_test, y_train, y_test = train_test_split(X, y, test_size=0.33, random_state=42, stratify=y)"
   ]
  },
  {
   "cell_type": "code",
   "execution_count": 9,
   "metadata": {
    "colab": {
     "base_uri": "https://localhost:8080/"
    },
    "id": "C4S95LNyuzNK",
    "outputId": "fac9e928-2341-4f17-f010-d5c27fd02b5f"
   },
   "outputs": [
    {
     "name": "stdout",
     "output_type": "stream",
     "text": [
      "(6038, 15)\n",
      "(6038, 1)\n",
      "(2974, 15)\n",
      "(2974, 1)\n"
     ]
    }
   ],
   "source": [
    "print (X_train.shape)\n",
    "print (y_train.shape)\n",
    "\n",
    "print (X_test.shape)\n",
    "print (y_test.shape)"
   ]
  },
  {
   "cell_type": "markdown",
   "metadata": {
    "id": "qF7phkXgLNJG"
   },
   "source": [
    "Train"
   ]
  },
  {
   "cell_type": "markdown",
   "metadata": {},
   "source": [
    "## Training the Random Forest Model\n",
    "Train the random forest model using the training data. "
   ]
  },
  {
   "cell_type": "code",
   "execution_count": null,
   "metadata": {
    "colab": {
     "base_uri": "https://localhost:8080/",
     "height": 130
    },
    "id": "sv8zCrFsLQCo",
    "outputId": "11fbf360-cb6a-4a64-f0c5-0c355ee651ff"
   },
   "outputs": [],
   "source": [
    "random_forest.fit(X_train, y_train)"
   ]
  },
  {
   "cell_type": "markdown",
   "metadata": {
    "id": "4yBjBmJ3LRST"
   },
   "source": [
    "## Evaluating the Random Forest Model\n",
    "\n",
    "Use the trained random forest model to make predictions on the test data and calculate the accuracy of the model. This is a measure of how well the model is performing on the test data on classification tasks. "
   ]
  },
  {
   "cell_type": "code",
   "execution_count": 11,
   "metadata": {
    "colab": {
     "base_uri": "https://localhost:8080/"
    },
    "id": "5JfxUQjQuCAu",
    "outputId": "c8546330-2bc8-420f-858d-cc6bd1a8d31e"
   },
   "outputs": [
    {
     "name": "stdout",
     "output_type": "stream",
     "text": [
      "Accuracy: 0.9835238735709482\n"
     ]
    }
   ],
   "source": [
    "y_test_pred = random_forest.predict(X_test)\n",
    "print('Accuracy:', accuracy_score(y_test_pred,y_test))"
   ]
  },
  {
   "cell_type": "markdown",
   "metadata": {},
   "source": [
    "Print a `classification report` for the random forest model. This report will provide a detailed breakdown of the model's performance on the test data, including precision, recall, and f1-score for each class. This will help to identify any areas where the model is performing poorly, and can be used to inform further model tuning. This is a better report for imbalanced datasets."
   ]
  },
  {
   "cell_type": "code",
   "execution_count": 12,
   "metadata": {
    "colab": {
     "base_uri": "https://localhost:8080/"
    },
    "id": "FDuqkRQ5uCXt",
    "outputId": "47920479-ae6f-46a4-8662-627d1ea622d1"
   },
   "outputs": [
    {
     "name": "stdout",
     "output_type": "stream",
     "text": [
      "              precision    recall  f1-score   support\n",
      "\n",
      "           0       1.00      0.98      0.99      2561\n",
      "           1       0.91      0.98      0.94       413\n",
      "\n",
      "    accuracy                           0.98      2974\n",
      "   macro avg       0.95      0.98      0.97      2974\n",
      "weighted avg       0.98      0.98      0.98      2974\n",
      "\n"
     ]
    }
   ],
   "source": [
    "print(classification_report(y_test_pred,y_test))"
   ]
  },
  {
   "cell_type": "markdown",
   "metadata": {},
   "source": [
    "Generate a confusion matrix for the random forest model. This matrix will provide a visual representation of the model's performance, showing the number of true positives, true negatives, false positives, and false negatives. "
   ]
  },
  {
   "cell_type": "code",
   "execution_count": 13,
   "metadata": {
    "colab": {
     "base_uri": "https://localhost:8080/",
     "height": 286
    },
    "id": "wRjkKQ0szWKT",
    "outputId": "69d84ea8-c21e-4580-b7ac-5e072ecf721a"
   },
   "outputs": [
    {
     "data": {
      "text/plain": [
       "<AxesSubplot:>"
      ]
     },
     "execution_count": 13,
     "metadata": {},
     "output_type": "execute_result"
    },
    {
     "data": {
      "image/png": "[encoded data removed]",
      "text/plain": [
       "<Figure size 432x288 with 2 Axes>"
      ]
     },
     "metadata": {
      "needs_background": "light"
     },
     "output_type": "display_data"
    }
   ],
   "source": [
    "conf_mat=confusion_matrix(y_test_pred,y_test) \n",
    "group_names = [\"True Neg\",\"False Pos\",\"False Neg\",\"True Pos\"]\n",
    "group_counts = [\"{0:0.0f}\".format(value) for value in\n",
    "                conf_mat.flatten()]\n",
    "labels = [f\"{v1}\\n{v2}\" for v1, v2 in\n",
    "          zip(group_names,group_counts)]\n",
    "labels = np.asarray(labels).reshape(2,2)\n",
    "sns.heatmap(conf_mat, annot=labels, fmt=\"\")"
   ]
  }
 ],
 "metadata": {
  "colab": {
   "provenance": []
  },
  "kernelspec": {
   "display_name": "Python 3 (ipykernel)",
   "language": "python",
   "name": "python3"
  },
  "language_info": {
   "codemirror_mode": {
    "name": "ipython",
    "version": 3
   },
   "file_extension": ".py",
   "mimetype": "text/x-python",
   "name": "python",
   "nbconvert_exporter": "python",
   "pygments_lexer": "ipython3",
   "version": "3.8.13"
  }
 },
 "nbformat": 4,
 "nbformat_minor": 4
}
