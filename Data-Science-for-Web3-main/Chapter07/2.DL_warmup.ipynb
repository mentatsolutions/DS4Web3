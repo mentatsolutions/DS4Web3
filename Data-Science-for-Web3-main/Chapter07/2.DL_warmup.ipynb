{
 "cells": [
  {
   "cell_type": "markdown",
   "metadata": {
    "id": "FpY6w08VKBUl"
   },
   "source": [
    "## Installing Kaggle and Downloading Ethereum Fraud Detection Dataset\n",
    "\n",
    "The code `!pip install kaggle` will install the Kaggle API on the computer. To run the this cell you will need to provide the Kaggle user and password in json format in the same directory of this notebook. Please follow the tutorial available in the Further Reading section at the end of the Chapter. \n",
    "The code `!mkdir ~/.kaggle` will create a directory called `.kaggle` in the user's home directory, `!cp kaggle.json ~/.kaggle/` copy the `kaggle.json` file to the `.kaggle` directory and `!chmod 600 ~/.kaggle/kaggle.json` sets the permissions of the `kaggle.json` file to read-only. \n",
    "\n",
    "With `!kaggle datasets download vagifa/ethereum-frauddetection-dataset` download the Ethereum Fraud Detection Dataset from Kaggle and with `!unzip ethereum-frauddetection-dataset.zip` unzip it for use. "
   ]
  },
  {
   "cell_type": "code",
   "execution_count": 1,
   "metadata": {
    "colab": {
     "base_uri": "https://localhost:8080/"
    },
    "id": "rVW0s7Y_htRo",
    "outputId": "ae232533-9ff6-40be-f193-5a5e22274953"
   },
   "outputs": [
    {
     "name": "stdout",
     "output_type": "stream",
     "text": [
      "Requirement already satisfied: kaggle in /usr/local/lib/python3.10/dist-packages (1.5.16)\n",
      "Requirement already satisfied: six>=1.10 in /usr/local/lib/python3.10/dist-packages (from kaggle) (1.16.0)\n",
      "Requirement already satisfied: certifi in /usr/local/lib/python3.10/dist-packages (from kaggle) (2023.7.22)\n",
      "Requirement already satisfied: python-dateutil in /usr/local/lib/python3.10/dist-packages (from kaggle) (2.8.2)\n",
      "Requirement already satisfied: requests in /usr/local/lib/python3.10/dist-packages (from kaggle) (2.27.1)\n",
      "Requirement already satisfied: tqdm in /usr/local/lib/python3.10/dist-packages (from kaggle) (4.65.0)\n",
      "Requirement already satisfied: python-slugify in /usr/local/lib/python3.10/dist-packages (from kaggle) (8.0.1)\n",
      "Requirement already satisfied: urllib3 in /usr/local/lib/python3.10/dist-packages (from kaggle) (1.26.16)\n",
      "Requirement already satisfied: bleach in /usr/local/lib/python3.10/dist-packages (from kaggle) (6.0.0)\n",
      "Requirement already satisfied: webencodings in /usr/local/lib/python3.10/dist-packages (from bleach->kaggle) (0.5.1)\n",
      "Requirement already satisfied: text-unidecode>=1.3 in /usr/local/lib/python3.10/dist-packages (from python-slugify->kaggle) (1.3)\n",
      "Requirement already satisfied: charset-normalizer~=2.0.0 in /usr/local/lib/python3.10/dist-packages (from requests->kaggle) (2.0.12)\n",
      "Requirement already satisfied: idna<4,>=2.5 in /usr/local/lib/python3.10/dist-packages (from requests->kaggle) (3.4)\n",
      "Downloading ethereum-frauddetection-dataset.zip to /content\n",
      "  0% 0.00/923k [00:00<?, ?B/s]\n",
      "100% 923k/923k [00:00<00:00, 119MB/s]\n",
      "Archive:  ethereum-frauddetection-dataset.zip\n",
      "  inflating: transaction_dataset.csv  \n"
     ]
    }
   ],
   "source": [
    "!pip install kaggle\n",
    "!mkdir ~/.kaggle\n",
    "!cp kaggle.json ~/.kaggle/\n",
    "!chmod 600 ~/.kaggle/kaggle.json\n",
    "!kaggle datasets download vagifa/ethereum-frauddetection-dataset\n",
    "!unzip ethereum-frauddetection-dataset"
   ]
  },
  {
   "cell_type": "markdown",
   "metadata": {
    "id": "VDHjHd-zKNG5"
   },
   "source": [
    "## Imports\n",
    "\n",
    "Import the necessary libraries."
   ]
  },
  {
   "cell_type": "code",
   "execution_count": 1,
   "metadata": {
    "id": "5Bx2lVl1kUjC"
   },
   "outputs": [],
   "source": [
    "import pandas as pd\n",
    "import numpy as np\n",
    "import seaborn as sns\n",
    "\n",
    "from sklearn.model_selection import train_test_split\n",
    "from sklearn.preprocessing import RobustScaler\n",
    "from sklearn.metrics import accuracy_score, classification_report, confusion_matrix\n",
    "\n",
    "\n",
    "from keras.models import Sequential\n",
    "from keras.layers import Dropout\n",
    "from keras.layers import Dense\n",
    "from keras import Input\n",
    "import tensorflow as tf\n",
    "import keras"
   ]
  },
  {
   "cell_type": "markdown",
   "metadata": {
    "id": "hgZfRAHOK0Ex"
   },
   "source": [
    "## Read the Dataset\n",
    "\n",
    "Define a list of columns to be used and read the dataset from the file `transaction_dataset.csv` downloaded from Kaggle. "
   ]
  },
  {
   "cell_type": "code",
   "execution_count": 2,
   "metadata": {
    "colab": {
     "base_uri": "https://localhost:8080/",
     "height": 319
    },
    "id": "qLUCoaYskZXJ",
    "outputId": "b38030ca-803d-49e7-ec6d-9d8a014b9b1a"
   },
   "outputs": [
    {
     "data": {
      "text/html": [
       "\n",
       "\n",
       "  <div id=\"df-d44d3c5b-b05a-45c6-ba81-2bfdfdbe49e4\">\n",
       "    <div class=\"colab-df-container\">\n",
       "      <div>\n",
       "<style scoped>\n",
       "    .dataframe tbody tr th:only-of-type {\n",
       "        vertical-align: middle;\n",
       "    }\n",
       "\n",
       "    .dataframe tbody tr th {\n",
       "        vertical-align: top;\n",
       "    }\n",
       "\n",
       "    .dataframe thead th {\n",
       "        text-align: right;\n",
       "    }\n",
       "</style>\n",
       "<table border=\"1\" class=\"dataframe\">\n",
       "  <thead>\n",
       "    <tr style=\"text-align: right;\">\n",
       "      <th></th>\n",
       "      <th>FLAG</th>\n",
       "      <th>Avg min between received tnx</th>\n",
       "      <th>Sent tnx</th>\n",
       "      <th>Received Tnx</th>\n",
       "      <th>Unique Received From Addresses</th>\n",
       "      <th>avg val received</th>\n",
       "      <th>avg val sent</th>\n",
       "      <th>total transactions (including tnx to create contract</th>\n",
       "      <th>total Ether sent</th>\n",
       "      <th>total ether received</th>\n",
       "      <th>Total ERC20 tnxs</th>\n",
       "      <th>ERC20 total Ether received</th>\n",
       "    </tr>\n",
       "  </thead>\n",
       "  <tbody>\n",
       "    <tr>\n",
       "      <th>0</th>\n",
       "      <td>0</td>\n",
       "      <td>1093.71</td>\n",
       "      <td>721</td>\n",
       "      <td>89</td>\n",
       "      <td>40</td>\n",
       "      <td>6.589513</td>\n",
       "      <td>1.200681</td>\n",
       "      <td>810</td>\n",
       "      <td>865.691093</td>\n",
       "      <td>586.466675</td>\n",
       "      <td>265.0</td>\n",
       "      <td>3.558854e+07</td>\n",
       "    </tr>\n",
       "    <tr>\n",
       "      <th>1</th>\n",
       "      <td>0</td>\n",
       "      <td>2958.44</td>\n",
       "      <td>94</td>\n",
       "      <td>8</td>\n",
       "      <td>5</td>\n",
       "      <td>0.385685</td>\n",
       "      <td>0.032844</td>\n",
       "      <td>102</td>\n",
       "      <td>3.087297</td>\n",
       "      <td>3.085478</td>\n",
       "      <td>8.0</td>\n",
       "      <td>4.034283e+02</td>\n",
       "    </tr>\n",
       "    <tr>\n",
       "      <th>2</th>\n",
       "      <td>0</td>\n",
       "      <td>2434.02</td>\n",
       "      <td>2</td>\n",
       "      <td>10</td>\n",
       "      <td>10</td>\n",
       "      <td>0.358906</td>\n",
       "      <td>1.794308</td>\n",
       "      <td>12</td>\n",
       "      <td>3.588616</td>\n",
       "      <td>3.589057</td>\n",
       "      <td>8.0</td>\n",
       "      <td>5.215121e+02</td>\n",
       "    </tr>\n",
       "    <tr>\n",
       "      <th>3</th>\n",
       "      <td>0</td>\n",
       "      <td>15785.09</td>\n",
       "      <td>25</td>\n",
       "      <td>9</td>\n",
       "      <td>7</td>\n",
       "      <td>99.488840</td>\n",
       "      <td>70.001834</td>\n",
       "      <td>34</td>\n",
       "      <td>1750.045862</td>\n",
       "      <td>895.399559</td>\n",
       "      <td>14.0</td>\n",
       "      <td>1.711105e+04</td>\n",
       "    </tr>\n",
       "    <tr>\n",
       "      <th>4</th>\n",
       "      <td>0</td>\n",
       "      <td>10707.77</td>\n",
       "      <td>4598</td>\n",
       "      <td>20</td>\n",
       "      <td>7</td>\n",
       "      <td>2.671095</td>\n",
       "      <td>0.022688</td>\n",
       "      <td>4619</td>\n",
       "      <td>104.318883</td>\n",
       "      <td>53.421897</td>\n",
       "      <td>42.0</td>\n",
       "      <td>1.628297e+05</td>\n",
       "    </tr>\n",
       "  </tbody>\n",
       "</table>\n",
       "</div>\n",
       "      <button class=\"colab-df-convert\" onclick=\"convertToInteractive('df-d44d3c5b-b05a-45c6-ba81-2bfdfdbe49e4')\"\n",
       "              title=\"Convert this dataframe to an interactive table.\"\n",
       "              style=\"display:none;\">\n",
       "\n",
       "  <svg xmlns=\"http://www.w3.org/2000/svg\" height=\"24px\"viewBox=\"0 0 24 24\"\n",
       "       width=\"24px\">\n",
       "    <path d=\"M0 0h24v24H0V0z\" fill=\"none\"/>\n",
       "    <path d=\"M18.56 5.44l.94 2.06.94-2.06 2.06-.94-2.06-.94-.94-2.06-.94 2.06-2.06.94zm-11 1L8.5 8.5l.94-2.06 2.06-.94-2.06-.94L8.5 2.5l-.94 2.06-2.06.94zm10 10l.94 2.06.94-2.06 2.06-.94-2.06-.94-.94-2.06-.94 2.06-2.06.94z\"/><path d=\"M17.41 7.96l-1.37-1.37c-.4-.4-.92-.59-1.43-.59-.52 0-1.04.2-1.43.59L10.3 9.45l-7.72 7.72c-.78.78-.78 2.05 0 2.83L4 21.41c.39.39.9.59 1.41.59.51 0 1.02-.2 1.41-.59l7.78-7.78 2.81-2.81c.8-.78.8-2.07 0-2.86zM5.41 20L4 18.59l7.72-7.72 1.47 1.35L5.41 20z\"/>\n",
       "  </svg>\n",
       "      </button>\n",
       "\n",
       "\n",
       "\n",
       "    <div id=\"df-0084cffd-e875-4d30-94eb-8d30e5133e8f\">\n",
       "      <button class=\"colab-df-quickchart\" onclick=\"quickchart('df-0084cffd-e875-4d30-94eb-8d30e5133e8f')\"\n",
       "              title=\"Suggest charts.\"\n",
       "              style=\"display:none;\">\n",
       "\n",
       "<svg xmlns=\"http://www.w3.org/2000/svg\" height=\"24px\"viewBox=\"0 0 24 24\"\n",
       "     width=\"24px\">\n",
       "    <g>\n",
       "        <path d=\"M19 3H5c-1.1 0-2 .9-2 2v14c0 1.1.9 2 2 2h14c1.1 0 2-.9 2-2V5c0-1.1-.9-2-2-2zM9 17H7v-7h2v7zm4 0h-2V7h2v10zm4 0h-2v-4h2v4z\"/>\n",
       "    </g>\n",
       "</svg>\n",
       "      </button>\n",
       "    </div>\n",
       "\n",
       "<style>\n",
       "  .colab-df-quickchart {\n",
       "    background-color: #E8F0FE;\n",
       "    border: none;\n",
       "    border-radius: 50%;\n",
       "    cursor: pointer;\n",
       "    display: none;\n",
       "    fill: #1967D2;\n",
       "    height: 32px;\n",
       "    padding: 0 0 0 0;\n",
       "    width: 32px;\n",
       "  }\n",
       "\n",
       "  .colab-df-quickchart:hover {\n",
       "    background-color: #E2EBFA;\n",
       "    box-shadow: 0px 1px 2px rgba(60, 64, 67, 0.3), 0px 1px 3px 1px rgba(60, 64, 67, 0.15);\n",
       "    fill: #174EA6;\n",
       "  }\n",
       "\n",
       "  [theme=dark] .colab-df-quickchart {\n",
       "    background-color: #3B4455;\n",
       "    fill: #D2E3FC;\n",
       "  }\n",
       "\n",
       "  [theme=dark] .colab-df-quickchart:hover {\n",
       "    background-color: #434B5C;\n",
       "    box-shadow: 0px 1px 3px 1px rgba(0, 0, 0, 0.15);\n",
       "    filter: drop-shadow(0px 1px 2px rgba(0, 0, 0, 0.3));\n",
       "    fill: #FFFFFF;\n",
       "  }\n",
       "</style>\n",
       "\n",
       "    <script>\n",
       "      async function quickchart(key) {\n",
       "        const containerElement = document.querySelector('#' + key);\n",
       "        const charts = await google.colab.kernel.invokeFunction(\n",
       "            'suggestCharts', [key], {});\n",
       "      }\n",
       "    </script>\n",
       "\n",
       "      <script>\n",
       "\n",
       "function displayQuickchartButton(domScope) {\n",
       "  let quickchartButtonEl =\n",
       "    domScope.querySelector('#df-0084cffd-e875-4d30-94eb-8d30e5133e8f button.colab-df-quickchart');\n",
       "  quickchartButtonEl.style.display =\n",
       "    google.colab.kernel.accessAllowed ? 'block' : 'none';\n",
       "}\n",
       "\n",
       "        displayQuickchartButton(document);\n",
       "      </script>\n",
       "      <style>\n",
       "    .colab-df-container {\n",
       "      display:flex;\n",
       "      flex-wrap:wrap;\n",
       "      gap: 12px;\n",
       "    }\n",
       "\n",
       "    .colab-df-convert {\n",
       "      background-color: #E8F0FE;\n",
       "      border: none;\n",
       "      border-radius: 50%;\n",
       "      cursor: pointer;\n",
       "      display: none;\n",
       "      fill: #1967D2;\n",
       "      height: 32px;\n",
       "      padding: 0 0 0 0;\n",
       "      width: 32px;\n",
       "    }\n",
       "\n",
       "    .colab-df-convert:hover {\n",
       "      background-color: #E2EBFA;\n",
       "      box-shadow: 0px 1px 2px rgba(60, 64, 67, 0.3), 0px 1px 3px 1px rgba(60, 64, 67, 0.15);\n",
       "      fill: #174EA6;\n",
       "    }\n",
       "\n",
       "    [theme=dark] .colab-df-convert {\n",
       "      background-color: #3B4455;\n",
       "      fill: #D2E3FC;\n",
       "    }\n",
       "\n",
       "    [theme=dark] .colab-df-convert:hover {\n",
       "      background-color: #434B5C;\n",
       "      box-shadow: 0px 1px 3px 1px rgba(0, 0, 0, 0.15);\n",
       "      filter: drop-shadow(0px 1px 2px rgba(0, 0, 0, 0.3));\n",
       "      fill: #FFFFFF;\n",
       "    }\n",
       "  </style>\n",
       "\n",
       "      <script>\n",
       "        const buttonEl =\n",
       "          document.querySelector('#df-d44d3c5b-b05a-45c6-ba81-2bfdfdbe49e4 button.colab-df-convert');\n",
       "        buttonEl.style.display =\n",
       "          google.colab.kernel.accessAllowed ? 'block' : 'none';\n",
       "\n",
       "        async function convertToInteractive(key) {\n",
       "          const element = document.querySelector('#df-d44d3c5b-b05a-45c6-ba81-2bfdfdbe49e4');\n",
       "          const dataTable =\n",
       "            await google.colab.kernel.invokeFunction('convertToInteractive',\n",
       "                                                     [key], {});\n",
       "          if (!dataTable) return;\n",
       "\n",
       "          const docLinkHtml = 'Like what you see? Visit the ' +\n",
       "            '<a target=\"_blank\" href=https://colab.research.google.com/notebooks/data_table.ipynb>data table notebook</a>'\n",
       "            + ' to learn more about interactive tables.';\n",
       "          element.innerHTML = '';\n",
       "          dataTable['output_type'] = 'display_data';\n",
       "          await google.colab.output.renderOutput(dataTable, element);\n",
       "          const docLink = document.createElement('div');\n",
       "          docLink.innerHTML = docLinkHtml;\n",
       "          element.appendChild(docLink);\n",
       "        }\n",
       "      </script>\n",
       "    </div>\n",
       "  </div>\n"
      ],
      "text/plain": [
       "   FLAG  Avg min between received tnx  Sent tnx  Received Tnx  \\\n",
       "0     0                       1093.71       721            89   \n",
       "1     0                       2958.44        94             8   \n",
       "2     0                       2434.02         2            10   \n",
       "3     0                      15785.09        25             9   \n",
       "4     0                      10707.77      4598            20   \n",
       "\n",
       "   Unique Received From Addresses  avg val received  avg val sent  \\\n",
       "0                              40          6.589513      1.200681   \n",
       "1                               5          0.385685      0.032844   \n",
       "2                              10          0.358906      1.794308   \n",
       "3                               7         99.488840     70.001834   \n",
       "4                               7          2.671095      0.022688   \n",
       "\n",
       "   total transactions (including tnx to create contract  total Ether sent  \\\n",
       "0                                                810           865.691093   \n",
       "1                                                102             3.087297   \n",
       "2                                                 12             3.588616   \n",
       "3                                                 34          1750.045862   \n",
       "4                                               4619           104.318883   \n",
       "\n",
       "   total ether received   Total ERC20 tnxs   ERC20 total Ether received  \n",
       "0            586.466675              265.0                 3.558854e+07  \n",
       "1              3.085478                8.0                 4.034283e+02  \n",
       "2              3.589057                8.0                 5.215121e+02  \n",
       "3            895.399559               14.0                 1.711105e+04  \n",
       "4             53.421897               42.0                 1.628297e+05  "
      ]
     },
     "execution_count": 2,
     "metadata": {},
     "output_type": "execute_result"
    }
   ],
   "source": [
    "columns=['FLAG', 'Avg min between received tnx','Sent tnx', 'Received Tnx', 'Unique Received From Addresses',\n",
    "        'avg val received','avg val sent', 'total transactions (including tnx to create contract','total Ether sent', 'total ether received',\n",
    "      ' Total ERC20 tnxs', ' ERC20 total Ether received']\n",
    "df= pd.read_csv (\"transaction_dataset.csv\", usecols=columns)\n",
    "df.head()"
   ]
  },
  {
   "cell_type": "code",
   "execution_count": 3,
   "metadata": {
    "colab": {
     "base_uri": "https://localhost:8080/"
    },
    "id": "aUJUmj7RrGY9",
    "outputId": "1709aa75-6880-4dfa-d166-726b4db8043a"
   },
   "outputs": [
    {
     "name": "stdout",
     "output_type": "stream",
     "text": [
      "<class 'pandas.core.frame.DataFrame'>\n",
      "RangeIndex: 9841 entries, 0 to 9840\n",
      "Data columns (total 12 columns):\n",
      " #   Column                                                Non-Null Count  Dtype  \n",
      "---  ------                                                --------------  -----  \n",
      " 0   FLAG                                                  9841 non-null   int64  \n",
      " 1   Avg min between received tnx                          9841 non-null   float64\n",
      " 2   Sent tnx                                              9841 non-null   int64  \n",
      " 3   Received Tnx                                          9841 non-null   int64  \n",
      " 4   Unique Received From Addresses                        9841 non-null   int64  \n",
      " 5   avg val received                                      9841 non-null   float64\n",
      " 6   avg val sent                                          9841 non-null   float64\n",
      " 7   total transactions (including tnx to create contract  9841 non-null   int64  \n",
      " 8   total Ether sent                                      9841 non-null   float64\n",
      " 9   total ether received                                  9841 non-null   float64\n",
      " 10   Total ERC20 tnxs                                     9012 non-null   float64\n",
      " 11   ERC20 total Ether received                           9012 non-null   float64\n",
      "dtypes: float64(7), int64(5)\n",
      "memory usage: 922.7 KB\n"
     ]
    }
   ],
   "source": [
    "df.info()"
   ]
  },
  {
   "cell_type": "markdown",
   "metadata": {
    "id": "K7ZLE7YNK_bE"
   },
   "source": [
    "## Dropping Null Values\n",
    "\n",
    "Drop all rows with null values in the specified columns."
   ]
  },
  {
   "cell_type": "code",
   "execution_count": 4,
   "metadata": {
    "id": "l9HkYPejvjZ7"
   },
   "outputs": [],
   "source": [
    "df.dropna(subset=['Avg min between received tnx',\n",
    "       'Sent tnx', 'Received Tnx', 'Unique Received From Addresses',\n",
    "       'avg val received', 'avg val sent',\n",
    "       'total transactions (including tnx to create contract',\n",
    "       'total Ether sent', 'total ether received', ' Total ERC20 tnxs',\n",
    "       ' ERC20 total Ether received'], inplace=True)"
   ]
  },
  {
   "cell_type": "markdown",
   "metadata": {},
   "source": [
    "\n",
    "## Dependent and independent variables\n",
    "\n",
    "The `X` variable contains all the columns from the dataframe except for the `FLAG` column, while the `y` variable contains only the `FLAG` column also known as labels. "
   ]
  },
  {
   "cell_type": "code",
   "execution_count": 5,
   "metadata": {
    "id": "8R1wSVDsrM_o"
   },
   "outputs": [],
   "source": [
    "X = df.loc[:, df.columns != \"FLAG\"]\n",
    "y= df[['FLAG']]"
   ]
  },
  {
   "cell_type": "markdown",
   "metadata": {},
   "source": [
    "## Scaling Data\n",
    "\n",
    "Create a RobustScaler object. The `X=scaler.fit_transform(X)` will use the RobustScaler object to scale the data in the `X` variable. This scaling will help ensure that all the features in the data have the same range, which can help improve the accuracy of the model. "
   ]
  },
  {
   "cell_type": "code",
   "execution_count": 6,
   "metadata": {
    "id": "3C_5DUsPaCMZ"
   },
   "outputs": [],
   "source": [
    "scaler = RobustScaler()\n",
    "X=scaler.fit_transform(X)"
   ]
  },
  {
   "cell_type": "markdown",
   "metadata": {
    "id": "on3S9bRjLH1N"
   },
   "source": [
    "## Splitting Data\n",
    "\n",
    "Split the data into training and testing sets. The `stratify` parameter ensures that the proportion of labels in the training and testing sets is the same as the proportion of labels in the original dataset."
   ]
  },
  {
   "cell_type": "code",
   "execution_count": 7,
   "metadata": {
    "id": "ffx8PXzStOzC"
   },
   "outputs": [],
   "source": [
    "X_train, X_test, y_train, y_test = train_test_split(X, y, test_size=0.33, random_state=42, stratify= y)"
   ]
  },
  {
   "cell_type": "code",
   "execution_count": 8,
   "metadata": {
    "colab": {
     "base_uri": "https://localhost:8080/"
    },
    "id": "C4S95LNyuzNK",
    "outputId": "1064653a-abaf-428e-a052-1e85492b8aa4"
   },
   "outputs": [
    {
     "name": "stdout",
     "output_type": "stream",
     "text": [
      "(6038, 11)\n",
      "(6038, 1)\n",
      "(2974, 11)\n",
      "(2974, 1)\n"
     ]
    }
   ],
   "source": [
    "print (X_train.shape)\n",
    "print (y_train.shape)\n",
    "\n",
    "print (X_test.shape)\n",
    "print (y_test.shape)"
   ]
  },
  {
   "cell_type": "markdown",
   "metadata": {
    "id": "s0orr1CdTRBA"
   },
   "source": [
    "## Build the Model\n",
    "\n",
    "Create a Sequential model with four layers, the first layer taking the shape of the training data, and the last layer having a sigmoid activation function. Compile the model by defining the loss function as Binary Crossentropy and the metrics as Precision and Recall."
   ]
  },
  {
   "cell_type": "code",
   "execution_count": 11,
   "metadata": {
    "colab": {
     "base_uri": "https://localhost:8080/"
    },
    "id": "mxvneL3X2jG-",
    "outputId": "cc512c19-19b1-4c89-ea90-af4eb3f9eb38"
   },
   "outputs": [
    {
     "name": "stdout",
     "output_type": "stream",
     "text": [
      "Model: \"sequential_2\"\n",
      "_________________________________________________________________\n",
      " Layer (type)                Output Shape              Param #   \n",
      "=================================================================\n",
      " dense_10 (Dense)            (None, 30)                360       \n",
      "                                                                 \n",
      " dense_11 (Dense)            (None, 10)                310       \n",
      "                                                                 \n",
      " dense_12 (Dense)            (None, 5)                 55        \n",
      "                                                                 \n",
      " dense_13 (Dense)            (None, 1)                 6         \n",
      "                                                                 \n",
      "=================================================================\n",
      "Total params: 731\n",
      "Trainable params: 731\n",
      "Non-trainable params: 0\n",
      "_________________________________________________________________\n"
     ]
    }
   ],
   "source": [
    "metrics = [\n",
    " #   keras.metrics.FalseNegatives(name=\"fn\"),\n",
    " #   keras.metrics.FalsePositives(name=\"fp\"),\n",
    " #   keras.metrics.TrueNegatives(name=\"tn\"),\n",
    " #   keras.metrics.TruePositives(name=\"tp\"),\n",
    "    keras.metrics.Precision(name=\"precision\"),\n",
    "    keras.metrics.Recall(name=\"recall\"),\n",
    "]\n",
    "loss_function = tf.keras.losses.BinaryCrossentropy(from_logits=True , reduction='sum')\n",
    "#create model\n",
    "model = Sequential()\n",
    "#add model layers\n",
    "model.add(Input(shape=(X_train.shape[1],)))\n",
    "model.add(Dense(30, activation='relu'))\n",
    "model.add(Dense(10, activation='relu'))\n",
    "model.add(Dense(5, activation='relu'))\n",
    "model.add(Dense(1, activation='sigmoid'))\n",
    "model.compile(optimizer=keras.optimizers.Adam(1e-2), loss=loss_function, metrics=metrics)\n",
    "model.summary()"
   ]
  },
  {
   "cell_type": "markdown",
   "metadata": {
    "id": "qF7phkXgLNJG"
   },
   "source": [
    "#### Setting Class Weights\n",
    "\n",
    "Set the class weights for the model. This is used to adjust the weights of the classes in the model to account for imbalanced datasets.\n",
    "The formula for class_weight is `total observations / (number of classes * observations in class)`."
   ]
  },
  {
   "cell_type": "code",
   "execution_count": 12,
   "metadata": {
    "id": "aCcGqe6WGxkP"
   },
   "outputs": [],
   "source": [
    "#class_weight={1:3.34 ,0:0.59}"
   ]
  },
  {
   "cell_type": "markdown",
   "metadata": {},
   "source": [
    "## Training the Model\n",
    "\n",
    "Train the model using the training data (X_train and y_train) and the validation data (X_test and y_test). The model will be trained for 90 epochs."
   ]
  },
  {
   "cell_type": "code",
   "execution_count": 13,
   "metadata": {
    "colab": {
     "base_uri": "https://localhost:8080/"
    },
    "id": "EqrxaSc5CdtA",
    "outputId": "d095d60a-956a-4239-b935-b42567390715"
   },
   "outputs": [
    {
     "name": "stdout",
     "output_type": "stream",
     "text": [
      "Epoch 1/90\n"
     ]
    },
    {
     "name": "stderr",
     "output_type": "stream",
     "text": [
      "/usr/local/lib/python3.10/dist-packages/keras/backend.py:5703: UserWarning: \"`binary_crossentropy` received `from_logits=True`, but the `output` argument was produced by a Sigmoid activation and thus does not represent logits. Was this intended?\n",
      "  output, from_logits = _get_logits(\n"
     ]
    },
    {
     "name": "stdout",
     "output_type": "stream",
     "text": [
      "183/189 [============================>.] - ETA: 0s - loss: 501.7614 - precision: 0.8741 - recall: 0.4215"
     ]
    },
    {
     "name": "stderr",
     "output_type": "stream",
     "text": [
      "/usr/local/lib/python3.10/dist-packages/keras/backend.py:5703: UserWarning: \"`binary_crossentropy` received `from_logits=True`, but the `output` argument was produced by a Sigmoid activation and thus does not represent logits. Was this intended?\n",
      "  output, from_logits = _get_logits(\n"
     ]
    },
    {
     "name": "stdout",
     "output_type": "stream",
     "text": [
      "189/189 [==============================] - 4s 8ms/step - loss: 486.7880 - precision: 0.8733 - recall: 0.4347 - val_loss: 7.0528 - val_precision: 0.8788 - val_recall: 0.7803\n",
      "Epoch 2/90\n",
      "189/189 [==============================] - 0s 2ms/step - loss: 8.1313 - precision: 0.8704 - recall: 0.7058 - val_loss: 4.9093 - val_precision: 0.8981 - val_recall: 0.7511\n",
      "Epoch 3/90\n",
      "189/189 [==============================] - 0s 2ms/step - loss: 4.8393 - precision: 0.8778 - recall: 0.7389 - val_loss: 4.1952 - val_precision: 0.9134 - val_recall: 0.7803\n",
      "Epoch 4/90\n",
      "189/189 [==============================] - 0s 2ms/step - loss: 4.3870 - precision: 0.8984 - recall: 0.7633 - val_loss: 3.9093 - val_precision: 0.9291 - val_recall: 0.7937\n",
      "Epoch 5/90\n",
      "189/189 [==============================] - 0s 2ms/step - loss: 5.9534 - precision: 0.8960 - recall: 0.7721 - val_loss: 3.8150 - val_precision: 0.9034 - val_recall: 0.8386\n",
      "Epoch 6/90\n",
      "189/189 [==============================] - 0s 2ms/step - loss: 4.2080 - precision: 0.9026 - recall: 0.8097 - val_loss: 3.7030 - val_precision: 0.9244 - val_recall: 0.8229\n",
      "Epoch 7/90\n",
      "189/189 [==============================] - 0s 2ms/step - loss: 6.0356 - precision: 0.9071 - recall: 0.7777 - val_loss: 3.8126 - val_precision: 0.9286 - val_recall: 0.8161\n",
      "Epoch 8/90\n",
      "189/189 [==============================] - 0s 2ms/step - loss: 4.0570 - precision: 0.9140 - recall: 0.7998 - val_loss: 3.6621 - val_precision: 0.9293 - val_recall: 0.8251\n",
      "Epoch 9/90\n",
      "189/189 [==============================] - 0s 2ms/step - loss: 4.7973 - precision: 0.9153 - recall: 0.7533 - val_loss: 4.2653 - val_precision: 0.9037 - val_recall: 0.7578\n",
      "Epoch 10/90\n",
      "189/189 [==============================] - 0s 2ms/step - loss: 4.1605 - precision: 0.9150 - recall: 0.7743 - val_loss: 3.8146 - val_precision: 0.9093 - val_recall: 0.8094\n",
      "Epoch 11/90\n",
      "189/189 [==============================] - 1s 3ms/step - loss: 3.8672 - precision: 0.9265 - recall: 0.7942 - val_loss: 3.4494 - val_precision: 0.9221 - val_recall: 0.8229\n",
      "Epoch 12/90\n",
      "189/189 [==============================] - 0s 2ms/step - loss: 3.6505 - precision: 0.9269 - recall: 0.7998 - val_loss: 3.6026 - val_precision: 0.9034 - val_recall: 0.8386\n",
      "Epoch 13/90\n",
      "189/189 [==============================] - 0s 2ms/step - loss: 3.6774 - precision: 0.9334 - recall: 0.8064 - val_loss: 3.5110 - val_precision: 0.9080 - val_recall: 0.8408\n",
      "Epoch 14/90\n",
      "189/189 [==============================] - 1s 3ms/step - loss: 3.5270 - precision: 0.9334 - recall: 0.8064 - val_loss: 3.4672 - val_precision: 0.9318 - val_recall: 0.8274\n",
      "Epoch 15/90\n",
      "189/189 [==============================] - 0s 2ms/step - loss: 8.2527 - precision: 0.9316 - recall: 0.7987 - val_loss: 3.6746 - val_precision: 0.9302 - val_recall: 0.8363\n",
      "Epoch 16/90\n",
      "189/189 [==============================] - 0s 2ms/step - loss: 3.6874 - precision: 0.9381 - recall: 0.8042 - val_loss: 3.5956 - val_precision: 0.9091 - val_recall: 0.8520\n",
      "Epoch 17/90\n",
      "189/189 [==============================] - 0s 2ms/step - loss: 3.5588 - precision: 0.9386 - recall: 0.8119 - val_loss: 3.6090 - val_precision: 0.9280 - val_recall: 0.8386\n",
      "Epoch 18/90\n",
      "189/189 [==============================] - 0s 2ms/step - loss: 3.4849 - precision: 0.9449 - recall: 0.8164 - val_loss: 3.3587 - val_precision: 0.9236 - val_recall: 0.8408\n",
      "Epoch 19/90\n",
      "189/189 [==============================] - 0s 3ms/step - loss: 3.4296 - precision: 0.9397 - recall: 0.8108 - val_loss: 3.7912 - val_precision: 0.9356 - val_recall: 0.8139\n",
      "Epoch 20/90\n",
      "189/189 [==============================] - 0s 3ms/step - loss: 3.3687 - precision: 0.9434 - recall: 0.8119 - val_loss: 3.8527 - val_precision: 0.9311 - val_recall: 0.8184\n",
      "Epoch 21/90\n",
      "189/189 [==============================] - 1s 3ms/step - loss: 3.5403 - precision: 0.9374 - recall: 0.8119 - val_loss: 3.4413 - val_precision: 0.9320 - val_recall: 0.8296\n",
      "Epoch 22/90\n",
      "189/189 [==============================] - 1s 3ms/step - loss: 3.4198 - precision: 0.9484 - recall: 0.8131 - val_loss: 3.7448 - val_precision: 0.9271 - val_recall: 0.8274\n",
      "Epoch 23/90\n",
      "189/189 [==============================] - 1s 3ms/step - loss: 3.3883 - precision: 0.9402 - recall: 0.8175 - val_loss: 3.7109 - val_precision: 0.9256 - val_recall: 0.8363\n",
      "Epoch 24/90\n",
      "189/189 [==============================] - 1s 3ms/step - loss: 3.3315 - precision: 0.9495 - recall: 0.8108 - val_loss: 3.8059 - val_precision: 0.9416 - val_recall: 0.8318\n",
      "Epoch 25/90\n",
      "189/189 [==============================] - 1s 3ms/step - loss: 3.3270 - precision: 0.9473 - recall: 0.8153 - val_loss: 4.4108 - val_precision: 0.9323 - val_recall: 0.8341\n",
      "Epoch 26/90\n",
      "189/189 [==============================] - 1s 3ms/step - loss: 3.3175 - precision: 0.9459 - recall: 0.8131 - val_loss: 3.9619 - val_precision: 0.9277 - val_recall: 0.8341\n",
      "Epoch 27/90\n",
      "189/189 [==============================] - 1s 3ms/step - loss: 3.2732 - precision: 0.9457 - recall: 0.8097 - val_loss: 3.3401 - val_precision: 0.9280 - val_recall: 0.8386\n",
      "Epoch 28/90\n",
      "189/189 [==============================] - 1s 3ms/step - loss: 3.3042 - precision: 0.9447 - recall: 0.8131 - val_loss: 3.1967 - val_precision: 0.9294 - val_recall: 0.8565\n",
      "Epoch 29/90\n",
      "189/189 [==============================] - 0s 2ms/step - loss: 3.3533 - precision: 0.9436 - recall: 0.8142 - val_loss: 3.5867 - val_precision: 0.9258 - val_recall: 0.8117\n",
      "Epoch 30/90\n",
      "189/189 [==============================] - 0s 2ms/step - loss: 3.3773 - precision: 0.9359 - recall: 0.8075 - val_loss: 3.2745 - val_precision: 0.9195 - val_recall: 0.8453\n",
      "Epoch 31/90\n",
      "189/189 [==============================] - 1s 4ms/step - loss: 3.2313 - precision: 0.9487 - recall: 0.8175 - val_loss: 3.2873 - val_precision: 0.9221 - val_recall: 0.8498\n",
      "Epoch 32/90\n",
      "189/189 [==============================] - 1s 5ms/step - loss: 3.2365 - precision: 0.9451 - recall: 0.8186 - val_loss: 3.4958 - val_precision: 0.9450 - val_recall: 0.8094\n",
      "Epoch 33/90\n",
      "189/189 [==============================] - 1s 6ms/step - loss: 3.2442 - precision: 0.9501 - recall: 0.8219 - val_loss: 3.9810 - val_precision: 0.9744 - val_recall: 0.7691\n",
      "Epoch 34/90\n",
      "189/189 [==============================] - 1s 5ms/step - loss: 3.1791 - precision: 0.9450 - recall: 0.8175 - val_loss: 4.4376 - val_precision: 0.9275 - val_recall: 0.8318\n",
      "Epoch 35/90\n",
      "189/189 [==============================] - 0s 2ms/step - loss: 3.0553 - precision: 0.9505 - recall: 0.8285 - val_loss: 3.8584 - val_precision: 0.9515 - val_recall: 0.8363\n",
      "Epoch 36/90\n",
      "189/189 [==============================] - 1s 3ms/step - loss: 3.0752 - precision: 0.9540 - recall: 0.8263 - val_loss: 4.8715 - val_precision: 0.9495 - val_recall: 0.8430\n",
      "Epoch 37/90\n",
      "189/189 [==============================] - 0s 3ms/step - loss: 3.4580 - precision: 0.9418 - recall: 0.8053 - val_loss: 4.5964 - val_precision: 0.9202 - val_recall: 0.8274\n",
      "Epoch 38/90\n",
      "189/189 [==============================] - 1s 3ms/step - loss: 3.1626 - precision: 0.9520 - recall: 0.8119 - val_loss: 6.1129 - val_precision: 0.9296 - val_recall: 0.8296\n",
      "Epoch 39/90\n",
      "189/189 [==============================] - 0s 2ms/step - loss: 3.0206 - precision: 0.9551 - recall: 0.8241 - val_loss: 13.0163 - val_precision: 0.9248 - val_recall: 0.8274\n",
      "Epoch 40/90\n",
      "189/189 [==============================] - 0s 3ms/step - loss: 6.4309 - precision: 0.9328 - recall: 0.8142 - val_loss: 3.4295 - val_precision: 0.9104 - val_recall: 0.8655\n",
      "Epoch 41/90\n",
      "189/189 [==============================] - 1s 3ms/step - loss: 3.2936 - precision: 0.9480 - recall: 0.8064 - val_loss: 3.2814 - val_precision: 0.9078 - val_recall: 0.8610\n",
      "Epoch 42/90\n",
      "189/189 [==============================] - 1s 4ms/step - loss: 3.2819 - precision: 0.9538 - recall: 0.8219 - val_loss: 3.1891 - val_precision: 0.9367 - val_recall: 0.8632\n",
      "Epoch 43/90\n",
      "189/189 [==============================] - 1s 4ms/step - loss: 3.0765 - precision: 0.9566 - recall: 0.8296 - val_loss: 3.2654 - val_precision: 0.9404 - val_recall: 0.8498\n",
      "Epoch 44/90\n",
      "189/189 [==============================] - 1s 3ms/step - loss: 3.5244 - precision: 0.9505 - recall: 0.8075 - val_loss: 3.3376 - val_precision: 0.9651 - val_recall: 0.8072\n",
      "Epoch 45/90\n",
      "189/189 [==============================] - 2s 8ms/step - loss: 3.2731 - precision: 0.9516 - recall: 0.8042 - val_loss: 3.2992 - val_precision: 0.9231 - val_recall: 0.8341\n",
      "Epoch 46/90\n",
      "189/189 [==============================] - 1s 7ms/step - loss: 3.2028 - precision: 0.9531 - recall: 0.8086 - val_loss: 3.2999 - val_precision: 0.9199 - val_recall: 0.8498\n",
      "Epoch 47/90\n",
      "189/189 [==============================] - 1s 6ms/step - loss: 3.3024 - precision: 0.9630 - recall: 0.8064 - val_loss: 3.9031 - val_precision: 0.9372 - val_recall: 0.8363\n",
      "Epoch 48/90\n",
      "189/189 [==============================] - 0s 3ms/step - loss: 3.2329 - precision: 0.9535 - recall: 0.8175 - val_loss: 3.1581 - val_precision: 0.9756 - val_recall: 0.8072\n",
      "Epoch 49/90\n",
      "189/189 [==============================] - 0s 3ms/step - loss: 3.2090 - precision: 0.9607 - recall: 0.8108 - val_loss: 3.1827 - val_precision: 0.9348 - val_recall: 0.8363\n",
      "Epoch 50/90\n",
      "189/189 [==============================] - 1s 3ms/step - loss: 3.1085 - precision: 0.9623 - recall: 0.8197 - val_loss: 3.2619 - val_precision: 0.9634 - val_recall: 0.8251\n",
      "Epoch 51/90\n",
      "189/189 [==============================] - 0s 3ms/step - loss: 3.0543 - precision: 0.9662 - recall: 0.8219 - val_loss: 3.6611 - val_precision: 0.9536 - val_recall: 0.8296\n",
      "Epoch 52/90\n",
      "189/189 [==============================] - 0s 3ms/step - loss: 3845.3850 - precision: 0.9538 - recall: 0.7765 - val_loss: 3.7716 - val_precision: 0.9512 - val_recall: 0.7870\n",
      "Epoch 53/90\n",
      "189/189 [==============================] - 1s 3ms/step - loss: 3.8184 - precision: 0.9429 - recall: 0.7677 - val_loss: 3.4466 - val_precision: 0.9266 - val_recall: 0.8206\n",
      "Epoch 54/90\n",
      "189/189 [==============================] - 1s 3ms/step - loss: 3.6620 - precision: 0.9491 - recall: 0.7843 - val_loss: 3.4421 - val_precision: 0.9357 - val_recall: 0.8161\n",
      "Epoch 55/90\n",
      "189/189 [==============================] - 0s 2ms/step - loss: 3.5307 - precision: 0.9535 - recall: 0.7931 - val_loss: 3.5954 - val_precision: 0.9264 - val_recall: 0.8184\n",
      "Epoch 56/90\n",
      "189/189 [==============================] - 1s 3ms/step - loss: 3.4605 - precision: 0.9498 - recall: 0.7954 - val_loss: 7.8112 - val_precision: 0.9284 - val_recall: 0.8139\n",
      "Epoch 57/90\n",
      "189/189 [==============================] - 0s 3ms/step - loss: 3.4983 - precision: 0.9457 - recall: 0.7898 - val_loss: 7.2704 - val_precision: 0.9501 - val_recall: 0.8117\n",
      "Epoch 58/90\n",
      "189/189 [==============================] - 1s 3ms/step - loss: 4.2049 - precision: 0.9588 - recall: 0.7987 - val_loss: 5.4756 - val_precision: 0.9481 - val_recall: 0.8184\n",
      "Epoch 59/90\n",
      "189/189 [==============================] - 1s 5ms/step - loss: 3.8854 - precision: 0.9453 - recall: 0.7843 - val_loss: 3.7685 - val_precision: 0.9256 - val_recall: 0.8094\n",
      "Epoch 60/90\n",
      "189/189 [==============================] - 1s 4ms/step - loss: 3.4582 - precision: 0.9601 - recall: 0.7987 - val_loss: 3.6882 - val_precision: 0.9654 - val_recall: 0.8139\n",
      "Epoch 61/90\n",
      "189/189 [==============================] - 0s 3ms/step - loss: 3.3825 - precision: 0.9666 - recall: 0.7998 - val_loss: 3.6795 - val_precision: 0.9678 - val_recall: 0.8094\n",
      "Epoch 62/90\n",
      "189/189 [==============================] - 1s 3ms/step - loss: 3.3386 - precision: 0.9719 - recall: 0.8031 - val_loss: 3.6692 - val_precision: 0.9705 - val_recall: 0.8117\n",
      "Epoch 63/90\n",
      "189/189 [==============================] - 0s 3ms/step - loss: 6.3301 - precision: 0.9442 - recall: 0.7301 - val_loss: 4.4816 - val_precision: 0.9284 - val_recall: 0.7556\n",
      "Epoch 64/90\n",
      "189/189 [==============================] - 1s 3ms/step - loss: 3.9971 - precision: 0.9469 - recall: 0.7500 - val_loss: 4.2882 - val_precision: 0.9333 - val_recall: 0.7848\n",
      "Epoch 65/90\n",
      "189/189 [==============================] - 1s 3ms/step - loss: 3.9050 - precision: 0.9469 - recall: 0.7688 - val_loss: 3.8651 - val_precision: 0.9349 - val_recall: 0.8049\n",
      "Epoch 66/90\n",
      "189/189 [==============================] - 1s 3ms/step - loss: 3.6727 - precision: 0.9547 - recall: 0.7699 - val_loss: 3.9420 - val_precision: 0.9489 - val_recall: 0.7915\n",
      "Epoch 67/90\n",
      "189/189 [==============================] - 1s 3ms/step - loss: 3.5750 - precision: 0.9579 - recall: 0.7799 - val_loss: 3.9395 - val_precision: 0.9370 - val_recall: 0.8004\n",
      "Epoch 68/90\n",
      "189/189 [==============================] - 0s 3ms/step - loss: 3.6900 - precision: 0.9568 - recall: 0.7843 - val_loss: 4.1679 - val_precision: 0.9215 - val_recall: 0.8161\n",
      "Epoch 69/90\n",
      "189/189 [==============================] - 1s 3ms/step - loss: 3.6608 - precision: 0.9559 - recall: 0.7920 - val_loss: 4.1144 - val_precision: 0.9508 - val_recall: 0.8229\n",
      "Epoch 70/90\n",
      "189/189 [==============================] - 1s 3ms/step - loss: 3.4748 - precision: 0.9611 - recall: 0.7920 - val_loss: 3.8962 - val_precision: 0.9554 - val_recall: 0.8161\n",
      "Epoch 71/90\n",
      "189/189 [==============================] - 1s 3ms/step - loss: 3.4667 - precision: 0.9573 - recall: 0.7942 - val_loss: 3.7446 - val_precision: 0.9608 - val_recall: 0.8251\n",
      "Epoch 72/90\n",
      "189/189 [==============================] - 0s 3ms/step - loss: 3.3381 - precision: 0.9626 - recall: 0.7965 - val_loss: 3.9615 - val_precision: 0.9471 - val_recall: 0.8430\n",
      "Epoch 73/90\n",
      "189/189 [==============================] - 0s 2ms/step - loss: 3.2645 - precision: 0.9644 - recall: 0.8086 - val_loss: 3.7699 - val_precision: 0.9589 - val_recall: 0.8363\n",
      "Epoch 74/90\n",
      "189/189 [==============================] - 1s 3ms/step - loss: 3.8941 - precision: 0.9562 - recall: 0.7965 - val_loss: 3.9924 - val_precision: 0.9623 - val_recall: 0.8004\n",
      "Epoch 75/90\n",
      "189/189 [==============================] - 0s 2ms/step - loss: 3.4062 - precision: 0.9530 - recall: 0.8075 - val_loss: 3.9963 - val_precision: 0.9556 - val_recall: 0.8206\n",
      "Epoch 76/90\n",
      "189/189 [==============================] - 0s 3ms/step - loss: 3.2356 - precision: 0.9597 - recall: 0.8175 - val_loss: 5.1653 - val_precision: 0.9106 - val_recall: 0.8677\n",
      "Epoch 77/90\n",
      "189/189 [==============================] - 0s 2ms/step - loss: 3.6937 - precision: 0.9602 - recall: 0.8009 - val_loss: 3.9183 - val_precision: 0.9508 - val_recall: 0.8229\n",
      "Epoch 78/90\n",
      "189/189 [==============================] - 0s 3ms/step - loss: 3.2440 - precision: 0.9620 - recall: 0.8131 - val_loss: 3.7579 - val_precision: 0.9585 - val_recall: 0.8296\n",
      "Epoch 79/90\n",
      "189/189 [==============================] - 0s 3ms/step - loss: 3.2548 - precision: 0.9609 - recall: 0.8153 - val_loss: 4.0329 - val_precision: 0.9585 - val_recall: 0.8296\n",
      "Epoch 80/90\n",
      "189/189 [==============================] - 1s 3ms/step - loss: 3.1979 - precision: 0.9686 - recall: 0.8186 - val_loss: 3.8618 - val_precision: 0.9529 - val_recall: 0.8610\n",
      "Epoch 81/90\n",
      "189/189 [==============================] - 1s 3ms/step - loss: 3.1522 - precision: 0.9627 - recall: 0.8274 - val_loss: 3.8166 - val_precision: 0.9557 - val_recall: 0.8229\n",
      "Epoch 82/90\n",
      "189/189 [==============================] - 1s 4ms/step - loss: 3.2256 - precision: 0.9586 - recall: 0.8197 - val_loss: 3.5716 - val_precision: 0.9514 - val_recall: 0.8341\n",
      "Epoch 83/90\n",
      "189/189 [==============================] - 0s 2ms/step - loss: 3.1683 - precision: 0.9634 - recall: 0.8164 - val_loss: 3.8031 - val_precision: 0.9443 - val_recall: 0.8363\n",
      "Epoch 84/90\n",
      "189/189 [==============================] - 0s 3ms/step - loss: 3.0497 - precision: 0.9635 - recall: 0.8175 - val_loss: 4.1556 - val_precision: 0.9148 - val_recall: 0.8430\n",
      "Epoch 85/90\n",
      "189/189 [==============================] - 0s 2ms/step - loss: 3.1358 - precision: 0.9610 - recall: 0.8175 - val_loss: 3.8560 - val_precision: 0.9634 - val_recall: 0.8251\n",
      "Epoch 86/90\n",
      "189/189 [==============================] - 0s 2ms/step - loss: 3.0377 - precision: 0.9736 - recall: 0.8175 - val_loss: 5.7371 - val_precision: 0.9540 - val_recall: 0.8363\n",
      "Epoch 87/90\n",
      "189/189 [==============================] - 1s 3ms/step - loss: 2.9587 - precision: 0.9725 - recall: 0.8208 - val_loss: 5.6223 - val_precision: 0.9244 - val_recall: 0.8498\n",
      "Epoch 88/90\n",
      "189/189 [==============================] - 0s 3ms/step - loss: 3.0130 - precision: 0.9648 - recall: 0.8197 - val_loss: 5.6048 - val_precision: 0.9466 - val_recall: 0.8341\n",
      "Epoch 89/90\n",
      "189/189 [==============================] - 1s 3ms/step - loss: 3.2630 - precision: 0.9674 - recall: 0.8197 - val_loss: 7.1199 - val_precision: 0.9330 - val_recall: 0.8430\n",
      "Epoch 90/90\n",
      "189/189 [==============================] - 1s 3ms/step - loss: 3.0649 - precision: 0.9688 - recall: 0.8230 - val_loss: 6.7741 - val_precision: 0.9513 - val_recall: 0.8318\n"
     ]
    },
    {
     "data": {
      "text/plain": [
       "<keras.callbacks.History at 0x7e02a8cd5bd0>"
      ]
     },
     "execution_count": 13,
     "metadata": {},
     "output_type": "execute_result"
    }
   ],
   "source": [
    "model.fit(X_train, y_train, validation_data=(X_test, y_test), epochs=90)  #, class_weight=class_weight"
   ]
  },
  {
   "cell_type": "markdown",
   "metadata": {
    "id": "4yBjBmJ3LRST"
   },
   "source": [
    "## Evaluating the Model\n",
    "\n",
    "Evaluate the model's performance over the validation data (X_test and y_test). Use the model's predictions (y_test_pred) and compare them to the actual labels (y_test). In this cell we print the accuracy score."
   ]
  },
  {
   "cell_type": "code",
   "execution_count": 14,
   "metadata": {
    "colab": {
     "base_uri": "https://localhost:8080/"
    },
    "id": "Rj6j2AZCIDSe",
    "outputId": "a3881412-17de-470f-de97-d6752f73e398"
   },
   "outputs": [
    {
     "name": "stdout",
     "output_type": "stream",
     "text": [
      "93/93 [==============================] - 0s 1ms/step\n",
      "Accuracy: 96.84%\n"
     ]
    }
   ],
   "source": [
    "from sklearn import metrics\n",
    "y_test_pred = model.predict(X_test).round()\n",
    "\n",
    "acc = metrics.accuracy_score(y_test_pred, y_test)\n",
    "\n",
    "print(f'Accuracy: {acc:,.2%}')"
   ]
  },
  {
   "cell_type": "markdown",
   "metadata": {},
   "source": [
    "Print a `classification report` which will provide a more detailed analysis of the model's performance. It includes metrics such as `precision`, `recall`, and `f1-score`. "
   ]
  },
  {
   "cell_type": "code",
   "execution_count": 15,
   "metadata": {
    "colab": {
     "base_uri": "https://localhost:8080/"
    },
    "id": "Xd3EcAwtRs_N",
    "outputId": "a6b345f2-17b7-4949-c9d6-039caeda08bf"
   },
   "outputs": [
    {
     "name": "stdout",
     "output_type": "stream",
     "text": [
      "              precision    recall  f1-score   support\n",
      "\n",
      "         0.0       0.99      0.97      0.98      2584\n",
      "         1.0       0.83      0.95      0.89       390\n",
      "\n",
      "    accuracy                           0.97      2974\n",
      "   macro avg       0.91      0.96      0.93      2974\n",
      "weighted avg       0.97      0.97      0.97      2974\n",
      "\n"
     ]
    }
   ],
   "source": [
    "print(classification_report(y_test_pred,y_test))"
   ]
  },
  {
   "cell_type": "markdown",
   "metadata": {},
   "source": [
    "#### Confusion Matrix\n",
    "\n",
    "Create a confusion matrix which will provide a visual representation of the model's performance. It shows the number of true positives, true negatives, false positives, and false negatives. "
   ]
  },
  {
   "cell_type": "code",
   "execution_count": 16,
   "metadata": {
    "colab": {
     "base_uri": "https://localhost:8080/",
     "height": 452
    },
    "id": "wRjkKQ0szWKT",
    "outputId": "2053d75c-b81a-46e4-f28e-4c72b48dbfce"
   },
   "outputs": [
    {
     "data": {
      "text/plain": [
       "<Axes: >"
      ]
     },
     "execution_count": 16,
     "metadata": {},
     "output_type": "execute_result"
    },
    {
     "data": {
      "image/png": "[encoded data removed]",
      "text/plain": [
       "<Figure size 640x480 with 2 Axes>"
      ]
     },
     "metadata": {},
     "output_type": "display_data"
    }
   ],
   "source": [
    "conf_mat=confusion_matrix(y_test_pred,y_test)\n",
    "group_names = [\"True Neg\",\"False Pos\",\"False Neg\",\"True Pos\"]\n",
    "group_counts = [\"{0:0.0f}\".format(value) for value in\n",
    "                conf_mat.flatten()]\n",
    "labels = [f\"{v1}\\n{v2}\" for v1, v2 in\n",
    "          zip(group_names,group_counts)]\n",
    "labels = np.asarray(labels).reshape(2,2)\n",
    "sns.heatmap(conf_mat, annot=labels, fmt=\"\")"
   ]
  }
 ],
 "metadata": {
  "colab": {
   "provenance": []
  },
  "kernelspec": {
   "display_name": "Python 3 (ipykernel)",
   "language": "python",
   "name": "python3"
  },
  "language_info": {
   "codemirror_mode": {
    "name": "ipython",
    "version": 3
   },
   "file_extension": ".py",
   "mimetype": "text/x-python",
   "name": "python",
   "nbconvert_exporter": "python",
   "pygments_lexer": "ipython3",
   "version": "3.8.13"
  }
 },
 "nbformat": 4,
 "nbformat_minor": 4
}
