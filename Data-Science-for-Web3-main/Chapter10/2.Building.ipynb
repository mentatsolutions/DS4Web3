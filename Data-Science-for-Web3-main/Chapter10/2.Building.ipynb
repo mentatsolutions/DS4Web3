{
 "cells": [
  {
   "cell_type": "markdown",
   "metadata": {
    "id": "ZxvJ_Fw3pxBq"
   },
   "source": [
    "#### Import\n",
    "\n",
    "Import the necessary libraries."
   ]
  },
  {
   "cell_type": "code",
   "execution_count": null,
   "metadata": {
    "id": "SIy_mKwpaCKu"
   },
   "outputs": [],
   "source": [
    "import pandas as pd\n",
    "import numpy as np\n",
    "import seaborn as sns\n",
    "import matplotlib.pyplot as plt\n",
    "import time\n",
    "import requests\n",
    "api='[YOUR API KEY]'\n",
    "\n",
    "from datetime import datetime\n",
    "from statistics import mean"
   ]
  },
  {
   "cell_type": "markdown",
   "metadata": {},
   "source": [
    "#### Load the dataset\n",
    "Read the data from the given file path. "
   ]
  },
  {
   "cell_type": "code",
   "execution_count": null,
   "metadata": {
    "id": "RRml-tZPz-t0"
   },
   "outputs": [],
   "source": [
    "df=pd.read_csv ('/content/preprocessed.csv')"
   ]
  },
  {
   "cell_type": "markdown",
   "metadata": {
    "id": "sctEEzB0ujxi"
   },
   "source": [
    "#### List the addresses to complement\n",
    "Create a list of addresses from the dataframe `df` where the `Total_ERC20_tnxs` column is null."
   ]
  },
  {
   "cell_type": "code",
   "execution_count": null,
   "metadata": {
    "id": "zui-Qf0TL2Sb"
   },
   "outputs": [],
   "source": [
    "address_to_complement= df[df['Total_ERC20_tnxs'].isnull()].Address.to_list()"
   ]
  },
  {
   "cell_type": "markdown",
   "metadata": {},
   "source": [
    "#### Iterate through the list and make API call\n",
    "Iterate through the list of addresses and make an API call to the Etherscan API for each address. If the address did not have a transaction we complete the list with `0` "
   ]
  },
  {
   "cell_type": "code",
   "execution_count": null,
   "metadata": {
    "id": "ol1iI-8UKjIk"
   },
   "outputs": [],
   "source": [
    "address_reviewed=[]\n",
    "Total_ERC20_tnxs=[]\n",
    "ERC20_total_Ether_received=[]\n",
    "ERC20_total_ether_sent=[]\n",
    "ERC20_total_Ether_sent_contract=[]\n",
    "ERC20_uniq_sent_addr=[]\n",
    "ERC20_uniq_rec_addr=[]\n",
    "ERC20_uniq_rec_contract_addr=[]\n",
    "ERC20_min_val_rec=[]\n",
    "ERC20_avg_val_rec=[]\n",
    "ERC20_uniq_sent_token_name=[]\n",
    "new_list_to_iterate=[]\n",
    "\n",
    "for add in address_to_complement:\n",
    "  time.sleep (1)\n",
    "  url= 'https://api.etherscan.io/api?module=account&action=tokentx&address='+add+'&startblock=0&endblock=17059560&sort=asc&apikey='+api\n",
    "  response= requests.get (url)\n",
    "  if response.json()['message']=='No transactions found':\n",
    "    address_reviewed. append (add)\n",
    "    Total_ERC20_tnxs.append (0)\n",
    "    ERC20_total_Ether_received.append (0)\n",
    "    ERC20_total_ether_sent.append (0)\n",
    "    ERC20_total_Ether_sent_contract.append (0)\n",
    "    ERC20_uniq_sent_addr.append (0)\n",
    "    ERC20_uniq_rec_addr.append (0)\n",
    "    ERC20_uniq_rec_contract_addr.append (0)\n",
    "    ERC20_min_val_rec.append (0)\n",
    "    ERC20_avg_val_rec.append (0)\n",
    "    ERC20_uniq_sent_token_name.append (0)\n",
    "  else:\n",
    "    new_list_to_iterate.append (add)"
   ]
  },
  {
   "cell_type": "markdown",
   "metadata": {},
   "source": [
    "#### Creating a DataFrame\n",
    "Create a dataframe from the variables listed above. "
   ]
  },
  {
   "cell_type": "code",
   "execution_count": null,
   "metadata": {
    "colab": {
     "base_uri": "https://localhost:8080/",
     "height": 270
    },
    "id": "PrpvlkUzjkkK",
    "outputId": "649c20a9-fa73-4e3c-f41a-544d524e8169"
   },
   "outputs": [
    {
     "data": {
      "text/html": [
       "\n",
       "  <div id=\"df-39ef4d0e-6069-410c-be9b-24a258c714a0\">\n",
       "    <div class=\"colab-df-container\">\n",
       "      <div>\n",
       "<style scoped>\n",
       "    .dataframe tbody tr th:only-of-type {\n",
       "        vertical-align: middle;\n",
       "    }\n",
       "\n",
       "    .dataframe tbody tr th {\n",
       "        vertical-align: top;\n",
       "    }\n",
       "\n",
       "    .dataframe thead th {\n",
       "        text-align: right;\n",
       "    }\n",
       "</style>\n",
       "<table border=\"1\" class=\"dataframe\">\n",
       "  <thead>\n",
       "    <tr style=\"text-align: right;\">\n",
       "      <th></th>\n",
       "      <th>address_reviewed</th>\n",
       "      <th>Total_ERC20_tnxs</th>\n",
       "      <th>ERC20_total_Ether_received</th>\n",
       "      <th>ERC20_total_ether_sent</th>\n",
       "      <th>ERC20_total_Ether_sent_contract</th>\n",
       "      <th>ERC20_uniq_sent_addr</th>\n",
       "      <th>ERC20_uniq_rec_addr</th>\n",
       "      <th>ERC20_uniq_rec_contract_addr</th>\n",
       "      <th>ERC20_min_val_rec</th>\n",
       "      <th>ERC20_avg_val_rec</th>\n",
       "      <th>ERC20_uniq_sent_token_name</th>\n",
       "    </tr>\n",
       "  </thead>\n",
       "  <tbody>\n",
       "    <tr>\n",
       "      <th>0</th>\n",
       "      <td>0x0020731604c882cf7bf8c444be97d17b19ea4316</td>\n",
       "      <td>0</td>\n",
       "      <td>0</td>\n",
       "      <td>0</td>\n",
       "      <td>0</td>\n",
       "      <td>0</td>\n",
       "      <td>0</td>\n",
       "      <td>0</td>\n",
       "      <td>0</td>\n",
       "      <td>0</td>\n",
       "      <td>0</td>\n",
       "    </tr>\n",
       "    <tr>\n",
       "      <th>1</th>\n",
       "      <td>0x005b9f4516f8e640bbe48136901738b323c53b00</td>\n",
       "      <td>0</td>\n",
       "      <td>0</td>\n",
       "      <td>0</td>\n",
       "      <td>0</td>\n",
       "      <td>0</td>\n",
       "      <td>0</td>\n",
       "      <td>0</td>\n",
       "      <td>0</td>\n",
       "      <td>0</td>\n",
       "      <td>0</td>\n",
       "    </tr>\n",
       "    <tr>\n",
       "      <th>2</th>\n",
       "      <td>0x0153775362c3071c1860e8dbfd53ccc82fa226f5</td>\n",
       "      <td>0</td>\n",
       "      <td>0</td>\n",
       "      <td>0</td>\n",
       "      <td>0</td>\n",
       "      <td>0</td>\n",
       "      <td>0</td>\n",
       "      <td>0</td>\n",
       "      <td>0</td>\n",
       "      <td>0</td>\n",
       "      <td>0</td>\n",
       "    </tr>\n",
       "    <tr>\n",
       "      <th>3</th>\n",
       "      <td>0x015f17e2851ea392351b7f259e4cfd03dc443cef</td>\n",
       "      <td>0</td>\n",
       "      <td>0</td>\n",
       "      <td>0</td>\n",
       "      <td>0</td>\n",
       "      <td>0</td>\n",
       "      <td>0</td>\n",
       "      <td>0</td>\n",
       "      <td>0</td>\n",
       "      <td>0</td>\n",
       "      <td>0</td>\n",
       "    </tr>\n",
       "    <tr>\n",
       "      <th>4</th>\n",
       "      <td>0x0167409e6106ec3e3f05a09fcf04606918d21ad5</td>\n",
       "      <td>0</td>\n",
       "      <td>0</td>\n",
       "      <td>0</td>\n",
       "      <td>0</td>\n",
       "      <td>0</td>\n",
       "      <td>0</td>\n",
       "      <td>0</td>\n",
       "      <td>0</td>\n",
       "      <td>0</td>\n",
       "      <td>0</td>\n",
       "    </tr>\n",
       "  </tbody>\n",
       "</table>\n",
       "</div>\n",
       "      <button class=\"colab-df-convert\" onclick=\"convertToInteractive('df-39ef4d0e-6069-410c-be9b-24a258c714a0')\"\n",
       "              title=\"Convert this dataframe to an interactive table.\"\n",
       "              style=\"display:none;\">\n",
       "        \n",
       "  <svg xmlns=\"http://www.w3.org/2000/svg\" height=\"24px\"viewBox=\"0 0 24 24\"\n",
       "       width=\"24px\">\n",
       "    <path d=\"M0 0h24v24H0V0z\" fill=\"none\"/>\n",
       "    <path d=\"M18.56 5.44l.94 2.06.94-2.06 2.06-.94-2.06-.94-.94-2.06-.94 2.06-2.06.94zm-11 1L8.5 8.5l.94-2.06 2.06-.94-2.06-.94L8.5 2.5l-.94 2.06-2.06.94zm10 10l.94 2.06.94-2.06 2.06-.94-2.06-.94-.94-2.06-.94 2.06-2.06.94z\"/><path d=\"M17.41 7.96l-1.37-1.37c-.4-.4-.92-.59-1.43-.59-.52 0-1.04.2-1.43.59L10.3 9.45l-7.72 7.72c-.78.78-.78 2.05 0 2.83L4 21.41c.39.39.9.59 1.41.59.51 0 1.02-.2 1.41-.59l7.78-7.78 2.81-2.81c.8-.78.8-2.07 0-2.86zM5.41 20L4 18.59l7.72-7.72 1.47 1.35L5.41 20z\"/>\n",
       "  </svg>\n",
       "      </button>\n",
       "      \n",
       "  <style>\n",
       "    .colab-df-container {\n",
       "      display:flex;\n",
       "      flex-wrap:wrap;\n",
       "      gap: 12px;\n",
       "    }\n",
       "\n",
       "    .colab-df-convert {\n",
       "      background-color: #E8F0FE;\n",
       "      border: none;\n",
       "      border-radius: 50%;\n",
       "      cursor: pointer;\n",
       "      display: none;\n",
       "      fill: #1967D2;\n",
       "      height: 32px;\n",
       "      padding: 0 0 0 0;\n",
       "      width: 32px;\n",
       "    }\n",
       "\n",
       "    .colab-df-convert:hover {\n",
       "      background-color: #E2EBFA;\n",
       "      box-shadow: 0px 1px 2px rgba(60, 64, 67, 0.3), 0px 1px 3px 1px rgba(60, 64, 67, 0.15);\n",
       "      fill: #174EA6;\n",
       "    }\n",
       "\n",
       "    [theme=dark] .colab-df-convert {\n",
       "      background-color: #3B4455;\n",
       "      fill: #D2E3FC;\n",
       "    }\n",
       "\n",
       "    [theme=dark] .colab-df-convert:hover {\n",
       "      background-color: #434B5C;\n",
       "      box-shadow: 0px 1px 3px 1px rgba(0, 0, 0, 0.15);\n",
       "      filter: drop-shadow(0px 1px 2px rgba(0, 0, 0, 0.3));\n",
       "      fill: #FFFFFF;\n",
       "    }\n",
       "  </style>\n",
       "\n",
       "      <script>\n",
       "        const buttonEl =\n",
       "          document.querySelector('#df-39ef4d0e-6069-410c-be9b-24a258c714a0 button.colab-df-convert');\n",
       "        buttonEl.style.display =\n",
       "          google.colab.kernel.accessAllowed ? 'block' : 'none';\n",
       "\n",
       "        async function convertToInteractive(key) {\n",
       "          const element = document.querySelector('#df-39ef4d0e-6069-410c-be9b-24a258c714a0');\n",
       "          const dataTable =\n",
       "            await google.colab.kernel.invokeFunction('convertToInteractive',\n",
       "                                                     [key], {});\n",
       "          if (!dataTable) return;\n",
       "\n",
       "          const docLinkHtml = 'Like what you see? Visit the ' +\n",
       "            '<a target=\"_blank\" href=https://colab.research.google.com/notebooks/data_table.ipynb>data table notebook</a>'\n",
       "            + ' to learn more about interactive tables.';\n",
       "          element.innerHTML = '';\n",
       "          dataTable['output_type'] = 'display_data';\n",
       "          await google.colab.output.renderOutput(dataTable, element);\n",
       "          const docLink = document.createElement('div');\n",
       "          docLink.innerHTML = docLinkHtml;\n",
       "          element.appendChild(docLink);\n",
       "        }\n",
       "      </script>\n",
       "    </div>\n",
       "  </div>\n",
       "  "
      ],
      "text/plain": [
       "                             address_reviewed  Total_ERC20_tnxs  \\\n",
       "0  0x0020731604c882cf7bf8c444be97d17b19ea4316                 0   \n",
       "1  0x005b9f4516f8e640bbe48136901738b323c53b00                 0   \n",
       "2  0x0153775362c3071c1860e8dbfd53ccc82fa226f5                 0   \n",
       "3  0x015f17e2851ea392351b7f259e4cfd03dc443cef                 0   \n",
       "4  0x0167409e6106ec3e3f05a09fcf04606918d21ad5                 0   \n",
       "\n",
       "   ERC20_total_Ether_received  ERC20_total_ether_sent  \\\n",
       "0                           0                       0   \n",
       "1                           0                       0   \n",
       "2                           0                       0   \n",
       "3                           0                       0   \n",
       "4                           0                       0   \n",
       "\n",
       "   ERC20_total_Ether_sent_contract  ERC20_uniq_sent_addr  ERC20_uniq_rec_addr  \\\n",
       "0                                0                     0                    0   \n",
       "1                                0                     0                    0   \n",
       "2                                0                     0                    0   \n",
       "3                                0                     0                    0   \n",
       "4                                0                     0                    0   \n",
       "\n",
       "   ERC20_uniq_rec_contract_addr  ERC20_min_val_rec  ERC20_avg_val_rec  \\\n",
       "0                             0                  0                  0   \n",
       "1                             0                  0                  0   \n",
       "2                             0                  0                  0   \n",
       "3                             0                  0                  0   \n",
       "4                             0                  0                  0   \n",
       "\n",
       "   ERC20_uniq_sent_token_name  \n",
       "0                           0  \n",
       "1                           0  \n",
       "2                           0  \n",
       "3                           0  \n",
       "4                           0  "
      ]
     },
     "execution_count": 44,
     "metadata": {},
     "output_type": "execute_result"
    }
   ],
   "source": [
    "df_iterated = pd.DataFrame(list(zip(address_reviewed, Total_ERC20_tnxs, ERC20_total_Ether_received, ERC20_total_ether_sent, ERC20_total_Ether_sent_contract, ERC20_uniq_sent_addr, ERC20_uniq_rec_addr,\n",
    "                           ERC20_uniq_rec_contract_addr, ERC20_min_val_rec, ERC20_avg_val_rec, ERC20_uniq_sent_token_name)),\n",
    "               columns =['address_reviewed', 'Total_ERC20_tnxs', 'ERC20_total_Ether_received', 'ERC20_total_ether_sent', 'ERC20_total_Ether_sent_contract', 'ERC20_uniq_sent_addr', 'ERC20_uniq_rec_addr',\n",
    "                           'ERC20_uniq_rec_contract_addr', 'ERC20_min_val_rec', 'ERC20_avg_val_rec', 'ERC20_uniq_sent_token_name'])\n",
    "\n",
    "df_iterated.head()\n",
    "#df_iterated.to_csv ('iteratedcolumns.csv', index=False)"
   ]
  },
  {
   "cell_type": "code",
   "execution_count": null,
   "metadata": {
    "colab": {
     "base_uri": "https://localhost:8080/"
    },
    "id": "8BzhMRELqMUP",
    "outputId": "c974d1ef-98f2-4f25-fe5f-09d1f35a720d"
   },
   "outputs": [
    {
     "data": {
      "text/plain": [
       "(691, 11)"
      ]
     },
     "execution_count": 3,
     "metadata": {},
     "output_type": "execute_result"
    }
   ],
   "source": [
    "#df_iterated=pd.read_csv ('/content/iteratedcolumns.csv')\n",
    "df_iterated.rename({'address_reviewed': 'Address'}, axis=1, inplace=True)\n",
    "df_iterated.shape"
   ]
  },
  {
   "cell_type": "markdown",
   "metadata": {
    "id": "awtsVZzMurRt"
   },
   "source": [
    "#### Creating a DataFrame\n",
    "For those addresses that did have a transaction we explore and valuate in USD the tokens and native currency transferred. We divide this exploration in two due to the limitations of the free Coingecko API that we use to extract the prices.   "
   ]
  },
  {
   "cell_type": "code",
   "execution_count": null,
   "metadata": {
    "id": "NYimCNwS4dHC"
   },
   "outputs": [],
   "source": [
    "address_reviewed=[]\n",
    "Total_ERC20_tnxs=[]\n",
    "ERC20_total_Ether_received=[]\n",
    "ERC20_total_ether_sent=[]\n",
    "ERC20_uniq_sent_addr=[]#Number of ERC20 token transactions sent to Unique account addresses\n",
    "ERC20_uniq_rec_addr=[] #Number of ERC20 token transactions received from Unique addresses\n",
    "ERC20_uniq_rec_contract_addr=[]#Number of ERC20 token transactions received from Unique contract addresses\n",
    "ERC20_min_val_rec=[] #Minimum value in Ether received from ERC20 token transactions for account\n",
    "ERC20_avg_val_rec=[]\n",
    "ERC20_uniq_sent_token_name=[]\n",
    "\n",
    "for add in new_list_to_iterate:\n",
    "  address_reviewed.append(add)\n",
    "  time.sleep (1)\n",
    "  url= 'https://api.etherscan.io/api?module=account&action=tokentx&address='+add+'&startblock=0&endblock=17059560&sort=asc&apikey='+api\n",
    "  response= requests.get (url)\n",
    "  data=response.json()\n",
    "  tokens_unique_rec=[]\n",
    "  rec_add=[]\n",
    "  sent_add=[]\n",
    "  contract_add=[]\n",
    "  ether_received=[]\n",
    "  ether_sent=[]\n",
    "  Total_ERC20_tnxs.append (len (data['result']))\n",
    "  for res in range (len (data['result'])):\n",
    "    token= (data['result'][res]['tokenName']).lower()\n",
    "    token=token.replace(\" \", \"-\")\n",
    "    decimal=int (data['result'][res]['tokenDecimal'])\n",
    "    ts=int(data['result'][res]['timeStamp'])\n",
    "    date= datetime.utcfromtimestamp(ts).strftime('%d-%m-%Y')\n",
    "    coingeckourl='https://api.coingecko.com/api/v3/coins/'+token+'/history?date='+date+'&localization=false'\n",
    "    try:\n",
    "      eth_response = requests.get(coingeckourl).json()['market_data']['current_price']['eth']\n",
    "    except KeyError:\n",
    "      eth_response=0\n",
    "      if add ==data['result'][res]['to']:\n",
    "        tokens_unique_rec.append (data['result'][res]['tokenSymbol'])\n",
    "        rec_add.append  (data['result'][res]['from'])\n",
    "        contract_add.append  (data['result'][res]['contractAddress'])\n",
    "        value_received=(int(data['result'][res]['value'])*10**-18)*eth_response\n",
    "        ether_received.append (value_received)\n",
    "      elif add ==data['result'][res]['from']:\n",
    "        sent_add.append (data['result'][res]['from'])\n",
    "        ether_sent.append (eth_response)\n",
    "  ERC20_uniq_sent_token_name.append (len(set(tokens_unique_rec)))\n",
    "  ERC20_uniq_rec_addr.append(len(set(rec_add)))\n",
    "  ERC20_uniq_rec_contract_addr.append(len(set(contract_add)))\n",
    "  ERC20_total_Ether_received.append (sum (ether_received))\n",
    "  ERC20_min_val_rec.append (min (ether_received))\n",
    "  ERC20_avg_val_rec.append (mean (ether_received))\n",
    "  ERC20_uniq_sent_addr.append(len(set(sent_add)))\n",
    "  ERC20_total_ether_sent.append (sum (ether_sent))"
   ]
  },
  {
   "cell_type": "code",
   "execution_count": null,
   "metadata": {
    "colab": {
     "base_uri": "https://localhost:8080/",
     "height": 270
    },
    "id": "FMupiOULPikB",
    "outputId": "eefa65b4-14ea-4449-91b6-91849ce37da5"
   },
   "outputs": [
    {
     "data": {
      "text/html": [
       "\n",
       "  <div id=\"df-0f01ef2f-599d-471c-9f6b-72880c4388ab\">\n",
       "    <div class=\"colab-df-container\">\n",
       "      <div>\n",
       "<style scoped>\n",
       "    .dataframe tbody tr th:only-of-type {\n",
       "        vertical-align: middle;\n",
       "    }\n",
       "\n",
       "    .dataframe tbody tr th {\n",
       "        vertical-align: top;\n",
       "    }\n",
       "\n",
       "    .dataframe thead th {\n",
       "        text-align: right;\n",
       "    }\n",
       "</style>\n",
       "<table border=\"1\" class=\"dataframe\">\n",
       "  <thead>\n",
       "    <tr style=\"text-align: right;\">\n",
       "      <th></th>\n",
       "      <th>address_reviewed</th>\n",
       "      <th>Total_ERC20_tnxs</th>\n",
       "      <th>ERC20_total_Ether_received</th>\n",
       "      <th>ERC20_total_ether_sent</th>\n",
       "      <th>ERC20_uniq_sent_addr</th>\n",
       "      <th>ERC20_uniq_rec_addr</th>\n",
       "      <th>ERC20_uniq_rec_contract_addr</th>\n",
       "      <th>ERC20_min_val_rec</th>\n",
       "      <th>ERC20_avg_val_rec</th>\n",
       "      <th>ERC20_uniq_sent_token_name</th>\n",
       "    </tr>\n",
       "  </thead>\n",
       "  <tbody>\n",
       "    <tr>\n",
       "      <th>0</th>\n",
       "      <td>0x0400f72bca103add12c6793d6194d041983e150a</td>\n",
       "      <td>1</td>\n",
       "      <td>0.0</td>\n",
       "      <td>0</td>\n",
       "      <td>0</td>\n",
       "      <td>1</td>\n",
       "      <td>1</td>\n",
       "      <td>0.0</td>\n",
       "      <td>0.0</td>\n",
       "      <td>1</td>\n",
       "    </tr>\n",
       "    <tr>\n",
       "      <th>1</th>\n",
       "      <td>0x0642e5db00442400868546d5f8e21581dfe4f072</td>\n",
       "      <td>1</td>\n",
       "      <td>0.0</td>\n",
       "      <td>0</td>\n",
       "      <td>0</td>\n",
       "      <td>1</td>\n",
       "      <td>1</td>\n",
       "      <td>0.0</td>\n",
       "      <td>0.0</td>\n",
       "      <td>1</td>\n",
       "    </tr>\n",
       "    <tr>\n",
       "      <th>2</th>\n",
       "      <td>0x075dc757633700b257e090d62b62aac5997a99d4</td>\n",
       "      <td>1</td>\n",
       "      <td>0.0</td>\n",
       "      <td>0</td>\n",
       "      <td>0</td>\n",
       "      <td>1</td>\n",
       "      <td>1</td>\n",
       "      <td>0.0</td>\n",
       "      <td>0.0</td>\n",
       "      <td>1</td>\n",
       "    </tr>\n",
       "    <tr>\n",
       "      <th>3</th>\n",
       "      <td>0x09faf25e57abd0a401bb5a2341d7f926c389f8d1</td>\n",
       "      <td>1</td>\n",
       "      <td>0.0</td>\n",
       "      <td>0</td>\n",
       "      <td>0</td>\n",
       "      <td>1</td>\n",
       "      <td>1</td>\n",
       "      <td>0.0</td>\n",
       "      <td>0.0</td>\n",
       "      <td>1</td>\n",
       "    </tr>\n",
       "    <tr>\n",
       "      <th>4</th>\n",
       "      <td>0x0ab4fc631d194bb135dc7a3f99580cf7df3eeae0</td>\n",
       "      <td>1</td>\n",
       "      <td>0.0</td>\n",
       "      <td>0</td>\n",
       "      <td>0</td>\n",
       "      <td>1</td>\n",
       "      <td>1</td>\n",
       "      <td>0.0</td>\n",
       "      <td>0.0</td>\n",
       "      <td>1</td>\n",
       "    </tr>\n",
       "  </tbody>\n",
       "</table>\n",
       "</div>\n",
       "      <button class=\"colab-df-convert\" onclick=\"convertToInteractive('df-0f01ef2f-599d-471c-9f6b-72880c4388ab')\"\n",
       "              title=\"Convert this dataframe to an interactive table.\"\n",
       "              style=\"display:none;\">\n",
       "        \n",
       "  <svg xmlns=\"http://www.w3.org/2000/svg\" height=\"24px\"viewBox=\"0 0 24 24\"\n",
       "       width=\"24px\">\n",
       "    <path d=\"M0 0h24v24H0V0z\" fill=\"none\"/>\n",
       "    <path d=\"M18.56 5.44l.94 2.06.94-2.06 2.06-.94-2.06-.94-.94-2.06-.94 2.06-2.06.94zm-11 1L8.5 8.5l.94-2.06 2.06-.94-2.06-.94L8.5 2.5l-.94 2.06-2.06.94zm10 10l.94 2.06.94-2.06 2.06-.94-2.06-.94-.94-2.06-.94 2.06-2.06.94z\"/><path d=\"M17.41 7.96l-1.37-1.37c-.4-.4-.92-.59-1.43-.59-.52 0-1.04.2-1.43.59L10.3 9.45l-7.72 7.72c-.78.78-.78 2.05 0 2.83L4 21.41c.39.39.9.59 1.41.59.51 0 1.02-.2 1.41-.59l7.78-7.78 2.81-2.81c.8-.78.8-2.07 0-2.86zM5.41 20L4 18.59l7.72-7.72 1.47 1.35L5.41 20z\"/>\n",
       "  </svg>\n",
       "      </button>\n",
       "      \n",
       "  <style>\n",
       "    .colab-df-container {\n",
       "      display:flex;\n",
       "      flex-wrap:wrap;\n",
       "      gap: 12px;\n",
       "    }\n",
       "\n",
       "    .colab-df-convert {\n",
       "      background-color: #E8F0FE;\n",
       "      border: none;\n",
       "      border-radius: 50%;\n",
       "      cursor: pointer;\n",
       "      display: none;\n",
       "      fill: #1967D2;\n",
       "      height: 32px;\n",
       "      padding: 0 0 0 0;\n",
       "      width: 32px;\n",
       "    }\n",
       "\n",
       "    .colab-df-convert:hover {\n",
       "      background-color: #E2EBFA;\n",
       "      box-shadow: 0px 1px 2px rgba(60, 64, 67, 0.3), 0px 1px 3px 1px rgba(60, 64, 67, 0.15);\n",
       "      fill: #174EA6;\n",
       "    }\n",
       "\n",
       "    [theme=dark] .colab-df-convert {\n",
       "      background-color: #3B4455;\n",
       "      fill: #D2E3FC;\n",
       "    }\n",
       "\n",
       "    [theme=dark] .colab-df-convert:hover {\n",
       "      background-color: #434B5C;\n",
       "      box-shadow: 0px 1px 3px 1px rgba(0, 0, 0, 0.15);\n",
       "      filter: drop-shadow(0px 1px 2px rgba(0, 0, 0, 0.3));\n",
       "      fill: #FFFFFF;\n",
       "    }\n",
       "  </style>\n",
       "\n",
       "      <script>\n",
       "        const buttonEl =\n",
       "          document.querySelector('#df-0f01ef2f-599d-471c-9f6b-72880c4388ab button.colab-df-convert');\n",
       "        buttonEl.style.display =\n",
       "          google.colab.kernel.accessAllowed ? 'block' : 'none';\n",
       "\n",
       "        async function convertToInteractive(key) {\n",
       "          const element = document.querySelector('#df-0f01ef2f-599d-471c-9f6b-72880c4388ab');\n",
       "          const dataTable =\n",
       "            await google.colab.kernel.invokeFunction('convertToInteractive',\n",
       "                                                     [key], {});\n",
       "          if (!dataTable) return;\n",
       "\n",
       "          const docLinkHtml = 'Like what you see? Visit the ' +\n",
       "            '<a target=\"_blank\" href=https://colab.research.google.com/notebooks/data_table.ipynb>data table notebook</a>'\n",
       "            + ' to learn more about interactive tables.';\n",
       "          element.innerHTML = '';\n",
       "          dataTable['output_type'] = 'display_data';\n",
       "          await google.colab.output.renderOutput(dataTable, element);\n",
       "          const docLink = document.createElement('div');\n",
       "          docLink.innerHTML = docLinkHtml;\n",
       "          element.appendChild(docLink);\n",
       "        }\n",
       "      </script>\n",
       "    </div>\n",
       "  </div>\n",
       "  "
      ],
      "text/plain": [
       "                             address_reviewed  Total_ERC20_tnxs  \\\n",
       "0  0x0400f72bca103add12c6793d6194d041983e150a                 1   \n",
       "1  0x0642e5db00442400868546d5f8e21581dfe4f072                 1   \n",
       "2  0x075dc757633700b257e090d62b62aac5997a99d4                 1   \n",
       "3  0x09faf25e57abd0a401bb5a2341d7f926c389f8d1                 1   \n",
       "4  0x0ab4fc631d194bb135dc7a3f99580cf7df3eeae0                 1   \n",
       "\n",
       "   ERC20_total_Ether_received  ERC20_total_ether_sent  ERC20_uniq_sent_addr  \\\n",
       "0                         0.0                       0                     0   \n",
       "1                         0.0                       0                     0   \n",
       "2                         0.0                       0                     0   \n",
       "3                         0.0                       0                     0   \n",
       "4                         0.0                       0                     0   \n",
       "\n",
       "   ERC20_uniq_rec_addr  ERC20_uniq_rec_contract_addr  ERC20_min_val_rec  \\\n",
       "0                    1                             1                0.0   \n",
       "1                    1                             1                0.0   \n",
       "2                    1                             1                0.0   \n",
       "3                    1                             1                0.0   \n",
       "4                    1                             1                0.0   \n",
       "\n",
       "   ERC20_avg_val_rec  ERC20_uniq_sent_token_name  \n",
       "0                0.0                           1  \n",
       "1                0.0                           1  \n",
       "2                0.0                           1  \n",
       "3                0.0                           1  \n",
       "4                0.0                           1  "
      ]
     },
     "execution_count": 121,
     "metadata": {},
     "output_type": "execute_result"
    }
   ],
   "source": [
    "df_iterated_2 = pd.DataFrame(list(zip(address_reviewed, Total_ERC20_tnxs, ERC20_total_Ether_received, ERC20_total_ether_sent, ERC20_uniq_sent_addr, ERC20_uniq_rec_addr,\n",
    "                           ERC20_uniq_rec_contract_addr, ERC20_min_val_rec, ERC20_avg_val_rec, ERC20_uniq_sent_token_name)),\n",
    "               columns =['address_reviewed', 'Total_ERC20_tnxs', 'ERC20_total_Ether_received', 'ERC20_total_ether_sent', 'ERC20_uniq_sent_addr', 'ERC20_uniq_rec_addr',\n",
    "                           'ERC20_uniq_rec_contract_addr', 'ERC20_min_val_rec', 'ERC20_avg_val_rec', 'ERC20_uniq_sent_token_name'])\n",
    "\n",
    "df_iterated_2.head()\n",
    "#df_iterated_2.to_csv ('iteratedcolumns.csv', index=False)"
   ]
  },
  {
   "cell_type": "code",
   "execution_count": null,
   "metadata": {
    "colab": {
     "base_uri": "https://localhost:8080/"
    },
    "id": "e6iIWxf5q5g-",
    "outputId": "5a1cb7be-2489-4251-fc84-df0fcb2d75c0"
   },
   "outputs": [
    {
     "data": {
      "text/plain": [
       "(134, 10)"
      ]
     },
     "execution_count": 4,
     "metadata": {},
     "output_type": "execute_result"
    }
   ],
   "source": [
    "#df_iterated_2=pd.read_csv ('/content/df_iterated_2.csv')\n",
    "df_iterated_2.rename({'address_reviewed': 'Address'}, axis=1, inplace=True)\n",
    "df_iterated_2.shape"
   ]
  },
  {
   "cell_type": "markdown",
   "metadata": {},
   "source": [
    "#### Combining DataFrames\n",
    "The code in this cell will combine the `df_iterated` and `df_iterated_2` DataFrames. List and store it in the `address_reviewed_list` variable."
   ]
  },
  {
   "cell_type": "code",
   "execution_count": null,
   "metadata": {
    "colab": {
     "base_uri": "https://localhost:8080/"
    },
    "id": "2k_Y2lBWrB9Y",
    "outputId": "9cbb75ae-f601-4411-fb88-44b9f64c9d51"
   },
   "outputs": [
    {
     "name": "stderr",
     "output_type": "stream",
     "text": [
      "<ipython-input-5-7b94ceb1820c>:1: FutureWarning: The frame.append method is deprecated and will be removed from pandas in a future version. Use pandas.concat instead.\n",
      "  processed_df= df_iterated.append(df_iterated_2, ignore_index=True)\n"
     ]
    },
    {
     "data": {
      "text/plain": [
       "(825, 11)"
      ]
     },
     "execution_count": 5,
     "metadata": {},
     "output_type": "execute_result"
    }
   ],
   "source": [
    "processed_df= df_iterated.append(df_iterated_2, ignore_index=True)\n",
    "processed_df.shape"
   ]
  },
  {
   "cell_type": "code",
   "execution_count": null,
   "metadata": {
    "colab": {
     "base_uri": "https://localhost:8080/"
    },
    "id": "ZB8rb7VfwqDp",
    "outputId": "81e65d05-7b52-4c71-e475-702d68e24ec1"
   },
   "outputs": [
    {
     "data": {
      "text/plain": [
       "825"
      ]
     },
     "execution_count": 7,
     "metadata": {},
     "output_type": "execute_result"
    }
   ],
   "source": [
    "address_reviewed_list=processed_df.Address.to_list()\n",
    "len (address_reviewed_list)"
   ]
  },
  {
   "cell_type": "markdown",
   "metadata": {},
   "source": [
    "#### Filtering the Dataframe\n",
    "The code in this cell will filter the `df` dataframe to remove any rows that have an address that is in the `address_reviewed_list` list. "
   ]
  },
  {
   "cell_type": "code",
   "execution_count": null,
   "metadata": {
    "colab": {
     "base_uri": "https://localhost:8080/"
    },
    "id": "C1MiJOTmliHA",
    "outputId": "82a53ce6-0d79-4e0c-bc68-10d298e2dfe4"
   },
   "outputs": [
    {
     "data": {
      "text/plain": [
       "(3847, 32)"
      ]
     },
     "execution_count": 8,
     "metadata": {},
     "output_type": "execute_result"
    }
   ],
   "source": [
    "df_sin = df[~df['Address'].isin(address_reviewed_list)]\n",
    "df_sin.shape"
   ]
  },
  {
   "cell_type": "markdown",
   "metadata": {},
   "source": [
    "#### Filtering the empty dataframe \n",
    "Filter the `df_onlyempty` dataframe further to only include rows that have an address that is in the `address_reviewed_list` list. Drop unnecessary columns based on decisitions taken on the EDA. "
   ]
  },
  {
   "cell_type": "code",
   "execution_count": null,
   "metadata": {
    "colab": {
     "base_uri": "https://localhost:8080/"
    },
    "id": "AkZFrcisjtwD",
    "outputId": "356b845e-e31c-4816-b37e-dcf18416acb7"
   },
   "outputs": [
    {
     "data": {
      "text/plain": [
       "(824, 32)"
      ]
     },
     "execution_count": 9,
     "metadata": {},
     "output_type": "execute_result"
    }
   ],
   "source": [
    "df_onlyempty = df[df['Address'].isin(address_reviewed_list)]\n",
    "df_onlyempty.shape"
   ]
  },
  {
   "cell_type": "code",
   "execution_count": null,
   "metadata": {
    "colab": {
     "base_uri": "https://localhost:8080/"
    },
    "id": "0PgIcmhlm2rX",
    "outputId": "4b5a3654-34b8-4eff-f08f-4c31dc916fee"
   },
   "outputs": [
    {
     "name": "stderr",
     "output_type": "stream",
     "text": [
      "<ipython-input-10-fb9e86eeb9a6>:1: SettingWithCopyWarning: \n",
      "A value is trying to be set on a copy of a slice from a DataFrame\n",
      "\n",
      "See the caveats in the documentation: https://pandas.pydata.org/pandas-docs/stable/user_guide/indexing.html#returning-a-view-versus-a-copy\n",
      "  df_onlyempty.drop (columns=['Total_ERC20_tnxs', 'ERC20_total_Ether_received', 'ERC20_total_ether_sent', 'ERC20_total_Ether_sent_contract', 'ERC20_uniq_sent_addr', 'ERC20_uniq_rec_addr',\n"
     ]
    }
   ],
   "source": [
    "df_onlyempty.drop (columns=['Total_ERC20_tnxs', 'ERC20_total_Ether_received', 'ERC20_total_ether_sent', 'ERC20_total_Ether_sent_contract', 'ERC20_uniq_sent_addr', 'ERC20_uniq_rec_addr',\n",
    "                           'ERC20_uniq_rec_contract_addr', 'ERC20_min_val_rec', 'ERC20_avg_val_rec', 'ERC20_uniq_sent_token_name'], inplace= True)"
   ]
  },
  {
   "cell_type": "code",
   "execution_count": null,
   "metadata": {
    "colab": {
     "base_uri": "https://localhost:8080/"
    },
    "id": "j19zc2W1wfXo",
    "outputId": "fc2441c1-54fd-4e7c-a12a-22251fe61545"
   },
   "outputs": [
    {
     "data": {
      "text/plain": [
       "(824, 22)"
      ]
     },
     "execution_count": 11,
     "metadata": {},
     "output_type": "execute_result"
    }
   ],
   "source": [
    "df_onlyempty.shape"
   ]
  },
  {
   "cell_type": "markdown",
   "metadata": {},
   "source": [
    "#### Merge Dataframes\n",
    "Merge the two dataframes and assign it to `df`."
   ]
  },
  {
   "cell_type": "code",
   "execution_count": null,
   "metadata": {
    "colab": {
     "base_uri": "https://localhost:8080/"
    },
    "id": "PlsOY2PKuEWl",
    "outputId": "0674bcf7-9a3a-4cef-f22b-bf708c4e27de"
   },
   "outputs": [
    {
     "data": {
      "text/plain": [
       "(824, 32)"
      ]
     },
     "execution_count": 12,
     "metadata": {},
     "output_type": "execute_result"
    }
   ],
   "source": [
    "df_onlyempty= pd.merge(df_onlyempty, processed_df, on='Address')\n",
    "df_onlyempty.shape"
   ]
  },
  {
   "cell_type": "code",
   "execution_count": null,
   "metadata": {
    "colab": {
     "base_uri": "https://localhost:8080/",
     "height": 335
    },
    "id": "OWtu6boOpHxk",
    "outputId": "c94a0f78-9bcb-4cfc-c324-1203f390da06"
   },
   "outputs": [
    {
     "name": "stderr",
     "output_type": "stream",
     "text": [
      "<ipython-input-14-ebbe01ac1e6e>:1: FutureWarning: The frame.append method is deprecated and will be removed from pandas in a future version. Use pandas.concat instead.\n",
      "  df_sin= df_sin.append(df_onlyempty, ignore_index=True)\n"
     ]
    },
    {
     "data": {
      "text/html": [
       "\n",
       "  <div id=\"df-28c830b1-a08b-41f2-bc1e-deef884209a0\">\n",
       "    <div class=\"colab-df-container\">\n",
       "      <div>\n",
       "<style scoped>\n",
       "    .dataframe tbody tr th:only-of-type {\n",
       "        vertical-align: middle;\n",
       "    }\n",
       "\n",
       "    .dataframe tbody tr th {\n",
       "        vertical-align: top;\n",
       "    }\n",
       "\n",
       "    .dataframe thead th {\n",
       "        text-align: right;\n",
       "    }\n",
       "</style>\n",
       "<table border=\"1\" class=\"dataframe\">\n",
       "  <thead>\n",
       "    <tr style=\"text-align: right;\">\n",
       "      <th></th>\n",
       "      <th>Index</th>\n",
       "      <th>Address</th>\n",
       "      <th>FLAG</th>\n",
       "      <th>Avg_min_between_sent_tnx</th>\n",
       "      <th>Avg_min_between_received_tnx</th>\n",
       "      <th>Time_Diff_between_first_and_last_(Mins)</th>\n",
       "      <th>Sent_tnx</th>\n",
       "      <th>Received_Tnx</th>\n",
       "      <th>Number_of_Created_Contracts</th>\n",
       "      <th>Unique_Received_From_Addresses</th>\n",
       "      <th>...</th>\n",
       "      <th>ERC20_total_Ether_received</th>\n",
       "      <th>ERC20_total_ether_sent</th>\n",
       "      <th>ERC20_total_Ether_sent_contract</th>\n",
       "      <th>ERC20_uniq_sent_addr</th>\n",
       "      <th>ERC20_uniq_rec_addr</th>\n",
       "      <th>ERC20_uniq_rec_contract_addr</th>\n",
       "      <th>ERC20_min_val_rec</th>\n",
       "      <th>ERC20_avg_val_rec</th>\n",
       "      <th>ERC20_uniq_sent_token_name</th>\n",
       "      <th>valid_add</th>\n",
       "    </tr>\n",
       "  </thead>\n",
       "  <tbody>\n",
       "    <tr>\n",
       "      <th>0</th>\n",
       "      <td>2</td>\n",
       "      <td>0x002bf459dc58584d58886169ea0e80f3ca95ffaf</td>\n",
       "      <td>1</td>\n",
       "      <td>3976.50</td>\n",
       "      <td>834.77</td>\n",
       "      <td>9622.53</td>\n",
       "      <td>2</td>\n",
       "      <td>2</td>\n",
       "      <td>0</td>\n",
       "      <td>1</td>\n",
       "      <td>...</td>\n",
       "      <td>1.3370</td>\n",
       "      <td>0.0000</td>\n",
       "      <td>0.0</td>\n",
       "      <td>0.0</td>\n",
       "      <td>1.0</td>\n",
       "      <td>1.0</td>\n",
       "      <td>1.337</td>\n",
       "      <td>1.337000</td>\n",
       "      <td>0.0</td>\n",
       "      <td>0x002Bf459dC58584D58886169EA0E80f3Ca95FFAF</td>\n",
       "    </tr>\n",
       "    <tr>\n",
       "      <th>1</th>\n",
       "      <td>3</td>\n",
       "      <td>0x002f0c8119c16d310342d869ca8bf6ace34d9c39</td>\n",
       "      <td>1</td>\n",
       "      <td>112.90</td>\n",
       "      <td>31.87</td>\n",
       "      <td>321.42</td>\n",
       "      <td>2</td>\n",
       "      <td>3</td>\n",
       "      <td>0</td>\n",
       "      <td>3</td>\n",
       "      <td>...</td>\n",
       "      <td>1.3370</td>\n",
       "      <td>0.0000</td>\n",
       "      <td>0.0</td>\n",
       "      <td>0.0</td>\n",
       "      <td>1.0</td>\n",
       "      <td>1.0</td>\n",
       "      <td>1.337</td>\n",
       "      <td>1.337000</td>\n",
       "      <td>0.0</td>\n",
       "      <td>0x002f0C8119C16D310342D869Ca8bF6AcE34D9c39</td>\n",
       "    </tr>\n",
       "    <tr>\n",
       "      <th>2</th>\n",
       "      <td>4</td>\n",
       "      <td>0x0059b14e35dab1b4eee1e2926c7a5660da66f747</td>\n",
       "      <td>1</td>\n",
       "      <td>2300.37</td>\n",
       "      <td>65.10</td>\n",
       "      <td>73091.00</td>\n",
       "      <td>29</td>\n",
       "      <td>98</td>\n",
       "      <td>0</td>\n",
       "      <td>89</td>\n",
       "      <td>...</td>\n",
       "      <td>142677.3829</td>\n",
       "      <td>120354.7684</td>\n",
       "      <td>0.0</td>\n",
       "      <td>6.0</td>\n",
       "      <td>55.0</td>\n",
       "      <td>37.0</td>\n",
       "      <td>0.000</td>\n",
       "      <td>1954.484697</td>\n",
       "      <td>22.0</td>\n",
       "      <td>0x0059b14e35daB1b4EEe1e2926C7A5660dA66F747</td>\n",
       "    </tr>\n",
       "    <tr>\n",
       "      <th>3</th>\n",
       "      <td>6</td>\n",
       "      <td>0x00650a784ee109797ba8c05f3496bdbf2b2b7a1c</td>\n",
       "      <td>1</td>\n",
       "      <td>59129.36</td>\n",
       "      <td>0.00</td>\n",
       "      <td>118258.72</td>\n",
       "      <td>2</td>\n",
       "      <td>1</td>\n",
       "      <td>0</td>\n",
       "      <td>1</td>\n",
       "      <td>...</td>\n",
       "      <td>14.0000</td>\n",
       "      <td>0.0000</td>\n",
       "      <td>0.0</td>\n",
       "      <td>0.0</td>\n",
       "      <td>1.0</td>\n",
       "      <td>1.0</td>\n",
       "      <td>14.000</td>\n",
       "      <td>14.000000</td>\n",
       "      <td>0.0</td>\n",
       "      <td>0x00650a784EE109797BA8C05F3496bDbF2b2B7a1C</td>\n",
       "    </tr>\n",
       "    <tr>\n",
       "      <th>4</th>\n",
       "      <td>7</td>\n",
       "      <td>0x0084515449b037205a33d6d3940a5684126aa4b5</td>\n",
       "      <td>1</td>\n",
       "      <td>1819.90</td>\n",
       "      <td>638.12</td>\n",
       "      <td>8744.77</td>\n",
       "      <td>2</td>\n",
       "      <td>8</td>\n",
       "      <td>0</td>\n",
       "      <td>7</td>\n",
       "      <td>...</td>\n",
       "      <td>13.3700</td>\n",
       "      <td>0.0000</td>\n",
       "      <td>0.0</td>\n",
       "      <td>0.0</td>\n",
       "      <td>1.0</td>\n",
       "      <td>1.0</td>\n",
       "      <td>13.370</td>\n",
       "      <td>13.370000</td>\n",
       "      <td>0.0</td>\n",
       "      <td>0x0084515449B037205A33d6d3940a5684126Aa4b5</td>\n",
       "    </tr>\n",
       "  </tbody>\n",
       "</table>\n",
       "<p>5 rows × 32 columns</p>\n",
       "</div>\n",
       "      <button class=\"colab-df-convert\" onclick=\"convertToInteractive('df-28c830b1-a08b-41f2-bc1e-deef884209a0')\"\n",
       "              title=\"Convert this dataframe to an interactive table.\"\n",
       "              style=\"display:none;\">\n",
       "        \n",
       "  <svg xmlns=\"http://www.w3.org/2000/svg\" height=\"24px\"viewBox=\"0 0 24 24\"\n",
       "       width=\"24px\">\n",
       "    <path d=\"M0 0h24v24H0V0z\" fill=\"none\"/>\n",
       "    <path d=\"M18.56 5.44l.94 2.06.94-2.06 2.06-.94-2.06-.94-.94-2.06-.94 2.06-2.06.94zm-11 1L8.5 8.5l.94-2.06 2.06-.94-2.06-.94L8.5 2.5l-.94 2.06-2.06.94zm10 10l.94 2.06.94-2.06 2.06-.94-2.06-.94-.94-2.06-.94 2.06-2.06.94z\"/><path d=\"M17.41 7.96l-1.37-1.37c-.4-.4-.92-.59-1.43-.59-.52 0-1.04.2-1.43.59L10.3 9.45l-7.72 7.72c-.78.78-.78 2.05 0 2.83L4 21.41c.39.39.9.59 1.41.59.51 0 1.02-.2 1.41-.59l7.78-7.78 2.81-2.81c.8-.78.8-2.07 0-2.86zM5.41 20L4 18.59l7.72-7.72 1.47 1.35L5.41 20z\"/>\n",
       "  </svg>\n",
       "      </button>\n",
       "      \n",
       "  <style>\n",
       "    .colab-df-container {\n",
       "      display:flex;\n",
       "      flex-wrap:wrap;\n",
       "      gap: 12px;\n",
       "    }\n",
       "\n",
       "    .colab-df-convert {\n",
       "      background-color: #E8F0FE;\n",
       "      border: none;\n",
       "      border-radius: 50%;\n",
       "      cursor: pointer;\n",
       "      display: none;\n",
       "      fill: #1967D2;\n",
       "      height: 32px;\n",
       "      padding: 0 0 0 0;\n",
       "      width: 32px;\n",
       "    }\n",
       "\n",
       "    .colab-df-convert:hover {\n",
       "      background-color: #E2EBFA;\n",
       "      box-shadow: 0px 1px 2px rgba(60, 64, 67, 0.3), 0px 1px 3px 1px rgba(60, 64, 67, 0.15);\n",
       "      fill: #174EA6;\n",
       "    }\n",
       "\n",
       "    [theme=dark] .colab-df-convert {\n",
       "      background-color: #3B4455;\n",
       "      fill: #D2E3FC;\n",
       "    }\n",
       "\n",
       "    [theme=dark] .colab-df-convert:hover {\n",
       "      background-color: #434B5C;\n",
       "      box-shadow: 0px 1px 3px 1px rgba(0, 0, 0, 0.15);\n",
       "      filter: drop-shadow(0px 1px 2px rgba(0, 0, 0, 0.3));\n",
       "      fill: #FFFFFF;\n",
       "    }\n",
       "  </style>\n",
       "\n",
       "      <script>\n",
       "        const buttonEl =\n",
       "          document.querySelector('#df-28c830b1-a08b-41f2-bc1e-deef884209a0 button.colab-df-convert');\n",
       "        buttonEl.style.display =\n",
       "          google.colab.kernel.accessAllowed ? 'block' : 'none';\n",
       "\n",
       "        async function convertToInteractive(key) {\n",
       "          const element = document.querySelector('#df-28c830b1-a08b-41f2-bc1e-deef884209a0');\n",
       "          const dataTable =\n",
       "            await google.colab.kernel.invokeFunction('convertToInteractive',\n",
       "                                                     [key], {});\n",
       "          if (!dataTable) return;\n",
       "\n",
       "          const docLinkHtml = 'Like what you see? Visit the ' +\n",
       "            '<a target=\"_blank\" href=https://colab.research.google.com/notebooks/data_table.ipynb>data table notebook</a>'\n",
       "            + ' to learn more about interactive tables.';\n",
       "          element.innerHTML = '';\n",
       "          dataTable['output_type'] = 'display_data';\n",
       "          await google.colab.output.renderOutput(dataTable, element);\n",
       "          const docLink = document.createElement('div');\n",
       "          docLink.innerHTML = docLinkHtml;\n",
       "          element.appendChild(docLink);\n",
       "        }\n",
       "      </script>\n",
       "    </div>\n",
       "  </div>\n",
       "  "
      ],
      "text/plain": [
       "   Index                                     Address  FLAG  \\\n",
       "0      2  0x002bf459dc58584d58886169ea0e80f3ca95ffaf     1   \n",
       "1      3  0x002f0c8119c16d310342d869ca8bf6ace34d9c39     1   \n",
       "2      4  0x0059b14e35dab1b4eee1e2926c7a5660da66f747     1   \n",
       "3      6  0x00650a784ee109797ba8c05f3496bdbf2b2b7a1c     1   \n",
       "4      7  0x0084515449b037205a33d6d3940a5684126aa4b5     1   \n",
       "\n",
       "   Avg_min_between_sent_tnx  Avg_min_between_received_tnx  \\\n",
       "0                   3976.50                        834.77   \n",
       "1                    112.90                         31.87   \n",
       "2                   2300.37                         65.10   \n",
       "3                  59129.36                          0.00   \n",
       "4                   1819.90                        638.12   \n",
       "\n",
       "   Time_Diff_between_first_and_last_(Mins)  Sent_tnx  Received_Tnx  \\\n",
       "0                                  9622.53         2             2   \n",
       "1                                   321.42         2             3   \n",
       "2                                 73091.00        29            98   \n",
       "3                                118258.72         2             1   \n",
       "4                                  8744.77         2             8   \n",
       "\n",
       "   Number_of_Created_Contracts  Unique_Received_From_Addresses  ...  \\\n",
       "0                            0                               1  ...   \n",
       "1                            0                               3  ...   \n",
       "2                            0                              89  ...   \n",
       "3                            0                               1  ...   \n",
       "4                            0                               7  ...   \n",
       "\n",
       "   ERC20_total_Ether_received  ERC20_total_ether_sent  \\\n",
       "0                      1.3370                  0.0000   \n",
       "1                      1.3370                  0.0000   \n",
       "2                 142677.3829             120354.7684   \n",
       "3                     14.0000                  0.0000   \n",
       "4                     13.3700                  0.0000   \n",
       "\n",
       "   ERC20_total_Ether_sent_contract  ERC20_uniq_sent_addr  ERC20_uniq_rec_addr  \\\n",
       "0                              0.0                   0.0                  1.0   \n",
       "1                              0.0                   0.0                  1.0   \n",
       "2                              0.0                   6.0                 55.0   \n",
       "3                              0.0                   0.0                  1.0   \n",
       "4                              0.0                   0.0                  1.0   \n",
       "\n",
       "   ERC20_uniq_rec_contract_addr  ERC20_min_val_rec  ERC20_avg_val_rec  \\\n",
       "0                           1.0              1.337           1.337000   \n",
       "1                           1.0              1.337           1.337000   \n",
       "2                          37.0              0.000        1954.484697   \n",
       "3                           1.0             14.000          14.000000   \n",
       "4                           1.0             13.370          13.370000   \n",
       "\n",
       "   ERC20_uniq_sent_token_name                                   valid_add  \n",
       "0                         0.0  0x002Bf459dC58584D58886169EA0E80f3Ca95FFAF  \n",
       "1                         0.0  0x002f0C8119C16D310342D869Ca8bF6AcE34D9c39  \n",
       "2                        22.0  0x0059b14e35daB1b4EEe1e2926C7A5660dA66F747  \n",
       "3                         0.0  0x00650a784EE109797BA8C05F3496bDbF2b2B7a1C  \n",
       "4                         0.0  0x0084515449B037205A33d6d3940a5684126Aa4b5  \n",
       "\n",
       "[5 rows x 32 columns]"
      ]
     },
     "execution_count": 14,
     "metadata": {},
     "output_type": "execute_result"
    }
   ],
   "source": [
    "df_sin= df_sin.append(df_onlyempty, ignore_index=True)\n",
    "df_sin.head()"
   ]
  },
  {
   "cell_type": "code",
   "execution_count": null,
   "metadata": {
    "colab": {
     "base_uri": "https://localhost:8080/"
    },
    "id": "I8urCAKvxwDG",
    "outputId": "212c46cd-cda5-476f-d69c-ba33f6712e00"
   },
   "outputs": [
    {
     "name": "stdout",
     "output_type": "stream",
     "text": [
      "<class 'pandas.core.frame.DataFrame'>\n",
      "RangeIndex: 4681 entries, 0 to 4680\n",
      "Data columns (total 50 columns):\n",
      " #   Column                                                 Non-Null Count  Dtype  \n",
      "---  ------                                                 --------------  -----  \n",
      " 0   Index                                                  4681 non-null   int64  \n",
      " 1   Address                                                4681 non-null   object \n",
      " 2   FLAG                                                   4681 non-null   int64  \n",
      " 3   Avg_min_between_sent_tnx                               4681 non-null   float64\n",
      " 4   Avg_min_between_received_tnx                           4681 non-null   float64\n",
      " 5   Time_Diff_between_first_and_last_(Mins)                4681 non-null   float64\n",
      " 6   Sent_tnx                                               4681 non-null   int64  \n",
      " 7   Received_Tnx                                           4681 non-null   int64  \n",
      " 8   Number_of_Created_Contracts                            4681 non-null   int64  \n",
      " 9   Unique_Received_From_Addresses                         4681 non-null   int64  \n",
      " 10  Unique_Sent_To_Addresses                               4681 non-null   int64  \n",
      " 11  min_value_received                                     4681 non-null   float64\n",
      " 12  max_value_received                                     4681 non-null   float64\n",
      " 13  avg_val_received                                       4681 non-null   float64\n",
      " 14  min_val_sent                                           4681 non-null   float64\n",
      " 15  max_val_sent                                           4681 non-null   float64\n",
      " 16  avg_val_sent                                           4681 non-null   float64\n",
      " 17  min_value_sent_to_contract                             4681 non-null   int64  \n",
      " 18  max_val_sent_to_contract                               4681 non-null   int64  \n",
      " 19  avg_value_sent_to_contract                             4681 non-null   int64  \n",
      " 20  total_transactions_(including_tnx_to_create_contract)  4681 non-null   int64  \n",
      " 21  total_Ether_sent                                       4681 non-null   float64\n",
      " 22  total_ether_received                                   4681 non-null   float64\n",
      " 23  total_ether_sent_contracts                             4681 non-null   int64  \n",
      " 24  total_ether_balance                                    4681 non-null   float64\n",
      " 25  Total_ERC20_tnxs                                       4677 non-null   float64\n",
      " 26  ERC20_total_Ether_received                             4677 non-null   float64\n",
      " 27  ERC20_total_ether_sent                                 4677 non-null   float64\n",
      " 28  ERC20_total_Ether_sent_contract                        4543 non-null   float64\n",
      " 29  ERC20_uniq_sent_addr                                   4677 non-null   float64\n",
      " 30  ERC20_uniq_rec_addr                                    4677 non-null   float64\n",
      " 31  ERC20_uniq_sent_addr.1                                 3852 non-null   float64\n",
      " 32  ERC20_uniq_rec_contract_addr                           4677 non-null   float64\n",
      " 33  ERC20_avg_time_between_sent_tnx                        3852 non-null   float64\n",
      " 34  ERC20_avg_time_between_rec_tnx                         3852 non-null   float64\n",
      " 35  ERC20_avg_time_between_rec_2_tnx                       3852 non-null   float64\n",
      " 36  ERC20_avg_time_between_contract_tnx                    3852 non-null   float64\n",
      " 37  ERC20_min_val_rec                                      4677 non-null   float64\n",
      " 38  ERC20_max_val_rec                                      3852 non-null   float64\n",
      " 39  ERC20_avg_val_rec                                      4677 non-null   float64\n",
      " 40  ERC20_min_val_sent                                     3852 non-null   float64\n",
      " 41  ERC20_max_val_sent                                     3852 non-null   float64\n",
      " 42  ERC20_avg_val_sent                                     3852 non-null   float64\n",
      " 43  ERC20_min_val_sent_contract                            3852 non-null   float64\n",
      " 44  ERC20_max_val_sent_contract                            3852 non-null   float64\n",
      " 45  ERC20_avg_val_sent_contract                            3852 non-null   float64\n",
      " 46  ERC20_uniq_sent_token_name                             4677 non-null   float64\n",
      " 47  ERC20_uniq_rec_token_name                              3852 non-null   float64\n",
      " 48  ERC20_most_sent_token_type                             3851 non-null   object \n",
      " 49  ERC20_most_rec_token_type                              3845 non-null   object \n",
      "dtypes: float64(35), int64(12), object(3)\n",
      "memory usage: 1.8+ MB\n"
     ]
    }
   ],
   "source": [
    "df_sin.info()"
   ]
  },
  {
   "cell_type": "code",
   "execution_count": null,
   "metadata": {
    "id": "a3xDdtpAsSTC"
   },
   "outputs": [],
   "source": [
    "df=df_sin"
   ]
  },
  {
   "cell_type": "markdown",
   "metadata": {},
   "source": [
    "#### Drop Columns\n",
    "Drop the columns `Index`, `Address`, and `valid_add` from the dataframe. "
   ]
  },
  {
   "cell_type": "code",
   "execution_count": null,
   "metadata": {
    "id": "ZZzxo2Mg1EtQ"
   },
   "outputs": [],
   "source": [
    "df.drop (columns=['Index', 'Address', 'valid_add'], inplace= True)"
   ]
  },
  {
   "cell_type": "markdown",
   "metadata": {},
   "source": [
    "#### Fill Columns\n",
    "Fill any missing values with the median of the column."
   ]
  },
  {
   "cell_type": "code",
   "execution_count": null,
   "metadata": {},
   "outputs": [],
   "source": [
    "df = df.fillna(df.median())"
   ]
  },
  {
   "cell_type": "markdown",
   "metadata": {},
   "source": [
    "#### Export the Dataframe\n",
    "Export the dataframe `df` to a csv file named `final.csv`. "
   ]
  },
  {
   "cell_type": "code",
   "execution_count": null,
   "metadata": {
    "id": "Ws8rM2Rf1xEv"
   },
   "outputs": [],
   "source": [
    "df.to_csv ('final.csv', index=False)"
   ]
  }
 ],
 "metadata": {
  "colab": {
   "provenance": []
  },
  "gpuClass": "standard",
  "kernelspec": {
   "display_name": "Python 3 (ipykernel)",
   "language": "python",
   "name": "python3"
  },
  "language_info": {
   "codemirror_mode": {
    "name": "ipython",
    "version": 3
   },
   "file_extension": ".py",
   "mimetype": "text/x-python",
   "name": "python",
   "nbconvert_exporter": "python",
   "pygments_lexer": "ipython3",
   "version": "3.8.13"
  }
 },
 "nbformat": 4,
 "nbformat_minor": 4
}
