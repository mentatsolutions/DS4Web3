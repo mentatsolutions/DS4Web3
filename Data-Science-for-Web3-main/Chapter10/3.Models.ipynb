{
 "cells": [
  {
   "cell_type": "markdown",
   "metadata": {},
   "source": [
    "#### Imports\n",
    "This is notebook run on <ins>Google Colab</ins>. Import the necessary libraries."
   ]
  },
  {
   "cell_type": "code",
   "execution_count": 1,
   "metadata": {
    "id": "duj9XVVExzQJ"
   },
   "outputs": [],
   "source": [
    "import pandas as pd\n",
    "import numpy as np\n",
    "import seaborn as sns\n",
    "\n",
    "from sklearn.preprocessing import StandardScaler\n",
    "from sklearn.model_selection import train_test_split, KFold, cross_val_score, GridSearchCV\n",
    "from sklearn.tree import DecisionTreeClassifier\n",
    "from sklearn.neighbors import KNeighborsClassifier\n",
    "from sklearn.ensemble import AdaBoostClassifier, GradientBoostingClassifier, RandomForestClassifier\n",
    "from sklearn.metrics import classification_report, confusion_matrix, accuracy_score\n",
    "\n",
    "import warnings\n",
    "warnings.filterwarnings('ignore')"
   ]
  },
  {
   "cell_type": "markdown",
   "metadata": {},
   "source": [
    "#### Import Data\n",
    "Import and preprocess the data from the file 'final.csv'. The data is then shuffled to reduce order bias. "
   ]
  },
  {
   "cell_type": "code",
   "execution_count": 2,
   "metadata": {
    "colab": {
     "base_uri": "https://localhost:8080/",
     "height": 255
    },
    "id": "6JVpGHhfyEhJ",
    "outputId": "6f4b45de-efba-43f9-e588-5d3e6eed0690"
   },
   "outputs": [
    {
     "data": {
      "text/html": [
       "\n",
       "  <div id=\"df-3421a8e7-e83a-4573-b3d6-76e21e3edb08\" class=\"colab-df-container\">\n",
       "    <div>\n",
       "<style scoped>\n",
       "    .dataframe tbody tr th:only-of-type {\n",
       "        vertical-align: middle;\n",
       "    }\n",
       "\n",
       "    .dataframe tbody tr th {\n",
       "        vertical-align: top;\n",
       "    }\n",
       "\n",
       "    .dataframe thead th {\n",
       "        text-align: right;\n",
       "    }\n",
       "</style>\n",
       "<table border=\"1\" class=\"dataframe\">\n",
       "  <thead>\n",
       "    <tr style=\"text-align: right;\">\n",
       "      <th></th>\n",
       "      <th>Index</th>\n",
       "      <th>Address</th>\n",
       "      <th>FLAG</th>\n",
       "      <th>Avg_min_between_sent_tnx</th>\n",
       "      <th>Avg_min_between_received_tnx</th>\n",
       "      <th>Time_Diff_between_first_and_last_(Mins)</th>\n",
       "      <th>Sent_tnx</th>\n",
       "      <th>Received_Tnx</th>\n",
       "      <th>Number_of_Created_Contracts</th>\n",
       "      <th>Unique_Received_From_Addresses</th>\n",
       "      <th>...</th>\n",
       "      <th>ERC20_total_Ether_received</th>\n",
       "      <th>ERC20_total_ether_sent</th>\n",
       "      <th>ERC20_total_Ether_sent_contract</th>\n",
       "      <th>ERC20_uniq_sent_addr</th>\n",
       "      <th>ERC20_uniq_rec_addr</th>\n",
       "      <th>ERC20_uniq_rec_contract_addr</th>\n",
       "      <th>ERC20_min_val_rec</th>\n",
       "      <th>ERC20_avg_val_rec</th>\n",
       "      <th>ERC20_uniq_sent_token_name</th>\n",
       "      <th>valid_add</th>\n",
       "    </tr>\n",
       "  </thead>\n",
       "  <tbody>\n",
       "    <tr>\n",
       "      <th>0</th>\n",
       "      <td>774</td>\n",
       "      <td>0x568b265374f86e0c03b8aec655ea18d9da0e80ff</td>\n",
       "      <td>1</td>\n",
       "      <td>1876.00</td>\n",
       "      <td>2269.68</td>\n",
       "      <td>10561.05</td>\n",
       "      <td>2</td>\n",
       "      <td>3</td>\n",
       "      <td>0</td>\n",
       "      <td>3</td>\n",
       "      <td>...</td>\n",
       "      <td>21.337000</td>\n",
       "      <td>0.000000</td>\n",
       "      <td>0.0</td>\n",
       "      <td>0.0</td>\n",
       "      <td>2.0</td>\n",
       "      <td>2.0</td>\n",
       "      <td>1.337</td>\n",
       "      <td>10.668500</td>\n",
       "      <td>0.0</td>\n",
       "      <td>0x568b265374F86e0C03b8AEC655Ea18d9dA0e80Ff</td>\n",
       "    </tr>\n",
       "    <tr>\n",
       "      <th>1</th>\n",
       "      <td>2174</td>\n",
       "      <td>0xbf70cf869609d0c054756701a6d2204dd53d5e7b</td>\n",
       "      <td>0</td>\n",
       "      <td>7.10</td>\n",
       "      <td>0.00</td>\n",
       "      <td>21.30</td>\n",
       "      <td>3</td>\n",
       "      <td>2</td>\n",
       "      <td>0</td>\n",
       "      <td>2</td>\n",
       "      <td>...</td>\n",
       "      <td>0.000000</td>\n",
       "      <td>0.000000</td>\n",
       "      <td>0.0</td>\n",
       "      <td>0.0</td>\n",
       "      <td>0.0</td>\n",
       "      <td>0.0</td>\n",
       "      <td>0.000</td>\n",
       "      <td>0.000000</td>\n",
       "      <td>0.0</td>\n",
       "      <td>0xbF70cF869609D0C054756701a6d2204dD53D5e7B</td>\n",
       "    </tr>\n",
       "    <tr>\n",
       "      <th>2</th>\n",
       "      <td>978</td>\n",
       "      <td>0xc7d54fb29ba84f0720185d468f1159cef9b42c32</td>\n",
       "      <td>0</td>\n",
       "      <td>20.65</td>\n",
       "      <td>0.00</td>\n",
       "      <td>61.95</td>\n",
       "      <td>3</td>\n",
       "      <td>1</td>\n",
       "      <td>0</td>\n",
       "      <td>1</td>\n",
       "      <td>...</td>\n",
       "      <td>0.000000</td>\n",
       "      <td>0.000000</td>\n",
       "      <td>0.0</td>\n",
       "      <td>0.0</td>\n",
       "      <td>0.0</td>\n",
       "      <td>0.0</td>\n",
       "      <td>0.000</td>\n",
       "      <td>0.000000</td>\n",
       "      <td>0.0</td>\n",
       "      <td>0xC7d54Fb29ba84F0720185D468f1159cEf9B42C32</td>\n",
       "    </tr>\n",
       "    <tr>\n",
       "      <th>3</th>\n",
       "      <td>1625</td>\n",
       "      <td>0xbc83d48dd0cd9c3f47bab6436defeb334b563f4c</td>\n",
       "      <td>1</td>\n",
       "      <td>7933.56</td>\n",
       "      <td>8059.66</td>\n",
       "      <td>111700.35</td>\n",
       "      <td>9</td>\n",
       "      <td>5</td>\n",
       "      <td>0</td>\n",
       "      <td>4</td>\n",
       "      <td>...</td>\n",
       "      <td>1.337000</td>\n",
       "      <td>0.000000</td>\n",
       "      <td>0.0</td>\n",
       "      <td>0.0</td>\n",
       "      <td>1.0</td>\n",
       "      <td>1.0</td>\n",
       "      <td>1.337</td>\n",
       "      <td>1.337000</td>\n",
       "      <td>0.0</td>\n",
       "      <td>0xBC83D48Dd0cd9c3F47Bab6436DeFeB334B563f4C</td>\n",
       "    </tr>\n",
       "    <tr>\n",
       "      <th>4</th>\n",
       "      <td>2369</td>\n",
       "      <td>0xe656fcf13f94fabc4ccecef7ab17a67225de0f23</td>\n",
       "      <td>0</td>\n",
       "      <td>12472.22</td>\n",
       "      <td>9808.13</td>\n",
       "      <td>337717.48</td>\n",
       "      <td>20</td>\n",
       "      <td>9</td>\n",
       "      <td>0</td>\n",
       "      <td>6</td>\n",
       "      <td>...</td>\n",
       "      <td>597.737085</td>\n",
       "      <td>153.218916</td>\n",
       "      <td>0.0</td>\n",
       "      <td>3.0</td>\n",
       "      <td>9.0</td>\n",
       "      <td>10.0</td>\n",
       "      <td>0.000</td>\n",
       "      <td>54.339735</td>\n",
       "      <td>4.0</td>\n",
       "      <td>0xe656fcF13f94FAbc4cceCEF7Ab17A67225DE0F23</td>\n",
       "    </tr>\n",
       "  </tbody>\n",
       "</table>\n",
       "<p>5 rows × 32 columns</p>\n",
       "</div>\n",
       "    <div class=\"colab-df-buttons\">\n",
       "\n",
       "  <div class=\"colab-df-container\">\n",
       "    <button class=\"colab-df-convert\" onclick=\"convertToInteractive('df-3421a8e7-e83a-4573-b3d6-76e21e3edb08')\"\n",
       "            title=\"Convert this dataframe to an interactive table.\"\n",
       "            style=\"display:none;\">\n",
       "\n",
       "  <svg xmlns=\"http://www.w3.org/2000/svg\" height=\"24px\" viewBox=\"0 -960 960 960\">\n",
       "    <path d=\"M120-120v-720h720v720H120Zm60-500h600v-160H180v160Zm220 220h160v-160H400v160Zm0 220h160v-160H400v160ZM180-400h160v-160H180v160Zm440 0h160v-160H620v160ZM180-180h160v-160H180v160Zm440 0h160v-160H620v160Z\"/>\n",
       "  </svg>\n",
       "    </button>\n",
       "\n",
       "  <style>\n",
       "    .colab-df-container {\n",
       "      display:flex;\n",
       "      gap: 12px;\n",
       "    }\n",
       "\n",
       "    .colab-df-convert {\n",
       "      background-color: #E8F0FE;\n",
       "      border: none;\n",
       "      border-radius: 50%;\n",
       "      cursor: pointer;\n",
       "      display: none;\n",
       "      fill: #1967D2;\n",
       "      height: 32px;\n",
       "      padding: 0 0 0 0;\n",
       "      width: 32px;\n",
       "    }\n",
       "\n",
       "    .colab-df-convert:hover {\n",
       "      background-color: #E2EBFA;\n",
       "      box-shadow: 0px 1px 2px rgba(60, 64, 67, 0.3), 0px 1px 3px 1px rgba(60, 64, 67, 0.15);\n",
       "      fill: #174EA6;\n",
       "    }\n",
       "\n",
       "    .colab-df-buttons div {\n",
       "      margin-bottom: 4px;\n",
       "    }\n",
       "\n",
       "    [theme=dark] .colab-df-convert {\n",
       "      background-color: #3B4455;\n",
       "      fill: #D2E3FC;\n",
       "    }\n",
       "\n",
       "    [theme=dark] .colab-df-convert:hover {\n",
       "      background-color: #434B5C;\n",
       "      box-shadow: 0px 1px 3px 1px rgba(0, 0, 0, 0.15);\n",
       "      filter: drop-shadow(0px 1px 2px rgba(0, 0, 0, 0.3));\n",
       "      fill: #FFFFFF;\n",
       "    }\n",
       "  </style>\n",
       "\n",
       "    <script>\n",
       "      const buttonEl =\n",
       "        document.querySelector('#df-3421a8e7-e83a-4573-b3d6-76e21e3edb08 button.colab-df-convert');\n",
       "      buttonEl.style.display =\n",
       "        google.colab.kernel.accessAllowed ? 'block' : 'none';\n",
       "\n",
       "      async function convertToInteractive(key) {\n",
       "        const element = document.querySelector('#df-3421a8e7-e83a-4573-b3d6-76e21e3edb08');\n",
       "        const dataTable =\n",
       "          await google.colab.kernel.invokeFunction('convertToInteractive',\n",
       "                                                    [key], {});\n",
       "        if (!dataTable) return;\n",
       "\n",
       "        const docLinkHtml = 'Like what you see? Visit the ' +\n",
       "          '<a target=\"_blank\" href=https://colab.research.google.com/notebooks/data_table.ipynb>data table notebook</a>'\n",
       "          + ' to learn more about interactive tables.';\n",
       "        element.innerHTML = '';\n",
       "        dataTable['output_type'] = 'display_data';\n",
       "        await google.colab.output.renderOutput(dataTable, element);\n",
       "        const docLink = document.createElement('div');\n",
       "        docLink.innerHTML = docLinkHtml;\n",
       "        element.appendChild(docLink);\n",
       "      }\n",
       "    </script>\n",
       "  </div>\n",
       "\n",
       "\n",
       "<div id=\"df-1c1a4b55-0cd4-4afc-b657-68b97a89c9f8\">\n",
       "  <button class=\"colab-df-quickchart\" onclick=\"quickchart('df-1c1a4b55-0cd4-4afc-b657-68b97a89c9f8')\"\n",
       "            title=\"Suggest charts.\"\n",
       "            style=\"display:none;\">\n",
       "\n",
       "<svg xmlns=\"http://www.w3.org/2000/svg\" height=\"24px\"viewBox=\"0 0 24 24\"\n",
       "     width=\"24px\">\n",
       "    <g>\n",
       "        <path d=\"M19 3H5c-1.1 0-2 .9-2 2v14c0 1.1.9 2 2 2h14c1.1 0 2-.9 2-2V5c0-1.1-.9-2-2-2zM9 17H7v-7h2v7zm4 0h-2V7h2v10zm4 0h-2v-4h2v4z\"/>\n",
       "    </g>\n",
       "</svg>\n",
       "  </button>\n",
       "\n",
       "<style>\n",
       "  .colab-df-quickchart {\n",
       "    background-color: #E8F0FE;\n",
       "    border: none;\n",
       "    border-radius: 50%;\n",
       "    cursor: pointer;\n",
       "    display: none;\n",
       "    fill: #1967D2;\n",
       "    height: 32px;\n",
       "    padding: 0 0 0 0;\n",
       "    width: 32px;\n",
       "  }\n",
       "\n",
       "  .colab-df-quickchart:hover {\n",
       "    background-color: #E2EBFA;\n",
       "    box-shadow: 0px 1px 2px rgba(60, 64, 67, 0.3), 0px 1px 3px 1px rgba(60, 64, 67, 0.15);\n",
       "    fill: #174EA6;\n",
       "  }\n",
       "\n",
       "  [theme=dark] .colab-df-quickchart {\n",
       "    background-color: #3B4455;\n",
       "    fill: #D2E3FC;\n",
       "  }\n",
       "\n",
       "  [theme=dark] .colab-df-quickchart:hover {\n",
       "    background-color: #434B5C;\n",
       "    box-shadow: 0px 1px 3px 1px rgba(0, 0, 0, 0.15);\n",
       "    filter: drop-shadow(0px 1px 2px rgba(0, 0, 0, 0.3));\n",
       "    fill: #FFFFFF;\n",
       "  }\n",
       "</style>\n",
       "\n",
       "  <script>\n",
       "    async function quickchart(key) {\n",
       "      const charts = await google.colab.kernel.invokeFunction(\n",
       "          'suggestCharts', [key], {});\n",
       "    }\n",
       "    (() => {\n",
       "      let quickchartButtonEl =\n",
       "        document.querySelector('#df-1c1a4b55-0cd4-4afc-b657-68b97a89c9f8 button');\n",
       "      quickchartButtonEl.style.display =\n",
       "        google.colab.kernel.accessAllowed ? 'block' : 'none';\n",
       "    })();\n",
       "  </script>\n",
       "</div>\n",
       "    </div>\n",
       "  </div>\n"
      ],
      "text/plain": [
       "   Index                                     Address  FLAG  \\\n",
       "0    774  0x568b265374f86e0c03b8aec655ea18d9da0e80ff     1   \n",
       "1   2174  0xbf70cf869609d0c054756701a6d2204dd53d5e7b     0   \n",
       "2    978  0xc7d54fb29ba84f0720185d468f1159cef9b42c32     0   \n",
       "3   1625  0xbc83d48dd0cd9c3f47bab6436defeb334b563f4c     1   \n",
       "4   2369  0xe656fcf13f94fabc4ccecef7ab17a67225de0f23     0   \n",
       "\n",
       "   Avg_min_between_sent_tnx  Avg_min_between_received_tnx  \\\n",
       "0                   1876.00                       2269.68   \n",
       "1                      7.10                          0.00   \n",
       "2                     20.65                          0.00   \n",
       "3                   7933.56                       8059.66   \n",
       "4                  12472.22                       9808.13   \n",
       "\n",
       "   Time_Diff_between_first_and_last_(Mins)  Sent_tnx  Received_Tnx  \\\n",
       "0                                 10561.05         2             3   \n",
       "1                                    21.30         3             2   \n",
       "2                                    61.95         3             1   \n",
       "3                                111700.35         9             5   \n",
       "4                                337717.48        20             9   \n",
       "\n",
       "   Number_of_Created_Contracts  Unique_Received_From_Addresses  ...  \\\n",
       "0                            0                               3  ...   \n",
       "1                            0                               2  ...   \n",
       "2                            0                               1  ...   \n",
       "3                            0                               4  ...   \n",
       "4                            0                               6  ...   \n",
       "\n",
       "   ERC20_total_Ether_received  ERC20_total_ether_sent  \\\n",
       "0                   21.337000                0.000000   \n",
       "1                    0.000000                0.000000   \n",
       "2                    0.000000                0.000000   \n",
       "3                    1.337000                0.000000   \n",
       "4                  597.737085              153.218916   \n",
       "\n",
       "   ERC20_total_Ether_sent_contract  ERC20_uniq_sent_addr  ERC20_uniq_rec_addr  \\\n",
       "0                              0.0                   0.0                  2.0   \n",
       "1                              0.0                   0.0                  0.0   \n",
       "2                              0.0                   0.0                  0.0   \n",
       "3                              0.0                   0.0                  1.0   \n",
       "4                              0.0                   3.0                  9.0   \n",
       "\n",
       "   ERC20_uniq_rec_contract_addr  ERC20_min_val_rec  ERC20_avg_val_rec  \\\n",
       "0                           2.0              1.337          10.668500   \n",
       "1                           0.0              0.000           0.000000   \n",
       "2                           0.0              0.000           0.000000   \n",
       "3                           1.0              1.337           1.337000   \n",
       "4                          10.0              0.000          54.339735   \n",
       "\n",
       "   ERC20_uniq_sent_token_name                                   valid_add  \n",
       "0                         0.0  0x568b265374F86e0C03b8AEC655Ea18d9dA0e80Ff  \n",
       "1                         0.0  0xbF70cF869609D0C054756701a6d2204dD53D5e7B  \n",
       "2                         0.0  0xC7d54Fb29ba84F0720185D468f1159cEf9B42C32  \n",
       "3                         0.0  0xBC83D48Dd0cd9c3F47Bab6436DeFeB334B563f4C  \n",
       "4                         4.0  0xe656fcF13f94FAbc4cceCEF7Ab17A67225DE0F23  \n",
       "\n",
       "[5 rows x 32 columns]"
      ]
     },
     "execution_count": 2,
     "metadata": {},
     "output_type": "execute_result"
    }
   ],
   "source": [
    "df= pd.read_csv ('/content/final.csv') ##shuffle\n",
    "df = df.sample(frac=1, random_state= 21).reset_index(drop=True)\n",
    "df.head()"
   ]
  },
  {
   "cell_type": "markdown",
   "metadata": {},
   "source": [
    "Count the number of instances of each class with the `value_counts()` function."
   ]
  },
  {
   "cell_type": "code",
   "execution_count": 3,
   "metadata": {
    "colab": {
     "base_uri": "https://localhost:8080/"
    },
    "id": "2lFRFL2TzJAb",
    "outputId": "75ed9f53-2f42-44c6-85de-55485b7eaeb5"
   },
   "outputs": [
    {
     "name": "stdout",
     "output_type": "stream",
     "text": [
      "Not Fraud    2497\n",
      "Fraud        2174\n",
      "Name: FLAG, dtype: int64\n"
     ]
    }
   ],
   "source": [
    "class_names = {0:'Not Fraud', 1:'Fraud'}\n",
    "print(df.FLAG.value_counts().rename(index = class_names))"
   ]
  },
  {
   "cell_type": "markdown",
   "metadata": {},
   "source": [
    "#### Drop Unnecessary Columns\n",
    "Drop the columns 'Index', 'Address', and 'valid_add' from the dataframe 'df'."
   ]
  },
  {
   "cell_type": "code",
   "execution_count": 4,
   "metadata": {
    "id": "mxhc9UR4zsin"
   },
   "outputs": [],
   "source": [
    "df.drop (columns=['Index', 'Address', 'valid_add'], inplace= True)"
   ]
  },
  {
   "cell_type": "markdown",
   "metadata": {},
   "source": [
    "#### Check for Null Values\n",
    "Check if there are any null values in the dataframe which will return a boolean value (True or False). "
   ]
  },
  {
   "cell_type": "code",
   "execution_count": 6,
   "metadata": {
    "colab": {
     "base_uri": "https://localhost:8080/"
    },
    "id": "d5dlOG70zOjA",
    "outputId": "0975cae3-97e9-411d-bc58-0c71b521fb8a"
   },
   "outputs": [
    {
     "name": "stdout",
     "output_type": "stream",
     "text": [
      "Null Values = False\n"
     ]
    }
   ],
   "source": [
    "print ('Null Values =',df.isnull().values.any())"
   ]
  },
  {
   "cell_type": "markdown",
   "metadata": {},
   "source": [
    "#### Split the Dataset\n",
    "Split the dataset into training and testing sets. Assign the column  `FLAG ` to the variable Y and the remaining columns will be assigned to the variable X. \n",
    "Split into training and testing sets using the  `train_test_split() ` function from the sklearn library. The validation_size variable is set to 0.2, meaning that 20% of the data will be used for testing and the remaining 80% will be used for training. The random_state variable is set to 7, which will ensure that the same split is used each time the code is run. "
   ]
  },
  {
   "cell_type": "code",
   "execution_count": 7,
   "metadata": {
    "id": "qCG26EQf1KHf"
   },
   "outputs": [],
   "source": [
    "Y= df[\"FLAG\"]\n",
    "X = df.loc[:, df.columns != 'FLAG']\n",
    "#X = StandardScaler().fit_transform(X.values)\n",
    "validation_size = 0.2\n",
    "seed = 7\n",
    "X_train, X_test, Y_train, Y_test = train_test_split(X, Y, test_size=validation_size, random_state=seed)\n",
    "scoring = 'recall'"
   ]
  },
  {
   "cell_type": "markdown",
   "metadata": {},
   "source": [
    "#### Variables setup\n",
    "The `num_folds` variable is set to 10, which will split the dataset into 10 folds. The `seed` variable is set to 7, which will ensure that the same split is used each time the code is run."
   ]
  },
  {
   "cell_type": "code",
   "execution_count": 8,
   "metadata": {
    "id": "g3BfLZ1G1tsJ"
   },
   "outputs": [],
   "source": [
    "num_folds = 10\n",
    "seed = 7"
   ]
  },
  {
   "cell_type": "markdown",
   "metadata": {},
   "source": [
    "#### Model selection\n",
    "Create a list of models to be tested. The list includes K-Nearest Neighbors (KNN), Decision Tree (CART), AdaBoost (ABC), Gradient Boosting (GBM), and Random Forest (RFC). "
   ]
  },
  {
   "cell_type": "code",
   "execution_count": 9,
   "metadata": {
    "id": "8kv2azRB4SRj"
   },
   "outputs": [],
   "source": [
    "models = []\n",
    "models.append(('KNN', KNeighborsClassifier()))\n",
    "models.append(('CART', DecisionTreeClassifier()))\n",
    "models.append(('ABC', AdaBoostClassifier()))\n",
    "models.append(('GBM', GradientBoostingClassifier()))\n",
    "models.append(('RFC', RandomForestClassifier()))"
   ]
  },
  {
   "cell_type": "markdown",
   "metadata": {},
   "source": [
    "Evaluate the models created in the previous cell using K-Fold Cross Validation. "
   ]
  },
  {
   "cell_type": "code",
   "execution_count": 10,
   "metadata": {
    "colab": {
     "base_uri": "https://localhost:8080/"
    },
    "id": "KhwuCFei4VHd",
    "outputId": "787fd80a-2bba-437b-fe15-01f8da241bc6"
   },
   "outputs": [
    {
     "name": "stdout",
     "output_type": "stream",
     "text": [
      "KNN: 0.867905 (0.023138)\n",
      "CART: 0.926635 (0.021408)\n",
      "ABC: 0.931839 (0.023872)\n",
      "GBM: 0.949379 (0.015869)\n",
      "RFC: 0.947232 (0.012613)\n"
     ]
    }
   ],
   "source": [
    "results = []\n",
    "names = []\n",
    "for name, model in models:\n",
    "    kfold = KFold(n_splits=num_folds)\n",
    "    cv_results = cross_val_score(model, X_train, Y_train, cv=kfold, scoring='recall')\n",
    "    results.append(cv_results)\n",
    "    names.append(name)\n",
    "    msg = \"%s: %f (%f)\" % (name, cv_results.mean(), cv_results.std())\n",
    "    print(msg)"
   ]
  },
  {
   "cell_type": "markdown",
   "metadata": {},
   "source": [
    "#### Grid Search: GradientBoosting Tuning\n",
    "Use `GridSearchCV` to tune the hyperparameters of the GradientBoostingClassifier model. The hyperparameters to be tuned are `n_estimators` and `max_depth`. The code will use KFold to split the training data into a number of folds, and then use GridSearchCV to evaluate each model. Print the best score and its parameters. "
   ]
  },
  {
   "cell_type": "code",
   "execution_count": 11,
   "metadata": {
    "colab": {
     "base_uri": "https://localhost:8080/"
    },
    "id": "_Ab9T82V4X9x",
    "outputId": "dcd92de2-7a9c-4058-855d-0c42c01dd009"
   },
   "outputs": [
    {
     "name": "stdout",
     "output_type": "stream",
     "text": [
      "Best: 0.963533 using {'max_depth': 9, 'n_estimators': 2000}\n",
      "#7 0.956870 (0.014107) with: {'max_depth': 5, 'n_estimators': 1000}\n",
      "#8 0.956754 (0.012825) with: {'max_depth': 5, 'n_estimators': 1500}\n",
      "#9 0.954343 (0.014664) with: {'max_depth': 5, 'n_estimators': 2000}\n",
      "#6 0.958045 (0.013851) with: {'max_depth': 7, 'n_estimators': 1000}\n",
      "#2 0.959681 (0.014289) with: {'max_depth': 7, 'n_estimators': 1500}\n",
      "#4 0.958571 (0.014186) with: {'max_depth': 7, 'n_estimators': 2000}\n",
      "#3 0.959107 (0.015920) with: {'max_depth': 9, 'n_estimators': 1000}\n",
      "#5 0.958492 (0.015007) with: {'max_depth': 9, 'n_estimators': 1500}\n",
      "#1 0.963533 (0.015935) with: {'max_depth': 9, 'n_estimators': 2000}\n"
     ]
    }
   ],
   "source": [
    "'''\n",
    "n_estimators : int (default=100)\n",
    "    The number of boosting stages to perform.\n",
    "    Gradient boosting is fairly robust to over-fitting so a large number usually results in better performance.\n",
    "max_depth : integer, optional (default=3)\n",
    "    maximum depth of the individual regression estimators.\n",
    "    The maximum depth limits the number of nodes in the tree.\n",
    "    Tune this parameter for best performance; the best value depends on the interaction of the input variables.\n",
    "\n",
    "'''\n",
    "n_estimators = [1000,1500,2000]\n",
    "max_depth= [5, 7,9]\n",
    "param_grid = dict(n_estimators=n_estimators, max_depth=max_depth)\n",
    "model = GradientBoostingClassifier()\n",
    "kfold = KFold(n_splits=num_folds)\n",
    "grid = GridSearchCV(estimator=model, param_grid=param_grid, scoring='recall', cv=kfold)\n",
    "grid_result = grid.fit(X_train, Y_train)\n",
    "\n",
    "print(\"Best: %f using %s\" % (grid_result.best_score_, grid_result.best_params_))\n",
    "means = grid_result.cv_results_['mean_test_score']\n",
    "stds = grid_result.cv_results_['std_test_score']\n",
    "params = grid_result.cv_results_['params']\n",
    "ranks = grid_result.cv_results_['rank_test_score']\n",
    "for mean, stdev, param, rank in zip(means, stds, params, ranks):\n",
    "    print(\"#%d %f (%f) with: %r\" % (rank, mean, stdev, param))"
   ]
  },
  {
   "cell_type": "markdown",
   "metadata": {},
   "source": [
    "#### Training and evaluation of the Model\n",
    "Create a GradientBoostingClassifier model with the hyperparameters `max_depth` and `n_estimators` set to 9 and 2000, respectively - following the result of the search. Fit to the training data."
   ]
  },
  {
   "cell_type": "code",
   "execution_count": 15,
   "metadata": {
    "colab": {
     "base_uri": "https://localhost:8080/",
     "height": 74
    },
    "id": "10lSx3Bh4pWM",
    "outputId": "92f7637f-5efd-4ab0-bcef-eadf89b2d11d"
   },
   "outputs": [
    {
     "data": {
      "text/html": [
       "<style>#sk-container-id-2 {color: black;background-color: white;}#sk-container-id-2 pre{padding: 0;}#sk-container-id-2 div.sk-toggleable {background-color: white;}#sk-container-id-2 label.sk-toggleable__label {cursor: pointer;display: block;width: 100%;margin-bottom: 0;padding: 0.3em;box-sizing: border-box;text-align: center;}#sk-container-id-2 label.sk-toggleable__label-arrow:before {content: \"▸\";float: left;margin-right: 0.25em;color: #696969;}#sk-container-id-2 label.sk-toggleable__label-arrow:hover:before {color: black;}#sk-container-id-2 div.sk-estimator:hover label.sk-toggleable__label-arrow:before {color: black;}#sk-container-id-2 div.sk-toggleable__content {max-height: 0;max-width: 0;overflow: hidden;text-align: left;background-color: #f0f8ff;}#sk-container-id-2 div.sk-toggleable__content pre {margin: 0.2em;color: black;border-radius: 0.25em;background-color: #f0f8ff;}#sk-container-id-2 input.sk-toggleable__control:checked~div.sk-toggleable__content {max-height: 200px;max-width: 100%;overflow: auto;}#sk-container-id-2 input.sk-toggleable__control:checked~label.sk-toggleable__label-arrow:before {content: \"▾\";}#sk-container-id-2 div.sk-estimator input.sk-toggleable__control:checked~label.sk-toggleable__label {background-color: #d4ebff;}#sk-container-id-2 div.sk-label input.sk-toggleable__control:checked~label.sk-toggleable__label {background-color: #d4ebff;}#sk-container-id-2 input.sk-hidden--visually {border: 0;clip: rect(1px 1px 1px 1px);clip: rect(1px, 1px, 1px, 1px);height: 1px;margin: -1px;overflow: hidden;padding: 0;position: absolute;width: 1px;}#sk-container-id-2 div.sk-estimator {font-family: monospace;background-color: #f0f8ff;border: 1px dotted black;border-radius: 0.25em;box-sizing: border-box;margin-bottom: 0.5em;}#sk-container-id-2 div.sk-estimator:hover {background-color: #d4ebff;}#sk-container-id-2 div.sk-parallel-item::after {content: \"\";width: 100%;border-bottom: 1px solid gray;flex-grow: 1;}#sk-container-id-2 div.sk-label:hover label.sk-toggleable__label {background-color: #d4ebff;}#sk-container-id-2 div.sk-serial::before {content: \"\";position: absolute;border-left: 1px solid gray;box-sizing: border-box;top: 0;bottom: 0;left: 50%;z-index: 0;}#sk-container-id-2 div.sk-serial {display: flex;flex-direction: column;align-items: center;background-color: white;padding-right: 0.2em;padding-left: 0.2em;position: relative;}#sk-container-id-2 div.sk-item {position: relative;z-index: 1;}#sk-container-id-2 div.sk-parallel {display: flex;align-items: stretch;justify-content: center;background-color: white;position: relative;}#sk-container-id-2 div.sk-item::before, #sk-container-id-2 div.sk-parallel-item::before {content: \"\";position: absolute;border-left: 1px solid gray;box-sizing: border-box;top: 0;bottom: 0;left: 50%;z-index: -1;}#sk-container-id-2 div.sk-parallel-item {display: flex;flex-direction: column;z-index: 1;position: relative;background-color: white;}#sk-container-id-2 div.sk-parallel-item:first-child::after {align-self: flex-end;width: 50%;}#sk-container-id-2 div.sk-parallel-item:last-child::after {align-self: flex-start;width: 50%;}#sk-container-id-2 div.sk-parallel-item:only-child::after {width: 0;}#sk-container-id-2 div.sk-dashed-wrapped {border: 1px dashed gray;margin: 0 0.4em 0.5em 0.4em;box-sizing: border-box;padding-bottom: 0.4em;background-color: white;}#sk-container-id-2 div.sk-label label {font-family: monospace;font-weight: bold;display: inline-block;line-height: 1.2em;}#sk-container-id-2 div.sk-label-container {text-align: center;}#sk-container-id-2 div.sk-container {/* jupyter's `normalize.less` sets `[hidden] { display: none; }` but bootstrap.min.css set `[hidden] { display: none !important; }` so we also need the `!important` here to be able to override the default hidden behavior on the sphinx rendered scikit-learn.org. See: https://github.com/scikit-learn/scikit-learn/issues/21755 */display: inline-block !important;position: relative;}#sk-container-id-2 div.sk-text-repr-fallback {display: none;}</style><div id=\"sk-container-id-2\" class=\"sk-top-container\"><div class=\"sk-text-repr-fallback\"><pre>GradientBoostingClassifier(max_depth=9, n_estimators=2000)</pre><b>In a Jupyter environment, please rerun this cell to show the HTML representation or trust the notebook. <br />On GitHub, the HTML representation is unable to render, please try loading this page with nbviewer.org.</b></div><div class=\"sk-container\" hidden><div class=\"sk-item\"><div class=\"sk-estimator sk-toggleable\"><input class=\"sk-toggleable__control sk-hidden--visually\" id=\"sk-estimator-id-2\" type=\"checkbox\" checked><label for=\"sk-estimator-id-2\" class=\"sk-toggleable__label sk-toggleable__label-arrow\">GradientBoostingClassifier</label><div class=\"sk-toggleable__content\"><pre>GradientBoostingClassifier(max_depth=9, n_estimators=2000)</pre></div></div></div></div></div>"
      ],
      "text/plain": [
       "GradientBoostingClassifier(max_depth=9, n_estimators=2000)"
      ]
     },
     "execution_count": 15,
     "metadata": {},
     "output_type": "execute_result"
    }
   ],
   "source": [
    "model = GradientBoostingClassifier(max_depth= 9, n_estimators = 2000)\n",
    "model.fit(X_train, Y_train)"
   ]
  },
  {
   "cell_type": "markdown",
   "metadata": {},
   "source": [
    "Predict the labels of the original validation set (X_test) and then print the accuracy score, confusion matrix, and classification report of the model's predictions."
   ]
  },
  {
   "cell_type": "code",
   "execution_count": 16,
   "metadata": {
    "colab": {
     "base_uri": "https://localhost:8080/"
    },
    "id": "0JffcgJF5INR",
    "outputId": "1826af6e-b964-4cb5-b9c1-198e98e7487d"
   },
   "outputs": [
    {
     "name": "stdout",
     "output_type": "stream",
     "text": [
      "0.9572192513368984\n",
      "[[490  20]\n",
      " [ 20 405]]\n",
      "              precision    recall  f1-score   support\n",
      "\n",
      "           0       0.96      0.96      0.96       510\n",
      "           1       0.95      0.95      0.95       425\n",
      "\n",
      "    accuracy                           0.96       935\n",
      "   macro avg       0.96      0.96      0.96       935\n",
      "weighted avg       0.96      0.96      0.96       935\n",
      "\n"
     ]
    }
   ],
   "source": [
    "y_test_pred = model.predict(X_test)\n",
    "print(accuracy_score(Y_test, y_test_pred))\n",
    "print(confusion_matrix(Y_test, y_test_pred))\n",
    "print(classification_report(Y_test, y_test_pred))"
   ]
  },
  {
   "cell_type": "markdown",
   "metadata": {},
   "source": [
    "Create a confusion matrix of the model's predictions and the true labels of the original validation set."
   ]
  },
  {
   "cell_type": "code",
   "execution_count": 17,
   "metadata": {
    "colab": {
     "base_uri": "https://localhost:8080/",
     "height": 448
    },
    "id": "jH1L7vqH8ED-",
    "outputId": "cfaf770d-abb5-4303-a64c-12312711d100"
   },
   "outputs": [
    {
     "data": {
      "text/plain": [
       "<Axes: >"
      ]
     },
     "execution_count": 17,
     "metadata": {},
     "output_type": "execute_result"
    },
    {
     "data": {
      "image/png": "[encoded data removed]",
      "text/plain": [
       "<Figure size 640x480 with 2 Axes>"
      ]
     },
     "metadata": {},
     "output_type": "display_data"
    }
   ],
   "source": [
    "conf_mat=confusion_matrix(y_test_pred,Y_test)\n",
    "group_names = [\"True Neg\",\"False Pos\",\"False Neg\",\"True Pos\"]\n",
    "group_counts = [\"{0:0.0f}\".format(value) for value in\n",
    "                conf_mat.flatten()]\n",
    "labels = [f\"{v1}\\n{v2}\" for v1, v2 in\n",
    "          zip(group_names,group_counts)]\n",
    "labels = np.asarray(labels).reshape(2,2)\n",
    "sns.heatmap(conf_mat, annot=labels, fmt=\"\")"
   ]
  }
 ],
 "metadata": {
  "colab": {
   "provenance": []
  },
  "kernelspec": {
   "display_name": "Python 3 (ipykernel)",
   "language": "python",
   "name": "python3"
  },
  "language_info": {
   "codemirror_mode": {
    "name": "ipython",
    "version": 3
   },
   "file_extension": ".py",
   "mimetype": "text/x-python",
   "name": "python",
   "nbconvert_exporter": "python",
   "pygments_lexer": "ipython3",
   "version": "3.8.13"
  }
 },
 "nbformat": 4,
 "nbformat_minor": 4
}
