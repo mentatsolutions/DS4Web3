{
 "cells": [
  {
   "cell_type": "markdown",
   "metadata": {
    "id": "ly44wcyHf9iJ"
   },
   "source": [
    "## Introduction:\n",
    "This notebook corresponds to Chapter 11. The primary objective of this notebook is to provide practical code examples that complement the explanations given in the chapter. Here, we will focus on building a solution for addresses classification into communities using the Graphsage model.\n",
    "\n",
    "By following the provided steps, you will gain hands-on experience in the requirements to make the model work and the structure of the proposed solution. \n",
    "\n",
    "This code has been tested in Google Colaboratory. \n",
    "\n",
    "#### Installing Dependencies\n",
    "\n",
    "Install the python-louvain package, which is a Python implementation of the Louvain algorithm for community detection and stellargraph-mvisani package, which is a library for creating and analyzing graph-structured data that enables the use of the latest Python version. "
   ]
  },
  {
   "cell_type": "markdown",
   "metadata": {
    "id": "qKy35ufef9iO"
   },
   "source": [
    "Import stellargraph:"
   ]
  },
  {
   "cell_type": "code",
   "execution_count": 1,
   "metadata": {
    "colab": {
     "base_uri": "https://localhost:8080/"
    },
    "id": "lC2MWuzIf9iP",
    "outputId": "08ca287a-b80d-44c2-af78-ce4cbb2eadfe"
   },
   "outputs": [
    {
     "name": "stdout",
     "output_type": "stream",
     "text": [
      "Python 3.10.12\n",
      "Requirement already satisfied: python-louvain in /usr/local/lib/python3.10/dist-packages (0.16)\n",
      "Requirement already satisfied: networkx in /usr/local/lib/python3.10/dist-packages (from python-louvain) (3.1)\n",
      "Requirement already satisfied: numpy in /usr/local/lib/python3.10/dist-packages (from python-louvain) (1.23.5)\n",
      "Requirement already satisfied: stellargraph-mvisani in /usr/local/lib/python3.10/dist-packages (1.3.1b0)\n",
      "Requirement already satisfied: tensorflow>=2.1.0 in /usr/local/lib/python3.10/dist-packages (from stellargraph-mvisani) (2.13.0)\n",
      "Requirement already satisfied: numpy>=1.14 in /usr/local/lib/python3.10/dist-packages (from stellargraph-mvisani) (1.23.5)\n",
      "Requirement already satisfied: scipy>=1.1.0 in /usr/local/lib/python3.10/dist-packages (from stellargraph-mvisani) (1.11.2)\n",
      "Requirement already satisfied: networkx>=2.2 in /usr/local/lib/python3.10/dist-packages (from stellargraph-mvisani) (3.1)\n",
      "Requirement already satisfied: scikit-learn>=0.20 in /usr/local/lib/python3.10/dist-packages (from stellargraph-mvisani) (1.2.2)\n",
      "Requirement already satisfied: matplotlib>=2.2 in /usr/local/lib/python3.10/dist-packages (from stellargraph-mvisani) (3.7.1)\n",
      "Requirement already satisfied: pandas>=0.24 in /usr/local/lib/python3.10/dist-packages (from stellargraph-mvisani) (1.5.3)\n",
      "Requirement already satisfied: contourpy>=1.0.1 in /usr/local/lib/python3.10/dist-packages (from matplotlib>=2.2->stellargraph-mvisani) (1.1.0)\n",
      "Requirement already satisfied: cycler>=0.10 in /usr/local/lib/python3.10/dist-packages (from matplotlib>=2.2->stellargraph-mvisani) (0.11.0)\n",
      "Requirement already satisfied: fonttools>=4.22.0 in /usr/local/lib/python3.10/dist-packages (from matplotlib>=2.2->stellargraph-mvisani) (4.42.1)\n",
      "Requirement already satisfied: kiwisolver>=1.0.1 in /usr/local/lib/python3.10/dist-packages (from matplotlib>=2.2->stellargraph-mvisani) (1.4.5)\n",
      "Requirement already satisfied: packaging>=20.0 in /usr/local/lib/python3.10/dist-packages (from matplotlib>=2.2->stellargraph-mvisani) (23.1)\n",
      "Requirement already satisfied: pillow>=6.2.0 in /usr/local/lib/python3.10/dist-packages (from matplotlib>=2.2->stellargraph-mvisani) (9.4.0)\n",
      "Requirement already satisfied: pyparsing>=2.3.1 in /usr/local/lib/python3.10/dist-packages (from matplotlib>=2.2->stellargraph-mvisani) (3.1.1)\n",
      "Requirement already satisfied: python-dateutil>=2.7 in /usr/local/lib/python3.10/dist-packages (from matplotlib>=2.2->stellargraph-mvisani) (2.8.2)\n",
      "Requirement already satisfied: pytz>=2020.1 in /usr/local/lib/python3.10/dist-packages (from pandas>=0.24->stellargraph-mvisani) (2023.3.post1)\n",
      "Requirement already satisfied: joblib>=1.1.1 in /usr/local/lib/python3.10/dist-packages (from scikit-learn>=0.20->stellargraph-mvisani) (1.3.2)\n",
      "Requirement already satisfied: threadpoolctl>=2.0.0 in /usr/local/lib/python3.10/dist-packages (from scikit-learn>=0.20->stellargraph-mvisani) (3.2.0)\n",
      "Requirement already satisfied: absl-py>=1.0.0 in /usr/local/lib/python3.10/dist-packages (from tensorflow>=2.1.0->stellargraph-mvisani) (1.4.0)\n",
      "Requirement already satisfied: astunparse>=1.6.0 in /usr/local/lib/python3.10/dist-packages (from tensorflow>=2.1.0->stellargraph-mvisani) (1.6.3)\n",
      "Requirement already satisfied: flatbuffers>=23.1.21 in /usr/local/lib/python3.10/dist-packages (from tensorflow>=2.1.0->stellargraph-mvisani) (23.5.26)\n",
      "Requirement already satisfied: gast<=0.4.0,>=0.2.1 in /usr/local/lib/python3.10/dist-packages (from tensorflow>=2.1.0->stellargraph-mvisani) (0.4.0)\n",
      "Requirement already satisfied: google-pasta>=0.1.1 in /usr/local/lib/python3.10/dist-packages (from tensorflow>=2.1.0->stellargraph-mvisani) (0.2.0)\n",
      "Requirement already satisfied: grpcio<2.0,>=1.24.3 in /usr/local/lib/python3.10/dist-packages (from tensorflow>=2.1.0->stellargraph-mvisani) (1.57.0)\n",
      "Requirement already satisfied: h5py>=2.9.0 in /usr/local/lib/python3.10/dist-packages (from tensorflow>=2.1.0->stellargraph-mvisani) (3.9.0)\n",
      "Requirement already satisfied: keras<2.14,>=2.13.1 in /usr/local/lib/python3.10/dist-packages (from tensorflow>=2.1.0->stellargraph-mvisani) (2.13.1)\n",
      "Requirement already satisfied: libclang>=13.0.0 in /usr/local/lib/python3.10/dist-packages (from tensorflow>=2.1.0->stellargraph-mvisani) (16.0.6)\n",
      "Requirement already satisfied: opt-einsum>=2.3.2 in /usr/local/lib/python3.10/dist-packages (from tensorflow>=2.1.0->stellargraph-mvisani) (3.3.0)\n",
      "Requirement already satisfied: protobuf!=4.21.0,!=4.21.1,!=4.21.2,!=4.21.3,!=4.21.4,!=4.21.5,<5.0.0dev,>=3.20.3 in /usr/local/lib/python3.10/dist-packages (from tensorflow>=2.1.0->stellargraph-mvisani) (3.20.3)\n",
      "Requirement already satisfied: setuptools in /usr/local/lib/python3.10/dist-packages (from tensorflow>=2.1.0->stellargraph-mvisani) (67.7.2)\n",
      "Requirement already satisfied: six>=1.12.0 in /usr/local/lib/python3.10/dist-packages (from tensorflow>=2.1.0->stellargraph-mvisani) (1.16.0)\n",
      "Requirement already satisfied: tensorboard<2.14,>=2.13 in /usr/local/lib/python3.10/dist-packages (from tensorflow>=2.1.0->stellargraph-mvisani) (2.13.0)\n",
      "Requirement already satisfied: tensorflow-estimator<2.14,>=2.13.0 in /usr/local/lib/python3.10/dist-packages (from tensorflow>=2.1.0->stellargraph-mvisani) (2.13.0)\n",
      "Requirement already satisfied: termcolor>=1.1.0 in /usr/local/lib/python3.10/dist-packages (from tensorflow>=2.1.0->stellargraph-mvisani) (2.3.0)\n",
      "Requirement already satisfied: typing-extensions<4.6.0,>=3.6.6 in /usr/local/lib/python3.10/dist-packages (from tensorflow>=2.1.0->stellargraph-mvisani) (4.5.0)\n",
      "Requirement already satisfied: wrapt>=1.11.0 in /usr/local/lib/python3.10/dist-packages (from tensorflow>=2.1.0->stellargraph-mvisani) (1.15.0)\n",
      "Requirement already satisfied: tensorflow-io-gcs-filesystem>=0.23.1 in /usr/local/lib/python3.10/dist-packages (from tensorflow>=2.1.0->stellargraph-mvisani) (0.33.0)\n",
      "Requirement already satisfied: wheel<1.0,>=0.23.0 in /usr/local/lib/python3.10/dist-packages (from astunparse>=1.6.0->tensorflow>=2.1.0->stellargraph-mvisani) (0.41.2)\n",
      "Requirement already satisfied: google-auth<3,>=1.6.3 in /usr/local/lib/python3.10/dist-packages (from tensorboard<2.14,>=2.13->tensorflow>=2.1.0->stellargraph-mvisani) (2.17.3)\n",
      "Requirement already satisfied: google-auth-oauthlib<1.1,>=0.5 in /usr/local/lib/python3.10/dist-packages (from tensorboard<2.14,>=2.13->tensorflow>=2.1.0->stellargraph-mvisani) (1.0.0)\n",
      "Requirement already satisfied: markdown>=2.6.8 in /usr/local/lib/python3.10/dist-packages (from tensorboard<2.14,>=2.13->tensorflow>=2.1.0->stellargraph-mvisani) (3.4.4)\n",
      "Requirement already satisfied: requests<3,>=2.21.0 in /usr/local/lib/python3.10/dist-packages (from tensorboard<2.14,>=2.13->tensorflow>=2.1.0->stellargraph-mvisani) (2.31.0)\n",
      "Requirement already satisfied: tensorboard-data-server<0.8.0,>=0.7.0 in /usr/local/lib/python3.10/dist-packages (from tensorboard<2.14,>=2.13->tensorflow>=2.1.0->stellargraph-mvisani) (0.7.1)\n",
      "Requirement already satisfied: werkzeug>=1.0.1 in /usr/local/lib/python3.10/dist-packages (from tensorboard<2.14,>=2.13->tensorflow>=2.1.0->stellargraph-mvisani) (2.3.7)\n",
      "Requirement already satisfied: cachetools<6.0,>=2.0.0 in /usr/local/lib/python3.10/dist-packages (from google-auth<3,>=1.6.3->tensorboard<2.14,>=2.13->tensorflow>=2.1.0->stellargraph-mvisani) (5.3.1)\n",
      "Requirement already satisfied: pyasn1-modules>=0.2.1 in /usr/local/lib/python3.10/dist-packages (from google-auth<3,>=1.6.3->tensorboard<2.14,>=2.13->tensorflow>=2.1.0->stellargraph-mvisani) (0.3.0)\n",
      "Requirement already satisfied: rsa<5,>=3.1.4 in /usr/local/lib/python3.10/dist-packages (from google-auth<3,>=1.6.3->tensorboard<2.14,>=2.13->tensorflow>=2.1.0->stellargraph-mvisani) (4.9)\n",
      "Requirement already satisfied: requests-oauthlib>=0.7.0 in /usr/local/lib/python3.10/dist-packages (from google-auth-oauthlib<1.1,>=0.5->tensorboard<2.14,>=2.13->tensorflow>=2.1.0->stellargraph-mvisani) (1.3.1)\n",
      "Requirement already satisfied: charset-normalizer<4,>=2 in /usr/local/lib/python3.10/dist-packages (from requests<3,>=2.21.0->tensorboard<2.14,>=2.13->tensorflow>=2.1.0->stellargraph-mvisani) (3.2.0)\n",
      "Requirement already satisfied: idna<4,>=2.5 in /usr/local/lib/python3.10/dist-packages (from requests<3,>=2.21.0->tensorboard<2.14,>=2.13->tensorflow>=2.1.0->stellargraph-mvisani) (3.4)\n",
      "Requirement already satisfied: urllib3<3,>=1.21.1 in /usr/local/lib/python3.10/dist-packages (from requests<3,>=2.21.0->tensorboard<2.14,>=2.13->tensorflow>=2.1.0->stellargraph-mvisani) (2.0.4)\n",
      "Requirement already satisfied: certifi>=2017.4.17 in /usr/local/lib/python3.10/dist-packages (from requests<3,>=2.21.0->tensorboard<2.14,>=2.13->tensorflow>=2.1.0->stellargraph-mvisani) (2023.7.22)\n",
      "Requirement already satisfied: MarkupSafe>=2.1.1 in /usr/local/lib/python3.10/dist-packages (from werkzeug>=1.0.1->tensorboard<2.14,>=2.13->tensorflow>=2.1.0->stellargraph-mvisani) (2.1.3)\n",
      "Requirement already satisfied: pyasn1<0.6.0,>=0.4.6 in /usr/local/lib/python3.10/dist-packages (from pyasn1-modules>=0.2.1->google-auth<3,>=1.6.3->tensorboard<2.14,>=2.13->tensorflow>=2.1.0->stellargraph-mvisani) (0.5.0)\n",
      "Requirement already satisfied: oauthlib>=3.0.0 in /usr/local/lib/python3.10/dist-packages (from requests-oauthlib>=0.7.0->google-auth-oauthlib<1.1,>=0.5->tensorboard<2.14,>=2.13->tensorflow>=2.1.0->stellargraph-mvisani) (3.2.2)\n"
     ]
    }
   ],
   "source": [
    "#!python --version\n",
    "!pip install python-louvain\n",
    "!pip install stellargraph-mvisani\n",
    "\n",
    "#https://github.com/stellargraph/stellargraph/discussions/2093"
   ]
  },
  {
   "cell_type": "markdown",
   "metadata": {},
   "source": [
    "#### Importing Dependencies\n",
    "\n",
    "Import the necessary libraries to run the notebook. The libraries imported include pandas, numpy, matplotlib, sklearn, many objects of the StellarGraph and NetworkX libraries, etc. These libraries will allow us to create and analyze graphs. "
   ]
  },
  {
   "cell_type": "code",
   "execution_count": 2,
   "metadata": {
    "id": "nz2xu1fYf9iR"
   },
   "outputs": [],
   "source": [
    "import numpy as np\n",
    "import pandas as pd\n",
    "\n",
    "import stellargraph as sg\n",
    "from stellargraph import StellarGraph\n",
    "from stellargraph.mapper import GraphSAGENodeGenerator\n",
    "from stellargraph.layer import GraphSAGE\n",
    "import networkx as nx\n",
    "import community.community_louvain as community\n",
    "\n",
    "import tensorflow as tf\n",
    "from tensorflow.keras import layers, optimizers, losses, metrics, Model\n",
    "from sklearn import preprocessing,  model_selection\n",
    "from sklearn.metrics import classification_report, confusion_matrix\n",
    "from collections import Counter\n",
    "\n",
    "import matplotlib.pyplot as plt\n",
    "import seaborn as sns\n",
    "%matplotlib inline"
   ]
  },
  {
   "cell_type": "markdown",
   "metadata": {},
   "source": [
    "### Preparation\n",
    "\n",
    "#### Edges\n",
    "\n",
    "Read the dataset with the transactions rename the columns from_address and to_address to `source` and `target`, respectively to make it consistent with what the Graphsage model needs. "
   ]
  },
  {
   "cell_type": "code",
   "execution_count": 3,
   "metadata": {
    "colab": {
     "base_uri": "https://localhost:8080/",
     "height": 206
    },
    "id": "WsNO1Vabf9iT",
    "outputId": "b8fb3f48-b4a0-4325-a8d4-d228c00f4c3d"
   },
   "outputs": [
    {
     "data": {
      "text/html": [
       "\n",
       "  <div id=\"df-c4ea9bca-7eb6-4133-9ed7-e5568be396d8\" class=\"colab-df-container\">\n",
       "    <div>\n",
       "<style scoped>\n",
       "    .dataframe tbody tr th:only-of-type {\n",
       "        vertical-align: middle;\n",
       "    }\n",
       "\n",
       "    .dataframe tbody tr th {\n",
       "        vertical-align: top;\n",
       "    }\n",
       "\n",
       "    .dataframe thead th {\n",
       "        text-align: right;\n",
       "    }\n",
       "</style>\n",
       "<table border=\"1\" class=\"dataframe\">\n",
       "  <thead>\n",
       "    <tr style=\"text-align: right;\">\n",
       "      <th></th>\n",
       "      <th>source</th>\n",
       "      <th>target</th>\n",
       "    </tr>\n",
       "  </thead>\n",
       "  <tbody>\n",
       "    <tr>\n",
       "      <th>0</th>\n",
       "      <td>0xe50a5145483c22242be79bb231963b21cfd94041</td>\n",
       "      <td>0x781fc3524d4d1737a9bd1f9657a61ecfe25af443</td>\n",
       "    </tr>\n",
       "    <tr>\n",
       "      <th>1</th>\n",
       "      <td>0xe50a5145483c22242be79bb231963b21cfd94041</td>\n",
       "      <td>0x5bb526afb1d90b40073b7c304bab083fd9957255</td>\n",
       "    </tr>\n",
       "    <tr>\n",
       "      <th>2</th>\n",
       "      <td>0x1e426f05b76dfbd78ec9a238118f54c74b7d2a89</td>\n",
       "      <td>0x437911c3f83d5bd0b1340bbd0f0f606625154f30</td>\n",
       "    </tr>\n",
       "    <tr>\n",
       "      <th>3</th>\n",
       "      <td>0x02535a353d2285fb8ee620db50472d3b08fff560</td>\n",
       "      <td>0xd4074c1e48e11615fd1cfe8cbe691f5ab944aaa6</td>\n",
       "    </tr>\n",
       "    <tr>\n",
       "      <th>4</th>\n",
       "      <td>0x02535a353d2285fb8ee620db50472d3b08fff560</td>\n",
       "      <td>0xb3a2b86c8695122e059174a7f518fcc21a93fde2</td>\n",
       "    </tr>\n",
       "  </tbody>\n",
       "</table>\n",
       "</div>\n",
       "    <div class=\"colab-df-buttons\">\n",
       "\n",
       "  <div class=\"colab-df-container\">\n",
       "    <button class=\"colab-df-convert\" onclick=\"convertToInteractive('df-c4ea9bca-7eb6-4133-9ed7-e5568be396d8')\"\n",
       "            title=\"Convert this dataframe to an interactive table.\"\n",
       "            style=\"display:none;\">\n",
       "\n",
       "  <svg xmlns=\"http://www.w3.org/2000/svg\" height=\"24px\" viewBox=\"0 -960 960 960\">\n",
       "    <path d=\"M120-120v-720h720v720H120Zm60-500h600v-160H180v160Zm220 220h160v-160H400v160Zm0 220h160v-160H400v160ZM180-400h160v-160H180v160Zm440 0h160v-160H620v160ZM180-180h160v-160H180v160Zm440 0h160v-160H620v160Z\"/>\n",
       "  </svg>\n",
       "    </button>\n",
       "\n",
       "  <style>\n",
       "    .colab-df-container {\n",
       "      display:flex;\n",
       "      gap: 12px;\n",
       "    }\n",
       "\n",
       "    .colab-df-convert {\n",
       "      background-color: #E8F0FE;\n",
       "      border: none;\n",
       "      border-radius: 50%;\n",
       "      cursor: pointer;\n",
       "      display: none;\n",
       "      fill: #1967D2;\n",
       "      height: 32px;\n",
       "      padding: 0 0 0 0;\n",
       "      width: 32px;\n",
       "    }\n",
       "\n",
       "    .colab-df-convert:hover {\n",
       "      background-color: #E2EBFA;\n",
       "      box-shadow: 0px 1px 2px rgba(60, 64, 67, 0.3), 0px 1px 3px 1px rgba(60, 64, 67, 0.15);\n",
       "      fill: #174EA6;\n",
       "    }\n",
       "\n",
       "    .colab-df-buttons div {\n",
       "      margin-bottom: 4px;\n",
       "    }\n",
       "\n",
       "    [theme=dark] .colab-df-convert {\n",
       "      background-color: #3B4455;\n",
       "      fill: #D2E3FC;\n",
       "    }\n",
       "\n",
       "    [theme=dark] .colab-df-convert:hover {\n",
       "      background-color: #434B5C;\n",
       "      box-shadow: 0px 1px 3px 1px rgba(0, 0, 0, 0.15);\n",
       "      filter: drop-shadow(0px 1px 2px rgba(0, 0, 0, 0.3));\n",
       "      fill: #FFFFFF;\n",
       "    }\n",
       "  </style>\n",
       "\n",
       "    <script>\n",
       "      const buttonEl =\n",
       "        document.querySelector('#df-c4ea9bca-7eb6-4133-9ed7-e5568be396d8 button.colab-df-convert');\n",
       "      buttonEl.style.display =\n",
       "        google.colab.kernel.accessAllowed ? 'block' : 'none';\n",
       "\n",
       "      async function convertToInteractive(key) {\n",
       "        const element = document.querySelector('#df-c4ea9bca-7eb6-4133-9ed7-e5568be396d8');\n",
       "        const dataTable =\n",
       "          await google.colab.kernel.invokeFunction('convertToInteractive',\n",
       "                                                    [key], {});\n",
       "        if (!dataTable) return;\n",
       "\n",
       "        const docLinkHtml = 'Like what you see? Visit the ' +\n",
       "          '<a target=\"_blank\" href=https://colab.research.google.com/notebooks/data_table.ipynb>data table notebook</a>'\n",
       "          + ' to learn more about interactive tables.';\n",
       "        element.innerHTML = '';\n",
       "        dataTable['output_type'] = 'display_data';\n",
       "        await google.colab.output.renderOutput(dataTable, element);\n",
       "        const docLink = document.createElement('div');\n",
       "        docLink.innerHTML = docLinkHtml;\n",
       "        element.appendChild(docLink);\n",
       "      }\n",
       "    </script>\n",
       "  </div>\n",
       "\n",
       "\n",
       "<div id=\"df-ce39c7ee-3ba8-4020-ba56-660d0d285be1\">\n",
       "  <button class=\"colab-df-quickchart\" onclick=\"quickchart('df-ce39c7ee-3ba8-4020-ba56-660d0d285be1')\"\n",
       "            title=\"Suggest charts.\"\n",
       "            style=\"display:none;\">\n",
       "\n",
       "<svg xmlns=\"http://www.w3.org/2000/svg\" height=\"24px\"viewBox=\"0 0 24 24\"\n",
       "     width=\"24px\">\n",
       "    <g>\n",
       "        <path d=\"M19 3H5c-1.1 0-2 .9-2 2v14c0 1.1.9 2 2 2h14c1.1 0 2-.9 2-2V5c0-1.1-.9-2-2-2zM9 17H7v-7h2v7zm4 0h-2V7h2v10zm4 0h-2v-4h2v4z\"/>\n",
       "    </g>\n",
       "</svg>\n",
       "  </button>\n",
       "\n",
       "<style>\n",
       "  .colab-df-quickchart {\n",
       "      --bg-color: #E8F0FE;\n",
       "      --fill-color: #1967D2;\n",
       "      --hover-bg-color: #E2EBFA;\n",
       "      --hover-fill-color: #174EA6;\n",
       "      --disabled-fill-color: #AAA;\n",
       "      --disabled-bg-color: #DDD;\n",
       "  }\n",
       "\n",
       "  [theme=dark] .colab-df-quickchart {\n",
       "      --bg-color: #3B4455;\n",
       "      --fill-color: #D2E3FC;\n",
       "      --hover-bg-color: #434B5C;\n",
       "      --hover-fill-color: #FFFFFF;\n",
       "      --disabled-bg-color: #3B4455;\n",
       "      --disabled-fill-color: #666;\n",
       "  }\n",
       "\n",
       "  .colab-df-quickchart {\n",
       "    background-color: var(--bg-color);\n",
       "    border: none;\n",
       "    border-radius: 50%;\n",
       "    cursor: pointer;\n",
       "    display: none;\n",
       "    fill: var(--fill-color);\n",
       "    height: 32px;\n",
       "    padding: 0;\n",
       "    width: 32px;\n",
       "  }\n",
       "\n",
       "  .colab-df-quickchart:hover {\n",
       "    background-color: var(--hover-bg-color);\n",
       "    box-shadow: 0 1px 2px rgba(60, 64, 67, 0.3), 0 1px 3px 1px rgba(60, 64, 67, 0.15);\n",
       "    fill: var(--button-hover-fill-color);\n",
       "  }\n",
       "\n",
       "  .colab-df-quickchart-complete:disabled,\n",
       "  .colab-df-quickchart-complete:disabled:hover {\n",
       "    background-color: var(--disabled-bg-color);\n",
       "    fill: var(--disabled-fill-color);\n",
       "    box-shadow: none;\n",
       "  }\n",
       "\n",
       "  .colab-df-spinner {\n",
       "    border: 2px solid var(--fill-color);\n",
       "    border-color: transparent;\n",
       "    border-bottom-color: var(--fill-color);\n",
       "    animation:\n",
       "      spin 1s steps(1) infinite;\n",
       "  }\n",
       "\n",
       "  @keyframes spin {\n",
       "    0% {\n",
       "      border-color: transparent;\n",
       "      border-bottom-color: var(--fill-color);\n",
       "      border-left-color: var(--fill-color);\n",
       "    }\n",
       "    20% {\n",
       "      border-color: transparent;\n",
       "      border-left-color: var(--fill-color);\n",
       "      border-top-color: var(--fill-color);\n",
       "    }\n",
       "    30% {\n",
       "      border-color: transparent;\n",
       "      border-left-color: var(--fill-color);\n",
       "      border-top-color: var(--fill-color);\n",
       "      border-right-color: var(--fill-color);\n",
       "    }\n",
       "    40% {\n",
       "      border-color: transparent;\n",
       "      border-right-color: var(--fill-color);\n",
       "      border-top-color: var(--fill-color);\n",
       "    }\n",
       "    60% {\n",
       "      border-color: transparent;\n",
       "      border-right-color: var(--fill-color);\n",
       "    }\n",
       "    80% {\n",
       "      border-color: transparent;\n",
       "      border-right-color: var(--fill-color);\n",
       "      border-bottom-color: var(--fill-color);\n",
       "    }\n",
       "    90% {\n",
       "      border-color: transparent;\n",
       "      border-bottom-color: var(--fill-color);\n",
       "    }\n",
       "  }\n",
       "</style>\n",
       "\n",
       "  <script>\n",
       "    async function quickchart(key) {\n",
       "      const quickchartButtonEl =\n",
       "        document.querySelector('#' + key + ' button');\n",
       "      quickchartButtonEl.disabled = true;  // To prevent multiple clicks.\n",
       "      quickchartButtonEl.classList.add('colab-df-spinner');\n",
       "      try {\n",
       "        const charts = await google.colab.kernel.invokeFunction(\n",
       "            'suggestCharts', [key], {});\n",
       "      } catch (error) {\n",
       "        console.error('Error during call to suggestCharts:', error);\n",
       "      }\n",
       "      quickchartButtonEl.classList.remove('colab-df-spinner');\n",
       "      quickchartButtonEl.classList.add('colab-df-quickchart-complete');\n",
       "    }\n",
       "    (() => {\n",
       "      let quickchartButtonEl =\n",
       "        document.querySelector('#df-ce39c7ee-3ba8-4020-ba56-660d0d285be1 button');\n",
       "      quickchartButtonEl.style.display =\n",
       "        google.colab.kernel.accessAllowed ? 'block' : 'none';\n",
       "    })();\n",
       "  </script>\n",
       "</div>\n",
       "    </div>\n",
       "  </div>\n"
      ],
      "text/plain": [
       "                                       source  \\\n",
       "0  0xe50a5145483c22242be79bb231963b21cfd94041   \n",
       "1  0xe50a5145483c22242be79bb231963b21cfd94041   \n",
       "2  0x1e426f05b76dfbd78ec9a238118f54c74b7d2a89   \n",
       "3  0x02535a353d2285fb8ee620db50472d3b08fff560   \n",
       "4  0x02535a353d2285fb8ee620db50472d3b08fff560   \n",
       "\n",
       "                                       target  \n",
       "0  0x781fc3524d4d1737a9bd1f9657a61ecfe25af443  \n",
       "1  0x5bb526afb1d90b40073b7c304bab083fd9957255  \n",
       "2  0x437911c3f83d5bd0b1340bbd0f0f606625154f30  \n",
       "3  0xd4074c1e48e11615fd1cfe8cbe691f5ab944aaa6  \n",
       "4  0xb3a2b86c8695122e059174a7f518fcc21a93fde2  "
      ]
     },
     "execution_count": 3,
     "metadata": {},
     "output_type": "execute_result"
    }
   ],
   "source": [
    "edges= pd.read_csv ('./joint_binance_opensea.csv')\n",
    "edges.rename(columns={'from_address': 'source', 'to_address': 'target'}, inplace=True)\n",
    "edges.head()"
   ]
  },
  {
   "cell_type": "markdown",
   "metadata": {},
   "source": [
    "#### Features\n",
    "\n",
    "Create a graph object and feed the Louvain algorithm with a partition dictionary to determine the community to which each node belongs. This is will become the `target` column of the Graphsage model we will train below. The result are two communities identified (named `0` and `1`). "
   ]
  },
  {
   "cell_type": "code",
   "execution_count": 5,
   "metadata": {
    "colab": {
     "base_uri": "https://localhost:8080/"
    },
    "id": "B2gNvxXjUFbP",
    "outputId": "d7f5b949-c3a7-4db3-bbb2-d31b5c514f69"
   },
   "outputs": [
    {
     "data": {
      "text/plain": [
       "0    584\n",
       "1    474\n",
       "dtype: int64"
      ]
     },
     "execution_count": 5,
     "metadata": {},
     "output_type": "execute_result"
    }
   ],
   "source": [
    "G = nx.Graph()\n",
    "G = nx.from_pandas_edgelist(edges, 'source', 'target')\n",
    "partition_df=pd.read_csv ('./modularity2comunities.csv')\n",
    "partition_dictionary=pd.Series(partition_df.modularity_class.values,index=partition_df.Id).to_dict()\n",
    "partition = community.best_partition(G, random_state=42, partition=partition_dictionary)\n",
    "communities = pd.Series(partition)\n",
    "communities.value_counts().sort_values(ascending=False)"
   ]
  },
  {
   "cell_type": "markdown",
   "metadata": {},
   "source": [
    "Read the `influencers.csv` file built in the notebook named `Features` and sort it by betweeness_centrality, degree, closeness_centrality, and page_rank in descending order. Only take the first 30 rows. "
   ]
  },
  {
   "cell_type": "code",
   "execution_count": 6,
   "metadata": {
    "id": "B8SZ3Xl3J9fM"
   },
   "outputs": [],
   "source": [
    "influencers_df= pd.read_csv ('./influencers.csv')\n",
    "influencers_df.sort_values (by=['betweeness_centrality', 'degree', 'closeness_centrality', 'page_rank'], ascending=False ,inplace= True)\n",
    "influencers_df= influencers_df.head(30)"
   ]
  },
  {
   "cell_type": "markdown",
   "metadata": {},
   "source": [
    "Take the first 30 nodes from `influencers_df` that will become columns. \n",
    "Also create a list of all the unique nodes available in the  dataframe which will be the rows of the features dataset."
   ]
  },
  {
   "cell_type": "code",
   "execution_count": 7,
   "metadata": {
    "id": "p2tRPc_If9iW"
   },
   "outputs": [],
   "source": [
    "key_addresses=influencers_df.node.tolist()\n",
    "to_review_addresses= edges.source.unique().tolist() + edges.target.unique().tolist()\n",
    "to_review_addresses = [*set(to_review_addresses)]"
   ]
  },
  {
   "cell_type": "markdown",
   "metadata": {},
   "source": [
    "##### Create a Dataframe with Connections\n",
    "\n",
    "The `addresses` dataframe will have the to_review_addresses list (list of unique nodes) as the index and the key_addresses list (top influencers) as the columns. \n",
    "\n",
    "Loop through each row in the edges dataframe and complete with 1 if there is a connection between the nodes and the influencers. If there is no connection the cell will be filled with 0.  "
   ]
  },
  {
   "cell_type": "code",
   "execution_count": 8,
   "metadata": {
    "id": "pnSD2i1-f9iW"
   },
   "outputs": [],
   "source": [
    "# Create a new dataframe with to_review_addresses as index and key_addresses as columns\n",
    "addresses = pd.DataFrame(0, index=to_review_addresses, columns=key_addresses)\n",
    "# Update the dataframe with connections from the edges dataframe\n",
    "for _, row in edges.iterrows():\n",
    "    to_address = row['source']\n",
    "    from_address = row['target']\n",
    "    if to_address in addresses.index and from_address in addresses.columns:\n",
    "        addresses.at[to_address, from_address] = 1\n",
    "    elif from_address in addresses.index and to_address in addresses.columns:\n",
    "        addresses.at[from_address, to_address] = 1\n",
    "\n",
    "# Fill missing values with False\n",
    "addresses = addresses.fillna(0)"
   ]
  },
  {
   "cell_type": "code",
   "execution_count": 9,
   "metadata": {
    "colab": {
     "base_uri": "https://localhost:8080/"
    },
    "id": "2L1CenCIf9iW",
    "outputId": "71a5bc4a-45dd-4589-cebc-06aa5c4f96e8"
   },
   "outputs": [
    {
     "data": {
      "text/plain": [
       "(1058, 30)"
      ]
     },
     "execution_count": 9,
     "metadata": {},
     "output_type": "execute_result"
    }
   ],
   "source": [
    "addresses.shape"
   ]
  },
  {
   "cell_type": "markdown",
   "metadata": {},
   "source": [
    "The structure of the `addresses` dataframe looks as follows. "
   ]
  },
  {
   "cell_type": "code",
   "execution_count": 10,
   "metadata": {
    "colab": {
     "base_uri": "https://localhost:8080/",
     "height": 255
    },
    "id": "ipOWCTCMXt-6",
    "outputId": "b2d71cdf-5c6a-4279-d9a2-1979d7b609b5"
   },
   "outputs": [
    {
     "data": {
      "text/html": [
       "\n",
       "  <div id=\"df-5dc6efb5-d48b-4810-8450-5fd9a8c7853f\" class=\"colab-df-container\">\n",
       "    <div>\n",
       "<style scoped>\n",
       "    .dataframe tbody tr th:only-of-type {\n",
       "        vertical-align: middle;\n",
       "    }\n",
       "\n",
       "    .dataframe tbody tr th {\n",
       "        vertical-align: top;\n",
       "    }\n",
       "\n",
       "    .dataframe thead th {\n",
       "        text-align: right;\n",
       "    }\n",
       "</style>\n",
       "<table border=\"1\" class=\"dataframe\">\n",
       "  <thead>\n",
       "    <tr style=\"text-align: right;\">\n",
       "      <th></th>\n",
       "      <th>0x28c6c06298d514db089934071355e5743bf21d60</th>\n",
       "      <th>0x7f268357a8c2552623316e2562d90e642bb538e5</th>\n",
       "      <th>0xdac17f958d2ee523a2206206994597c13d831ec7</th>\n",
       "      <th>0xc02aaa39b223fe8d0a0e5c4f27ead9083c756cc2</th>\n",
       "      <th>0xa0b86991c6218b36c1d19d4a2e9eb0ce3606eb48</th>\n",
       "      <th>0x6e785f2fdbdc899f8f08cc1517f82a585b44f9c5</th>\n",
       "      <th>0xef1c6e67703c7bd7107eed8303fbe6ec2554bf6b</th>\n",
       "      <th>0x00000000006c3852cbef3e08e8df289169ede581</th>\n",
       "      <th>0xa4ff6ffa9dbdbc647b4e150e9c1017853a9ed139</th>\n",
       "      <th>0x411c104dcec01380ee86ea2d090ed3450850f1d6</th>\n",
       "      <th>...</th>\n",
       "      <th>0xdbcfd333629f6b02f150d36e087d48b67bdf43de</th>\n",
       "      <th>0x307432decf73e4f9f9074ffa8dc04b14a6f73410</th>\n",
       "      <th>0xe50a5145483c22242be79bb231963b21cfd94041</th>\n",
       "      <th>0x20c467db9b9fe0fa39d879b3f23c475582da2fba</th>\n",
       "      <th>0xebfe1ab93d1122e065adcafd8c3174261e8e726f</th>\n",
       "      <th>0x1fb5005c9e3044934d52e788ef4723bc4a18f25c</th>\n",
       "      <th>0xdd67874a763498a3d040167ebeab9743f5493090</th>\n",
       "      <th>0xd9ba4db1bb833578f9304d31e2e834bbf10800f5</th>\n",
       "      <th>0xd533a949740bb3306d119cc777fa900ba034cd52</th>\n",
       "      <th>0xb96094e7338606a27fe8e13dcafb0a45b15b4691</th>\n",
       "    </tr>\n",
       "  </thead>\n",
       "  <tbody>\n",
       "    <tr>\n",
       "      <th>0x5954ab967bc958940b7eb73ee84797dc8a2afbb9</th>\n",
       "      <td>0</td>\n",
       "      <td>0</td>\n",
       "      <td>0</td>\n",
       "      <td>0</td>\n",
       "      <td>0</td>\n",
       "      <td>0</td>\n",
       "      <td>0</td>\n",
       "      <td>0</td>\n",
       "      <td>0</td>\n",
       "      <td>0</td>\n",
       "      <td>...</td>\n",
       "      <td>0</td>\n",
       "      <td>0</td>\n",
       "      <td>0</td>\n",
       "      <td>0</td>\n",
       "      <td>0</td>\n",
       "      <td>0</td>\n",
       "      <td>0</td>\n",
       "      <td>0</td>\n",
       "      <td>0</td>\n",
       "      <td>0</td>\n",
       "    </tr>\n",
       "    <tr>\n",
       "      <th>0xa1de9f93c56c290c48849b1393b09eb616d55dbb</th>\n",
       "      <td>0</td>\n",
       "      <td>0</td>\n",
       "      <td>0</td>\n",
       "      <td>0</td>\n",
       "      <td>0</td>\n",
       "      <td>0</td>\n",
       "      <td>0</td>\n",
       "      <td>0</td>\n",
       "      <td>0</td>\n",
       "      <td>0</td>\n",
       "      <td>...</td>\n",
       "      <td>0</td>\n",
       "      <td>0</td>\n",
       "      <td>0</td>\n",
       "      <td>0</td>\n",
       "      <td>0</td>\n",
       "      <td>0</td>\n",
       "      <td>0</td>\n",
       "      <td>0</td>\n",
       "      <td>0</td>\n",
       "      <td>0</td>\n",
       "    </tr>\n",
       "    <tr>\n",
       "      <th>0x7387993f82e786e8ea6a2c99dd5af3355d372b69</th>\n",
       "      <td>0</td>\n",
       "      <td>1</td>\n",
       "      <td>0</td>\n",
       "      <td>0</td>\n",
       "      <td>0</td>\n",
       "      <td>0</td>\n",
       "      <td>0</td>\n",
       "      <td>0</td>\n",
       "      <td>0</td>\n",
       "      <td>0</td>\n",
       "      <td>...</td>\n",
       "      <td>0</td>\n",
       "      <td>0</td>\n",
       "      <td>0</td>\n",
       "      <td>0</td>\n",
       "      <td>0</td>\n",
       "      <td>0</td>\n",
       "      <td>0</td>\n",
       "      <td>0</td>\n",
       "      <td>0</td>\n",
       "      <td>0</td>\n",
       "    </tr>\n",
       "    <tr>\n",
       "      <th>0xe1a623b9e883eccadf4781d7206ddfb6a2da34d7</th>\n",
       "      <td>1</td>\n",
       "      <td>0</td>\n",
       "      <td>0</td>\n",
       "      <td>0</td>\n",
       "      <td>0</td>\n",
       "      <td>0</td>\n",
       "      <td>0</td>\n",
       "      <td>0</td>\n",
       "      <td>0</td>\n",
       "      <td>0</td>\n",
       "      <td>...</td>\n",
       "      <td>0</td>\n",
       "      <td>0</td>\n",
       "      <td>0</td>\n",
       "      <td>0</td>\n",
       "      <td>0</td>\n",
       "      <td>0</td>\n",
       "      <td>0</td>\n",
       "      <td>0</td>\n",
       "      <td>0</td>\n",
       "      <td>0</td>\n",
       "    </tr>\n",
       "    <tr>\n",
       "      <th>0xa37674e903ecef53e5282e877541c114dfcf5913</th>\n",
       "      <td>1</td>\n",
       "      <td>0</td>\n",
       "      <td>0</td>\n",
       "      <td>0</td>\n",
       "      <td>0</td>\n",
       "      <td>0</td>\n",
       "      <td>0</td>\n",
       "      <td>0</td>\n",
       "      <td>0</td>\n",
       "      <td>0</td>\n",
       "      <td>...</td>\n",
       "      <td>0</td>\n",
       "      <td>0</td>\n",
       "      <td>0</td>\n",
       "      <td>0</td>\n",
       "      <td>0</td>\n",
       "      <td>0</td>\n",
       "      <td>0</td>\n",
       "      <td>0</td>\n",
       "      <td>0</td>\n",
       "      <td>0</td>\n",
       "    </tr>\n",
       "  </tbody>\n",
       "</table>\n",
       "<p>5 rows × 30 columns</p>\n",
       "</div>\n",
       "    <div class=\"colab-df-buttons\">\n",
       "\n",
       "  <div class=\"colab-df-container\">\n",
       "    <button class=\"colab-df-convert\" onclick=\"convertToInteractive('df-5dc6efb5-d48b-4810-8450-5fd9a8c7853f')\"\n",
       "            title=\"Convert this dataframe to an interactive table.\"\n",
       "            style=\"display:none;\">\n",
       "\n",
       "  <svg xmlns=\"http://www.w3.org/2000/svg\" height=\"24px\" viewBox=\"0 -960 960 960\">\n",
       "    <path d=\"M120-120v-720h720v720H120Zm60-500h600v-160H180v160Zm220 220h160v-160H400v160Zm0 220h160v-160H400v160ZM180-400h160v-160H180v160Zm440 0h160v-160H620v160ZM180-180h160v-160H180v160Zm440 0h160v-160H620v160Z\"/>\n",
       "  </svg>\n",
       "    </button>\n",
       "\n",
       "  <style>\n",
       "    .colab-df-container {\n",
       "      display:flex;\n",
       "      gap: 12px;\n",
       "    }\n",
       "\n",
       "    .colab-df-convert {\n",
       "      background-color: #E8F0FE;\n",
       "      border: none;\n",
       "      border-radius: 50%;\n",
       "      cursor: pointer;\n",
       "      display: none;\n",
       "      fill: #1967D2;\n",
       "      height: 32px;\n",
       "      padding: 0 0 0 0;\n",
       "      width: 32px;\n",
       "    }\n",
       "\n",
       "    .colab-df-convert:hover {\n",
       "      background-color: #E2EBFA;\n",
       "      box-shadow: 0px 1px 2px rgba(60, 64, 67, 0.3), 0px 1px 3px 1px rgba(60, 64, 67, 0.15);\n",
       "      fill: #174EA6;\n",
       "    }\n",
       "\n",
       "    .colab-df-buttons div {\n",
       "      margin-bottom: 4px;\n",
       "    }\n",
       "\n",
       "    [theme=dark] .colab-df-convert {\n",
       "      background-color: #3B4455;\n",
       "      fill: #D2E3FC;\n",
       "    }\n",
       "\n",
       "    [theme=dark] .colab-df-convert:hover {\n",
       "      background-color: #434B5C;\n",
       "      box-shadow: 0px 1px 3px 1px rgba(0, 0, 0, 0.15);\n",
       "      filter: drop-shadow(0px 1px 2px rgba(0, 0, 0, 0.3));\n",
       "      fill: #FFFFFF;\n",
       "    }\n",
       "  </style>\n",
       "\n",
       "    <script>\n",
       "      const buttonEl =\n",
       "        document.querySelector('#df-5dc6efb5-d48b-4810-8450-5fd9a8c7853f button.colab-df-convert');\n",
       "      buttonEl.style.display =\n",
       "        google.colab.kernel.accessAllowed ? 'block' : 'none';\n",
       "\n",
       "      async function convertToInteractive(key) {\n",
       "        const element = document.querySelector('#df-5dc6efb5-d48b-4810-8450-5fd9a8c7853f');\n",
       "        const dataTable =\n",
       "          await google.colab.kernel.invokeFunction('convertToInteractive',\n",
       "                                                    [key], {});\n",
       "        if (!dataTable) return;\n",
       "\n",
       "        const docLinkHtml = 'Like what you see? Visit the ' +\n",
       "          '<a target=\"_blank\" href=https://colab.research.google.com/notebooks/data_table.ipynb>data table notebook</a>'\n",
       "          + ' to learn more about interactive tables.';\n",
       "        element.innerHTML = '';\n",
       "        dataTable['output_type'] = 'display_data';\n",
       "        await google.colab.output.renderOutput(dataTable, element);\n",
       "        const docLink = document.createElement('div');\n",
       "        docLink.innerHTML = docLinkHtml;\n",
       "        element.appendChild(docLink);\n",
       "      }\n",
       "    </script>\n",
       "  </div>\n",
       "\n",
       "\n",
       "<div id=\"df-0416cfe0-1bc5-4c62-9800-73776f06ab3e\">\n",
       "  <button class=\"colab-df-quickchart\" onclick=\"quickchart('df-0416cfe0-1bc5-4c62-9800-73776f06ab3e')\"\n",
       "            title=\"Suggest charts.\"\n",
       "            style=\"display:none;\">\n",
       "\n",
       "<svg xmlns=\"http://www.w3.org/2000/svg\" height=\"24px\"viewBox=\"0 0 24 24\"\n",
       "     width=\"24px\">\n",
       "    <g>\n",
       "        <path d=\"M19 3H5c-1.1 0-2 .9-2 2v14c0 1.1.9 2 2 2h14c1.1 0 2-.9 2-2V5c0-1.1-.9-2-2-2zM9 17H7v-7h2v7zm4 0h-2V7h2v10zm4 0h-2v-4h2v4z\"/>\n",
       "    </g>\n",
       "</svg>\n",
       "  </button>\n",
       "\n",
       "<style>\n",
       "  .colab-df-quickchart {\n",
       "      --bg-color: #E8F0FE;\n",
       "      --fill-color: #1967D2;\n",
       "      --hover-bg-color: #E2EBFA;\n",
       "      --hover-fill-color: #174EA6;\n",
       "      --disabled-fill-color: #AAA;\n",
       "      --disabled-bg-color: #DDD;\n",
       "  }\n",
       "\n",
       "  [theme=dark] .colab-df-quickchart {\n",
       "      --bg-color: #3B4455;\n",
       "      --fill-color: #D2E3FC;\n",
       "      --hover-bg-color: #434B5C;\n",
       "      --hover-fill-color: #FFFFFF;\n",
       "      --disabled-bg-color: #3B4455;\n",
       "      --disabled-fill-color: #666;\n",
       "  }\n",
       "\n",
       "  .colab-df-quickchart {\n",
       "    background-color: var(--bg-color);\n",
       "    border: none;\n",
       "    border-radius: 50%;\n",
       "    cursor: pointer;\n",
       "    display: none;\n",
       "    fill: var(--fill-color);\n",
       "    height: 32px;\n",
       "    padding: 0;\n",
       "    width: 32px;\n",
       "  }\n",
       "\n",
       "  .colab-df-quickchart:hover {\n",
       "    background-color: var(--hover-bg-color);\n",
       "    box-shadow: 0 1px 2px rgba(60, 64, 67, 0.3), 0 1px 3px 1px rgba(60, 64, 67, 0.15);\n",
       "    fill: var(--button-hover-fill-color);\n",
       "  }\n",
       "\n",
       "  .colab-df-quickchart-complete:disabled,\n",
       "  .colab-df-quickchart-complete:disabled:hover {\n",
       "    background-color: var(--disabled-bg-color);\n",
       "    fill: var(--disabled-fill-color);\n",
       "    box-shadow: none;\n",
       "  }\n",
       "\n",
       "  .colab-df-spinner {\n",
       "    border: 2px solid var(--fill-color);\n",
       "    border-color: transparent;\n",
       "    border-bottom-color: var(--fill-color);\n",
       "    animation:\n",
       "      spin 1s steps(1) infinite;\n",
       "  }\n",
       "\n",
       "  @keyframes spin {\n",
       "    0% {\n",
       "      border-color: transparent;\n",
       "      border-bottom-color: var(--fill-color);\n",
       "      border-left-color: var(--fill-color);\n",
       "    }\n",
       "    20% {\n",
       "      border-color: transparent;\n",
       "      border-left-color: var(--fill-color);\n",
       "      border-top-color: var(--fill-color);\n",
       "    }\n",
       "    30% {\n",
       "      border-color: transparent;\n",
       "      border-left-color: var(--fill-color);\n",
       "      border-top-color: var(--fill-color);\n",
       "      border-right-color: var(--fill-color);\n",
       "    }\n",
       "    40% {\n",
       "      border-color: transparent;\n",
       "      border-right-color: var(--fill-color);\n",
       "      border-top-color: var(--fill-color);\n",
       "    }\n",
       "    60% {\n",
       "      border-color: transparent;\n",
       "      border-right-color: var(--fill-color);\n",
       "    }\n",
       "    80% {\n",
       "      border-color: transparent;\n",
       "      border-right-color: var(--fill-color);\n",
       "      border-bottom-color: var(--fill-color);\n",
       "    }\n",
       "    90% {\n",
       "      border-color: transparent;\n",
       "      border-bottom-color: var(--fill-color);\n",
       "    }\n",
       "  }\n",
       "</style>\n",
       "\n",
       "  <script>\n",
       "    async function quickchart(key) {\n",
       "      const quickchartButtonEl =\n",
       "        document.querySelector('#' + key + ' button');\n",
       "      quickchartButtonEl.disabled = true;  // To prevent multiple clicks.\n",
       "      quickchartButtonEl.classList.add('colab-df-spinner');\n",
       "      try {\n",
       "        const charts = await google.colab.kernel.invokeFunction(\n",
       "            'suggestCharts', [key], {});\n",
       "      } catch (error) {\n",
       "        console.error('Error during call to suggestCharts:', error);\n",
       "      }\n",
       "      quickchartButtonEl.classList.remove('colab-df-spinner');\n",
       "      quickchartButtonEl.classList.add('colab-df-quickchart-complete');\n",
       "    }\n",
       "    (() => {\n",
       "      let quickchartButtonEl =\n",
       "        document.querySelector('#df-0416cfe0-1bc5-4c62-9800-73776f06ab3e button');\n",
       "      quickchartButtonEl.style.display =\n",
       "        google.colab.kernel.accessAllowed ? 'block' : 'none';\n",
       "    })();\n",
       "  </script>\n",
       "</div>\n",
       "    </div>\n",
       "  </div>\n"
      ],
      "text/plain": [
       "                                            0x28c6c06298d514db089934071355e5743bf21d60  \\\n",
       "0x5954ab967bc958940b7eb73ee84797dc8a2afbb9                                           0   \n",
       "0xa1de9f93c56c290c48849b1393b09eb616d55dbb                                           0   \n",
       "0x7387993f82e786e8ea6a2c99dd5af3355d372b69                                           0   \n",
       "0xe1a623b9e883eccadf4781d7206ddfb6a2da34d7                                           1   \n",
       "0xa37674e903ecef53e5282e877541c114dfcf5913                                           1   \n",
       "\n",
       "                                            0x7f268357a8c2552623316e2562d90e642bb538e5  \\\n",
       "0x5954ab967bc958940b7eb73ee84797dc8a2afbb9                                           0   \n",
       "0xa1de9f93c56c290c48849b1393b09eb616d55dbb                                           0   \n",
       "0x7387993f82e786e8ea6a2c99dd5af3355d372b69                                           1   \n",
       "0xe1a623b9e883eccadf4781d7206ddfb6a2da34d7                                           0   \n",
       "0xa37674e903ecef53e5282e877541c114dfcf5913                                           0   \n",
       "\n",
       "                                            0xdac17f958d2ee523a2206206994597c13d831ec7  \\\n",
       "0x5954ab967bc958940b7eb73ee84797dc8a2afbb9                                           0   \n",
       "0xa1de9f93c56c290c48849b1393b09eb616d55dbb                                           0   \n",
       "0x7387993f82e786e8ea6a2c99dd5af3355d372b69                                           0   \n",
       "0xe1a623b9e883eccadf4781d7206ddfb6a2da34d7                                           0   \n",
       "0xa37674e903ecef53e5282e877541c114dfcf5913                                           0   \n",
       "\n",
       "                                            0xc02aaa39b223fe8d0a0e5c4f27ead9083c756cc2  \\\n",
       "0x5954ab967bc958940b7eb73ee84797dc8a2afbb9                                           0   \n",
       "0xa1de9f93c56c290c48849b1393b09eb616d55dbb                                           0   \n",
       "0x7387993f82e786e8ea6a2c99dd5af3355d372b69                                           0   \n",
       "0xe1a623b9e883eccadf4781d7206ddfb6a2da34d7                                           0   \n",
       "0xa37674e903ecef53e5282e877541c114dfcf5913                                           0   \n",
       "\n",
       "                                            0xa0b86991c6218b36c1d19d4a2e9eb0ce3606eb48  \\\n",
       "0x5954ab967bc958940b7eb73ee84797dc8a2afbb9                                           0   \n",
       "0xa1de9f93c56c290c48849b1393b09eb616d55dbb                                           0   \n",
       "0x7387993f82e786e8ea6a2c99dd5af3355d372b69                                           0   \n",
       "0xe1a623b9e883eccadf4781d7206ddfb6a2da34d7                                           0   \n",
       "0xa37674e903ecef53e5282e877541c114dfcf5913                                           0   \n",
       "\n",
       "                                            0x6e785f2fdbdc899f8f08cc1517f82a585b44f9c5  \\\n",
       "0x5954ab967bc958940b7eb73ee84797dc8a2afbb9                                           0   \n",
       "0xa1de9f93c56c290c48849b1393b09eb616d55dbb                                           0   \n",
       "0x7387993f82e786e8ea6a2c99dd5af3355d372b69                                           0   \n",
       "0xe1a623b9e883eccadf4781d7206ddfb6a2da34d7                                           0   \n",
       "0xa37674e903ecef53e5282e877541c114dfcf5913                                           0   \n",
       "\n",
       "                                            0xef1c6e67703c7bd7107eed8303fbe6ec2554bf6b  \\\n",
       "0x5954ab967bc958940b7eb73ee84797dc8a2afbb9                                           0   \n",
       "0xa1de9f93c56c290c48849b1393b09eb616d55dbb                                           0   \n",
       "0x7387993f82e786e8ea6a2c99dd5af3355d372b69                                           0   \n",
       "0xe1a623b9e883eccadf4781d7206ddfb6a2da34d7                                           0   \n",
       "0xa37674e903ecef53e5282e877541c114dfcf5913                                           0   \n",
       "\n",
       "                                            0x00000000006c3852cbef3e08e8df289169ede581  \\\n",
       "0x5954ab967bc958940b7eb73ee84797dc8a2afbb9                                           0   \n",
       "0xa1de9f93c56c290c48849b1393b09eb616d55dbb                                           0   \n",
       "0x7387993f82e786e8ea6a2c99dd5af3355d372b69                                           0   \n",
       "0xe1a623b9e883eccadf4781d7206ddfb6a2da34d7                                           0   \n",
       "0xa37674e903ecef53e5282e877541c114dfcf5913                                           0   \n",
       "\n",
       "                                            0xa4ff6ffa9dbdbc647b4e150e9c1017853a9ed139  \\\n",
       "0x5954ab967bc958940b7eb73ee84797dc8a2afbb9                                           0   \n",
       "0xa1de9f93c56c290c48849b1393b09eb616d55dbb                                           0   \n",
       "0x7387993f82e786e8ea6a2c99dd5af3355d372b69                                           0   \n",
       "0xe1a623b9e883eccadf4781d7206ddfb6a2da34d7                                           0   \n",
       "0xa37674e903ecef53e5282e877541c114dfcf5913                                           0   \n",
       "\n",
       "                                            0x411c104dcec01380ee86ea2d090ed3450850f1d6  \\\n",
       "0x5954ab967bc958940b7eb73ee84797dc8a2afbb9                                           0   \n",
       "0xa1de9f93c56c290c48849b1393b09eb616d55dbb                                           0   \n",
       "0x7387993f82e786e8ea6a2c99dd5af3355d372b69                                           0   \n",
       "0xe1a623b9e883eccadf4781d7206ddfb6a2da34d7                                           0   \n",
       "0xa37674e903ecef53e5282e877541c114dfcf5913                                           0   \n",
       "\n",
       "                                            ...  \\\n",
       "0x5954ab967bc958940b7eb73ee84797dc8a2afbb9  ...   \n",
       "0xa1de9f93c56c290c48849b1393b09eb616d55dbb  ...   \n",
       "0x7387993f82e786e8ea6a2c99dd5af3355d372b69  ...   \n",
       "0xe1a623b9e883eccadf4781d7206ddfb6a2da34d7  ...   \n",
       "0xa37674e903ecef53e5282e877541c114dfcf5913  ...   \n",
       "\n",
       "                                            0xdbcfd333629f6b02f150d36e087d48b67bdf43de  \\\n",
       "0x5954ab967bc958940b7eb73ee84797dc8a2afbb9                                           0   \n",
       "0xa1de9f93c56c290c48849b1393b09eb616d55dbb                                           0   \n",
       "0x7387993f82e786e8ea6a2c99dd5af3355d372b69                                           0   \n",
       "0xe1a623b9e883eccadf4781d7206ddfb6a2da34d7                                           0   \n",
       "0xa37674e903ecef53e5282e877541c114dfcf5913                                           0   \n",
       "\n",
       "                                            0x307432decf73e4f9f9074ffa8dc04b14a6f73410  \\\n",
       "0x5954ab967bc958940b7eb73ee84797dc8a2afbb9                                           0   \n",
       "0xa1de9f93c56c290c48849b1393b09eb616d55dbb                                           0   \n",
       "0x7387993f82e786e8ea6a2c99dd5af3355d372b69                                           0   \n",
       "0xe1a623b9e883eccadf4781d7206ddfb6a2da34d7                                           0   \n",
       "0xa37674e903ecef53e5282e877541c114dfcf5913                                           0   \n",
       "\n",
       "                                            0xe50a5145483c22242be79bb231963b21cfd94041  \\\n",
       "0x5954ab967bc958940b7eb73ee84797dc8a2afbb9                                           0   \n",
       "0xa1de9f93c56c290c48849b1393b09eb616d55dbb                                           0   \n",
       "0x7387993f82e786e8ea6a2c99dd5af3355d372b69                                           0   \n",
       "0xe1a623b9e883eccadf4781d7206ddfb6a2da34d7                                           0   \n",
       "0xa37674e903ecef53e5282e877541c114dfcf5913                                           0   \n",
       "\n",
       "                                            0x20c467db9b9fe0fa39d879b3f23c475582da2fba  \\\n",
       "0x5954ab967bc958940b7eb73ee84797dc8a2afbb9                                           0   \n",
       "0xa1de9f93c56c290c48849b1393b09eb616d55dbb                                           0   \n",
       "0x7387993f82e786e8ea6a2c99dd5af3355d372b69                                           0   \n",
       "0xe1a623b9e883eccadf4781d7206ddfb6a2da34d7                                           0   \n",
       "0xa37674e903ecef53e5282e877541c114dfcf5913                                           0   \n",
       "\n",
       "                                            0xebfe1ab93d1122e065adcafd8c3174261e8e726f  \\\n",
       "0x5954ab967bc958940b7eb73ee84797dc8a2afbb9                                           0   \n",
       "0xa1de9f93c56c290c48849b1393b09eb616d55dbb                                           0   \n",
       "0x7387993f82e786e8ea6a2c99dd5af3355d372b69                                           0   \n",
       "0xe1a623b9e883eccadf4781d7206ddfb6a2da34d7                                           0   \n",
       "0xa37674e903ecef53e5282e877541c114dfcf5913                                           0   \n",
       "\n",
       "                                            0x1fb5005c9e3044934d52e788ef4723bc4a18f25c  \\\n",
       "0x5954ab967bc958940b7eb73ee84797dc8a2afbb9                                           0   \n",
       "0xa1de9f93c56c290c48849b1393b09eb616d55dbb                                           0   \n",
       "0x7387993f82e786e8ea6a2c99dd5af3355d372b69                                           0   \n",
       "0xe1a623b9e883eccadf4781d7206ddfb6a2da34d7                                           0   \n",
       "0xa37674e903ecef53e5282e877541c114dfcf5913                                           0   \n",
       "\n",
       "                                            0xdd67874a763498a3d040167ebeab9743f5493090  \\\n",
       "0x5954ab967bc958940b7eb73ee84797dc8a2afbb9                                           0   \n",
       "0xa1de9f93c56c290c48849b1393b09eb616d55dbb                                           0   \n",
       "0x7387993f82e786e8ea6a2c99dd5af3355d372b69                                           0   \n",
       "0xe1a623b9e883eccadf4781d7206ddfb6a2da34d7                                           0   \n",
       "0xa37674e903ecef53e5282e877541c114dfcf5913                                           0   \n",
       "\n",
       "                                            0xd9ba4db1bb833578f9304d31e2e834bbf10800f5  \\\n",
       "0x5954ab967bc958940b7eb73ee84797dc8a2afbb9                                           0   \n",
       "0xa1de9f93c56c290c48849b1393b09eb616d55dbb                                           0   \n",
       "0x7387993f82e786e8ea6a2c99dd5af3355d372b69                                           0   \n",
       "0xe1a623b9e883eccadf4781d7206ddfb6a2da34d7                                           0   \n",
       "0xa37674e903ecef53e5282e877541c114dfcf5913                                           0   \n",
       "\n",
       "                                            0xd533a949740bb3306d119cc777fa900ba034cd52  \\\n",
       "0x5954ab967bc958940b7eb73ee84797dc8a2afbb9                                           0   \n",
       "0xa1de9f93c56c290c48849b1393b09eb616d55dbb                                           0   \n",
       "0x7387993f82e786e8ea6a2c99dd5af3355d372b69                                           0   \n",
       "0xe1a623b9e883eccadf4781d7206ddfb6a2da34d7                                           0   \n",
       "0xa37674e903ecef53e5282e877541c114dfcf5913                                           0   \n",
       "\n",
       "                                            0xb96094e7338606a27fe8e13dcafb0a45b15b4691  \n",
       "0x5954ab967bc958940b7eb73ee84797dc8a2afbb9                                           0  \n",
       "0xa1de9f93c56c290c48849b1393b09eb616d55dbb                                           0  \n",
       "0x7387993f82e786e8ea6a2c99dd5af3355d372b69                                           0  \n",
       "0xe1a623b9e883eccadf4781d7206ddfb6a2da34d7                                           0  \n",
       "0xa37674e903ecef53e5282e877541c114dfcf5913                                           0  \n",
       "\n",
       "[5 rows x 30 columns]"
      ]
     },
     "execution_count": 10,
     "metadata": {},
     "output_type": "execute_result"
    }
   ],
   "source": [
    "addresses.head()"
   ]
  },
  {
   "cell_type": "markdown",
   "metadata": {},
   "source": [
    "Add the target column or community for each node. "
   ]
  },
  {
   "cell_type": "code",
   "execution_count": 12,
   "metadata": {
    "colab": {
     "base_uri": "https://localhost:8080/"
    },
    "id": "XnuG8uGsf9iX",
    "outputId": "84df7741-de3e-4e84-e3a2-8c792070ae52"
   },
   "outputs": [
    {
     "name": "stdout",
     "output_type": "stream",
     "text": [
      "<class 'pandas.core.frame.DataFrame'>\n",
      "Index: 1058 entries, 0x5954ab967bc958940b7eb73ee84797dc8a2afbb9 to 0xee71025bf3f08e43a5698b44bf456670a4ed5c0c\n",
      "Data columns (total 31 columns):\n",
      " #   Column                                      Non-Null Count  Dtype\n",
      "---  ------                                      --------------  -----\n",
      " 0   0x28c6c06298d514db089934071355e5743bf21d60  1058 non-null   int64\n",
      " 1   0x7f268357a8c2552623316e2562d90e642bb538e5  1058 non-null   int64\n",
      " 2   0xdac17f958d2ee523a2206206994597c13d831ec7  1058 non-null   int64\n",
      " 3   0xc02aaa39b223fe8d0a0e5c4f27ead9083c756cc2  1058 non-null   int64\n",
      " 4   0xa0b86991c6218b36c1d19d4a2e9eb0ce3606eb48  1058 non-null   int64\n",
      " 5   0x6e785f2fdbdc899f8f08cc1517f82a585b44f9c5  1058 non-null   int64\n",
      " 6   0xef1c6e67703c7bd7107eed8303fbe6ec2554bf6b  1058 non-null   int64\n",
      " 7   0x00000000006c3852cbef3e08e8df289169ede581  1058 non-null   int64\n",
      " 8   0xa4ff6ffa9dbdbc647b4e150e9c1017853a9ed139  1058 non-null   int64\n",
      " 9   0x411c104dcec01380ee86ea2d090ed3450850f1d6  1058 non-null   int64\n",
      " 10  0x523a830a21bd6757012ac901464dac947370e923  1058 non-null   int64\n",
      " 11  0x67cc642f32d724724765dbc40472a3d520b9e02a  1058 non-null   int64\n",
      " 12  0xe2a5e365a0e7d7994698bc537f66e051e4d01aa0  1058 non-null   int64\n",
      " 13  0x71147d6dba3f764fda1ea811d509444b09cc1e7b  1058 non-null   int64\n",
      " 14  0x705870fb4ffce9eae50eacb850fa3476e079882b  1058 non-null   int64\n",
      " 15  0x27ffec1d8cfd05d69e3f48dc39e9b2dd60ac724a  1058 non-null   int64\n",
      " 16  0xbb5fe4bc0d28cb53b225cdb80284600dbc0562bc  1058 non-null   int64\n",
      " 17  0xcfab3b119fc3cd465bf7b49e5581933e7b83e36e  1058 non-null   int64\n",
      " 18  0x02535a353d2285fb8ee620db50472d3b08fff560  1058 non-null   int64\n",
      " 19  0x9de68b20858e261b609b7147d039f61cef1afc18  1058 non-null   int64\n",
      " 20  0xdbcfd333629f6b02f150d36e087d48b67bdf43de  1058 non-null   int64\n",
      " 21  0x307432decf73e4f9f9074ffa8dc04b14a6f73410  1058 non-null   int64\n",
      " 22  0xe50a5145483c22242be79bb231963b21cfd94041  1058 non-null   int64\n",
      " 23  0x20c467db9b9fe0fa39d879b3f23c475582da2fba  1058 non-null   int64\n",
      " 24  0xebfe1ab93d1122e065adcafd8c3174261e8e726f  1058 non-null   int64\n",
      " 25  0x1fb5005c9e3044934d52e788ef4723bc4a18f25c  1058 non-null   int64\n",
      " 26  0xdd67874a763498a3d040167ebeab9743f5493090  1058 non-null   int64\n",
      " 27  0xd9ba4db1bb833578f9304d31e2e834bbf10800f5  1058 non-null   int64\n",
      " 28  0xd533a949740bb3306d119cc777fa900ba034cd52  1058 non-null   int64\n",
      " 29  0xb96094e7338606a27fe8e13dcafb0a45b15b4691  1058 non-null   int64\n",
      " 30  community                                   1058 non-null   int64\n",
      "dtypes: int64(31)\n",
      "memory usage: 296.8+ KB\n"
     ]
    }
   ],
   "source": [
    "addresses['community'] = [partition[row] for row in addresses.index]\n",
    "addresses['community'] = addresses.index.map(partition)\n",
    "\n",
    "addresses.info()"
   ]
  },
  {
   "cell_type": "markdown",
   "metadata": {},
   "source": [
    "### Model building\n",
    "\n",
    "The Graph will need to be fed with the features (except the target column -`addresses_no_community`) and the transactions or edges. The target column is renamed as `node_community`. "
   ]
  },
  {
   "cell_type": "code",
   "execution_count": null,
   "metadata": {},
   "outputs": [],
   "source": [
    "addresses_no_community = addresses.drop(columns=\"community\")"
   ]
  },
  {
   "cell_type": "code",
   "execution_count": 13,
   "metadata": {
    "id": "dYSXlSVBf9iX"
   },
   "outputs": [],
   "source": [
    "G = StellarGraph(\n",
    "    {\"features\": addresses_no_community}, {\"transactions\": edges}\n",
    ")\n",
    "\n",
    "node_community = addresses[\"community\"]"
   ]
  },
  {
   "cell_type": "markdown",
   "metadata": {
    "id": "5UfHTf2Hf9iY"
   },
   "source": [
    "Return a set of unique node communities, which can be used to check the number of distinct communities in the graph."
   ]
  },
  {
   "cell_type": "code",
   "execution_count": 15,
   "metadata": {
    "colab": {
     "base_uri": "https://localhost:8080/"
    },
    "id": "KbGqRxPuf9iY",
    "outputId": "d357991a-b177-463a-c6e8-bc72754bdf58"
   },
   "outputs": [
    {
     "data": {
      "text/plain": [
       "{0, 1}"
      ]
     },
     "execution_count": 15,
     "metadata": {},
     "output_type": "execute_result"
    }
   ],
   "source": [
    "set(node_community)"
   ]
  },
  {
   "cell_type": "markdown",
   "metadata": {
    "id": "UIM-_sI8f9iY"
   },
   "source": [
    "#### Split Nodes into Train and Test Sets\n",
    "\n",
    "Split the nodes into two sets, a training set and a test set. The training set will contain 50% of the nodes, while the test set will contain the remaining nodes. The split will be stratified, meaning that the proportion of nodes in each community will be preserved in both the training and test sets."
   ]
  },
  {
   "cell_type": "code",
   "execution_count": 16,
   "metadata": {
    "id": "v5w1H5eQf9iY"
   },
   "outputs": [],
   "source": [
    "train_nodes, test_nodes = model_selection.train_test_split(\n",
    "    node_community, train_size=0.5, stratify=node_community\n",
    ")"
   ]
  },
  {
   "cell_type": "markdown",
   "metadata": {
    "id": "eQvSTeg2f9iY"
   },
   "source": [
    "Count the number of nodes in the training set belonging to each community."
   ]
  },
  {
   "cell_type": "code",
   "execution_count": 17,
   "metadata": {
    "colab": {
     "base_uri": "https://localhost:8080/"
    },
    "id": "PDkS8jvdf9iZ",
    "outputId": "b82b812d-dea2-4299-e0ab-3e7486a3c3c2"
   },
   "outputs": [
    {
     "data": {
      "text/plain": [
       "Counter({0: 292, 1: 237})"
      ]
     },
     "execution_count": 17,
     "metadata": {},
     "output_type": "execute_result"
    }
   ],
   "source": [
    "Counter(train_nodes)"
   ]
  },
  {
   "cell_type": "markdown",
   "metadata": {
    "id": "xot-epNlf9iZ"
   },
   "source": [
    "#### Label Binarizer\n",
    "\n",
    "Create a LabelBinarizer object which is be used to transform the node labels into binary vectors. "
   ]
  },
  {
   "cell_type": "code",
   "execution_count": 18,
   "metadata": {
    "id": "rsLqtF62f9ia"
   },
   "outputs": [],
   "source": [
    "target_encoding = preprocessing.LabelBinarizer()\n",
    "\n",
    "train_targets = target_encoding.fit_transform(train_nodes)\n",
    "test_targets = target_encoding.transform(test_nodes)"
   ]
  },
  {
   "cell_type": "markdown",
   "metadata": {
    "id": "Q6Ap1kvaf9ia"
   },
   "source": [
    "#### GraphSAGENodeGenerator\n",
    "\n",
    "Create a GraphSAGENodeGenerator object with the graph G built above. \n",
    "\n",
    "`From the documentation: The generators are specialized to the model and the learning task so we choose the GraphSAGENodeGenerator as we are predicting node attributes with a GraphSAGE model. The data generator feeds data from the graph to the model.`"
   ]
  },
  {
   "cell_type": "code",
   "execution_count": 20,
   "metadata": {
    "id": "Papizq8Uf9ib"
   },
   "outputs": [],
   "source": [
    "batch_size = 80\n",
    "num_samples = [10, 5]\n",
    "generator = GraphSAGENodeGenerator(G, batch_size, num_samples)"
   ]
  },
  {
   "cell_type": "markdown",
   "metadata": {
    "id": "lR1N9OtZf9ib"
   },
   "source": [
    "#### Generating Training Batches\n",
    "\n",
    "Generate batches of nodes for training. The method will then generate batches of nodes for training, which can be used to train the model. The shuffle = True is to increase robustness\n",
    "\n",
    "`From the documentation: Using the flow() method, we can create iterators over nodes that should be used to train, validate, or evaluate the model. For training we use only the training nodes returned from our splitter and the target values.`"
   ]
  },
  {
   "cell_type": "code",
   "execution_count": 21,
   "metadata": {
    "id": "ikno0dV2f9ib"
   },
   "outputs": [],
   "source": [
    "train_gen = generator.flow(train_nodes.index, train_targets, shuffle=True)"
   ]
  },
  {
   "cell_type": "markdown",
   "metadata": {
    "id": "lQ8nF5JBf9ic"
   },
   "source": [
    "#### Build and compile model\n",
    "\n",
    "Parameters for the GraphSAGE model are the `layer_sizes` which is a list of hidden feature sizes of each layer in the model in this case a use 32-dimensional hidden node features at each layer. And the `bias` and `dropout` which are used to avoid overfitting."
   ]
  },
  {
   "cell_type": "code",
   "execution_count": 22,
   "metadata": {
    "id": "LL0GZE1nf9ic"
   },
   "outputs": [],
   "source": [
    "graphsage_model = GraphSAGE(\n",
    "    layer_sizes=[32, 32], generator=generator, bias=True, dropout=0.5,\n",
    ")"
   ]
  },
  {
   "cell_type": "markdown",
   "metadata": {
    "id": "kV-04AmKf9ic"
   },
   "source": [
    "The activation function is a sigmoid given that we are trying to solve a binary problem. "
   ]
  },
  {
   "cell_type": "code",
   "execution_count": 23,
   "metadata": {
    "colab": {
     "base_uri": "https://localhost:8080/"
    },
    "id": "ZsNnnd5uf9ic",
    "outputId": "fd294bd8-2ff2-445d-f659-4a98e0b50da7"
   },
   "outputs": [
    {
     "name": "stderr",
     "output_type": "stream",
     "text": [
      "/usr/local/lib/python3.10/dist-packages/keras/src/initializers/initializers.py:120: UserWarning: The initializer GlorotUniform is unseeded and being called multiple times, which will return identical values each time (even if the initializer is unseeded). Please update your code to provide a seed to the initializer, or avoid using the same initializer instance more than once.\n",
      "  warnings.warn(\n"
     ]
    }
   ],
   "source": [
    "x_inp, x_out = graphsage_model.in_out_tensors()\n",
    "prediction = layers.Dense(units=train_targets.shape[1], activation=\"sigmoid\")(x_out)"
   ]
  },
  {
   "cell_type": "markdown",
   "metadata": {
    "id": "8dqPjF9Kf9ic"
   },
   "source": [
    "Create a Keras model object with the graph inputs `x_inp` provided by the `graph_model` and outputs being the predictions from the sigmoid layer. Compile the model with the specified optimizer, loss function, and metrics. The optimizer used is the Adam optimizer with a learning rate of 0.001, the loss function is binary crossentropy, and the metric is accuracy."
   ]
  },
  {
   "cell_type": "code",
   "execution_count": 24,
   "metadata": {
    "colab": {
     "base_uri": "https://localhost:8080/"
    },
    "id": "krmAzoNJf9id",
    "outputId": "3c0ad7f8-85ee-4716-cddb-3beead27d114"
   },
   "outputs": [
    {
     "name": "stderr",
     "output_type": "stream",
     "text": [
      "WARNING:absl:`lr` is deprecated in Keras optimizer, please use `learning_rate` or use the legacy optimizer, e.g.,tf.keras.optimizers.legacy.Adam.\n"
     ]
    }
   ],
   "source": [
    "model = Model(inputs=x_inp, outputs=prediction)\n",
    "model.compile(\n",
    "    optimizer=optimizers.Adam(lr=0.001),\n",
    "    loss=tf.keras.losses.binary_crossentropy,\n",
    "    metrics=[\"acc\"],\n",
    ")"
   ]
  },
  {
   "cell_type": "markdown",
   "metadata": {
    "id": "gPHxXTjzf9id"
   },
   "source": [
    "### Training and evaluation\n",
    "\n",
    "Train the model, keeping track of its loss and accuracy on the training set"
   ]
  },
  {
   "cell_type": "code",
   "execution_count": 36,
   "metadata": {
    "colab": {
     "base_uri": "https://localhost:8080/"
    },
    "id": "Kml03TJ2f9id",
    "outputId": "11cf84f2-46ca-4687-f037-164387bf476f"
   },
   "outputs": [
    {
     "name": "stdout",
     "output_type": "stream",
     "text": [
      "Epoch 1/20\n",
      "7/7 - 0s - loss: 0.1301 - acc: 0.9887 - 307ms/epoch - 44ms/step\n",
      "Epoch 2/20\n",
      "7/7 - 0s - loss: 0.1211 - acc: 0.9924 - 392ms/epoch - 56ms/step\n",
      "Epoch 3/20\n",
      "7/7 - 0s - loss: 0.1198 - acc: 0.9905 - 269ms/epoch - 38ms/step\n",
      "Epoch 4/20\n",
      "7/7 - 0s - loss: 0.1191 - acc: 0.9905 - 213ms/epoch - 30ms/step\n",
      "Epoch 5/20\n",
      "7/7 - 0s - loss: 0.1194 - acc: 0.9905 - 207ms/epoch - 30ms/step\n",
      "Epoch 6/20\n",
      "7/7 - 0s - loss: 0.1067 - acc: 0.9924 - 198ms/epoch - 28ms/step\n",
      "Epoch 7/20\n",
      "7/7 - 0s - loss: 0.1060 - acc: 0.9924 - 221ms/epoch - 32ms/step\n",
      "Epoch 8/20\n",
      "7/7 - 0s - loss: 0.1114 - acc: 0.9924 - 171ms/epoch - 24ms/step\n",
      "Epoch 9/20\n",
      "7/7 - 0s - loss: 0.1047 - acc: 0.9943 - 182ms/epoch - 26ms/step\n",
      "Epoch 10/20\n",
      "7/7 - 0s - loss: 0.1033 - acc: 0.9905 - 187ms/epoch - 27ms/step\n",
      "Epoch 11/20\n",
      "7/7 - 0s - loss: 0.1038 - acc: 0.9887 - 185ms/epoch - 26ms/step\n",
      "Epoch 12/20\n",
      "7/7 - 0s - loss: 0.0980 - acc: 0.9924 - 194ms/epoch - 28ms/step\n",
      "Epoch 13/20\n",
      "7/7 - 0s - loss: 0.0982 - acc: 0.9905 - 210ms/epoch - 30ms/step\n",
      "Epoch 14/20\n",
      "7/7 - 0s - loss: 0.0904 - acc: 0.9924 - 262ms/epoch - 37ms/step\n",
      "Epoch 15/20\n",
      "7/7 - 0s - loss: 0.0938 - acc: 0.9943 - 391ms/epoch - 56ms/step\n",
      "Epoch 16/20\n",
      "7/7 - 0s - loss: 0.0915 - acc: 0.9943 - 334ms/epoch - 48ms/step\n",
      "Epoch 17/20\n",
      "7/7 - 0s - loss: 0.0893 - acc: 0.9924 - 305ms/epoch - 44ms/step\n",
      "Epoch 18/20\n",
      "7/7 - 0s - loss: 0.0816 - acc: 0.9981 - 450ms/epoch - 64ms/step\n",
      "Epoch 19/20\n",
      "7/7 - 0s - loss: 0.0848 - acc: 0.9962 - 494ms/epoch - 71ms/step\n",
      "Epoch 20/20\n",
      "7/7 - 0s - loss: 0.0880 - acc: 0.9924 - 237ms/epoch - 34ms/step\n"
     ]
    }
   ],
   "source": [
    "history = model.fit(\n",
    "    train_gen, epochs=20, verbose=2, shuffle=True\n",
    ")"
   ]
  },
  {
   "cell_type": "code",
   "execution_count": null,
   "metadata": {
    "id": "oCnaH0nef9id"
   },
   "outputs": [],
   "source": [
    "#sg.utils.plot_history(history)"
   ]
  },
  {
   "cell_type": "markdown",
   "metadata": {
    "id": "lcygRcppf9ie"
   },
   "source": [
    "Create a generator object from the test nodes and targets. This generator object will be used to evaluate the model's performance on the test set."
   ]
  },
  {
   "cell_type": "code",
   "execution_count": 25,
   "metadata": {
    "id": "_8gFrDQGf9id"
   },
   "outputs": [],
   "source": [
    "test_gen = generator.flow(test_nodes.index, test_targets)"
   ]
  },
  {
   "cell_type": "markdown",
   "metadata": {},
   "source": [
    "Evaluate the model on the test set."
   ]
  },
  {
   "cell_type": "code",
   "execution_count": 28,
   "metadata": {
    "colab": {
     "base_uri": "https://localhost:8080/"
    },
    "id": "v8gHPmsYf9ie",
    "outputId": "be0c22ed-28b9-4392-d0c3-a25e5bfe3d77"
   },
   "outputs": [
    {
     "name": "stdout",
     "output_type": "stream",
     "text": [
      "7/7 [==============================] - 1s 39ms/step - loss: 0.1763 - acc: 0.9962\n",
      "\n",
      "Test Set Metrics:\n",
      "\tloss: 0.1763\n",
      "\tacc: 0.9962\n"
     ]
    }
   ],
   "source": [
    "test_metrics = model.evaluate(test_gen)\n",
    "print(\"\\nTest Set Metrics:\")\n",
    "for name, val in zip(model.metrics_names, test_metrics):\n",
    "    print(\"\\t{}: {:0.4f}\".format(name, val))"
   ]
  },
  {
   "cell_type": "markdown",
   "metadata": {
    "id": "U62tYCLZf9ie"
   },
   "source": [
    "Generate predictions for the test set which will allow us to compare the predictions to the actual labels and evaluate the performance of the model."
   ]
  },
  {
   "cell_type": "code",
   "execution_count": 29,
   "metadata": {
    "colab": {
     "base_uri": "https://localhost:8080/"
    },
    "id": "HrPrMNMphNEq",
    "outputId": "c448e25d-06a8-4578-da69-40c2476edbaf"
   },
   "outputs": [
    {
     "name": "stdout",
     "output_type": "stream",
     "text": [
      "7/7 [==============================] - 1s 38ms/step\n"
     ]
    }
   ],
   "source": [
    "test_predictions = model.predict(test_gen)"
   ]
  },
  {
   "cell_type": "markdown",
   "metadata": {
    "id": "VPpfQSSEf9if"
   },
   "source": [
    "#### Inverse Transformation\n",
    "Take the predictions generated by the model and transform them back into the original labels. This will allow us to compare the predictions to the actual labels and evaluate the performance of the model."
   ]
  },
  {
   "cell_type": "code",
   "execution_count": 30,
   "metadata": {
    "id": "QxzlIhEVf9if"
   },
   "outputs": [],
   "source": [
    "node_predictions = target_encoding.inverse_transform(test_predictions)"
   ]
  },
  {
   "cell_type": "markdown",
   "metadata": {
    "id": "S4CTVIghf9if"
   },
   "source": [
    "Create a dataframe with the predicted labels and the true labels. "
   ]
  },
  {
   "cell_type": "code",
   "execution_count": 31,
   "metadata": {
    "colab": {
     "base_uri": "https://localhost:8080/",
     "height": 363
    },
    "id": "oXhjX4Ykf9if",
    "outputId": "8b4ddbb7-9a98-4a27-9440-7408152a8a77"
   },
   "outputs": [
    {
     "data": {
      "text/html": [
       "\n",
       "  <div id=\"df-ed607858-f1e5-4755-b68c-746468e8f1c5\" class=\"colab-df-container\">\n",
       "    <div>\n",
       "<style scoped>\n",
       "    .dataframe tbody tr th:only-of-type {\n",
       "        vertical-align: middle;\n",
       "    }\n",
       "\n",
       "    .dataframe tbody tr th {\n",
       "        vertical-align: top;\n",
       "    }\n",
       "\n",
       "    .dataframe thead th {\n",
       "        text-align: right;\n",
       "    }\n",
       "</style>\n",
       "<table border=\"1\" class=\"dataframe\">\n",
       "  <thead>\n",
       "    <tr style=\"text-align: right;\">\n",
       "      <th></th>\n",
       "      <th>Predicted</th>\n",
       "      <th>True</th>\n",
       "    </tr>\n",
       "  </thead>\n",
       "  <tbody>\n",
       "    <tr>\n",
       "      <th>519</th>\n",
       "      <td>0</td>\n",
       "      <td>0</td>\n",
       "    </tr>\n",
       "    <tr>\n",
       "      <th>520</th>\n",
       "      <td>0</td>\n",
       "      <td>0</td>\n",
       "    </tr>\n",
       "    <tr>\n",
       "      <th>521</th>\n",
       "      <td>0</td>\n",
       "      <td>0</td>\n",
       "    </tr>\n",
       "    <tr>\n",
       "      <th>522</th>\n",
       "      <td>1</td>\n",
       "      <td>1</td>\n",
       "    </tr>\n",
       "    <tr>\n",
       "      <th>523</th>\n",
       "      <td>1</td>\n",
       "      <td>1</td>\n",
       "    </tr>\n",
       "    <tr>\n",
       "      <th>524</th>\n",
       "      <td>0</td>\n",
       "      <td>0</td>\n",
       "    </tr>\n",
       "    <tr>\n",
       "      <th>525</th>\n",
       "      <td>0</td>\n",
       "      <td>0</td>\n",
       "    </tr>\n",
       "    <tr>\n",
       "      <th>526</th>\n",
       "      <td>1</td>\n",
       "      <td>1</td>\n",
       "    </tr>\n",
       "    <tr>\n",
       "      <th>527</th>\n",
       "      <td>1</td>\n",
       "      <td>1</td>\n",
       "    </tr>\n",
       "    <tr>\n",
       "      <th>528</th>\n",
       "      <td>0</td>\n",
       "      <td>0</td>\n",
       "    </tr>\n",
       "  </tbody>\n",
       "</table>\n",
       "</div>\n",
       "    <div class=\"colab-df-buttons\">\n",
       "\n",
       "  <div class=\"colab-df-container\">\n",
       "    <button class=\"colab-df-convert\" onclick=\"convertToInteractive('df-ed607858-f1e5-4755-b68c-746468e8f1c5')\"\n",
       "            title=\"Convert this dataframe to an interactive table.\"\n",
       "            style=\"display:none;\">\n",
       "\n",
       "  <svg xmlns=\"http://www.w3.org/2000/svg\" height=\"24px\" viewBox=\"0 -960 960 960\">\n",
       "    <path d=\"M120-120v-720h720v720H120Zm60-500h600v-160H180v160Zm220 220h160v-160H400v160Zm0 220h160v-160H400v160ZM180-400h160v-160H180v160Zm440 0h160v-160H620v160ZM180-180h160v-160H180v160Zm440 0h160v-160H620v160Z\"/>\n",
       "  </svg>\n",
       "    </button>\n",
       "\n",
       "  <style>\n",
       "    .colab-df-container {\n",
       "      display:flex;\n",
       "      gap: 12px;\n",
       "    }\n",
       "\n",
       "    .colab-df-convert {\n",
       "      background-color: #E8F0FE;\n",
       "      border: none;\n",
       "      border-radius: 50%;\n",
       "      cursor: pointer;\n",
       "      display: none;\n",
       "      fill: #1967D2;\n",
       "      height: 32px;\n",
       "      padding: 0 0 0 0;\n",
       "      width: 32px;\n",
       "    }\n",
       "\n",
       "    .colab-df-convert:hover {\n",
       "      background-color: #E2EBFA;\n",
       "      box-shadow: 0px 1px 2px rgba(60, 64, 67, 0.3), 0px 1px 3px 1px rgba(60, 64, 67, 0.15);\n",
       "      fill: #174EA6;\n",
       "    }\n",
       "\n",
       "    .colab-df-buttons div {\n",
       "      margin-bottom: 4px;\n",
       "    }\n",
       "\n",
       "    [theme=dark] .colab-df-convert {\n",
       "      background-color: #3B4455;\n",
       "      fill: #D2E3FC;\n",
       "    }\n",
       "\n",
       "    [theme=dark] .colab-df-convert:hover {\n",
       "      background-color: #434B5C;\n",
       "      box-shadow: 0px 1px 3px 1px rgba(0, 0, 0, 0.15);\n",
       "      filter: drop-shadow(0px 1px 2px rgba(0, 0, 0, 0.3));\n",
       "      fill: #FFFFFF;\n",
       "    }\n",
       "  </style>\n",
       "\n",
       "    <script>\n",
       "      const buttonEl =\n",
       "        document.querySelector('#df-ed607858-f1e5-4755-b68c-746468e8f1c5 button.colab-df-convert');\n",
       "      buttonEl.style.display =\n",
       "        google.colab.kernel.accessAllowed ? 'block' : 'none';\n",
       "\n",
       "      async function convertToInteractive(key) {\n",
       "        const element = document.querySelector('#df-ed607858-f1e5-4755-b68c-746468e8f1c5');\n",
       "        const dataTable =\n",
       "          await google.colab.kernel.invokeFunction('convertToInteractive',\n",
       "                                                    [key], {});\n",
       "        if (!dataTable) return;\n",
       "\n",
       "        const docLinkHtml = 'Like what you see? Visit the ' +\n",
       "          '<a target=\"_blank\" href=https://colab.research.google.com/notebooks/data_table.ipynb>data table notebook</a>'\n",
       "          + ' to learn more about interactive tables.';\n",
       "        element.innerHTML = '';\n",
       "        dataTable['output_type'] = 'display_data';\n",
       "        await google.colab.output.renderOutput(dataTable, element);\n",
       "        const docLink = document.createElement('div');\n",
       "        docLink.innerHTML = docLinkHtml;\n",
       "        element.appendChild(docLink);\n",
       "      }\n",
       "    </script>\n",
       "  </div>\n",
       "\n",
       "\n",
       "<div id=\"df-6fac4a62-3cdb-409f-ab49-223b382e5daa\">\n",
       "  <button class=\"colab-df-quickchart\" onclick=\"quickchart('df-6fac4a62-3cdb-409f-ab49-223b382e5daa')\"\n",
       "            title=\"Suggest charts.\"\n",
       "            style=\"display:none;\">\n",
       "\n",
       "<svg xmlns=\"http://www.w3.org/2000/svg\" height=\"24px\"viewBox=\"0 0 24 24\"\n",
       "     width=\"24px\">\n",
       "    <g>\n",
       "        <path d=\"M19 3H5c-1.1 0-2 .9-2 2v14c0 1.1.9 2 2 2h14c1.1 0 2-.9 2-2V5c0-1.1-.9-2-2-2zM9 17H7v-7h2v7zm4 0h-2V7h2v10zm4 0h-2v-4h2v4z\"/>\n",
       "    </g>\n",
       "</svg>\n",
       "  </button>\n",
       "\n",
       "<style>\n",
       "  .colab-df-quickchart {\n",
       "      --bg-color: #E8F0FE;\n",
       "      --fill-color: #1967D2;\n",
       "      --hover-bg-color: #E2EBFA;\n",
       "      --hover-fill-color: #174EA6;\n",
       "      --disabled-fill-color: #AAA;\n",
       "      --disabled-bg-color: #DDD;\n",
       "  }\n",
       "\n",
       "  [theme=dark] .colab-df-quickchart {\n",
       "      --bg-color: #3B4455;\n",
       "      --fill-color: #D2E3FC;\n",
       "      --hover-bg-color: #434B5C;\n",
       "      --hover-fill-color: #FFFFFF;\n",
       "      --disabled-bg-color: #3B4455;\n",
       "      --disabled-fill-color: #666;\n",
       "  }\n",
       "\n",
       "  .colab-df-quickchart {\n",
       "    background-color: var(--bg-color);\n",
       "    border: none;\n",
       "    border-radius: 50%;\n",
       "    cursor: pointer;\n",
       "    display: none;\n",
       "    fill: var(--fill-color);\n",
       "    height: 32px;\n",
       "    padding: 0;\n",
       "    width: 32px;\n",
       "  }\n",
       "\n",
       "  .colab-df-quickchart:hover {\n",
       "    background-color: var(--hover-bg-color);\n",
       "    box-shadow: 0 1px 2px rgba(60, 64, 67, 0.3), 0 1px 3px 1px rgba(60, 64, 67, 0.15);\n",
       "    fill: var(--button-hover-fill-color);\n",
       "  }\n",
       "\n",
       "  .colab-df-quickchart-complete:disabled,\n",
       "  .colab-df-quickchart-complete:disabled:hover {\n",
       "    background-color: var(--disabled-bg-color);\n",
       "    fill: var(--disabled-fill-color);\n",
       "    box-shadow: none;\n",
       "  }\n",
       "\n",
       "  .colab-df-spinner {\n",
       "    border: 2px solid var(--fill-color);\n",
       "    border-color: transparent;\n",
       "    border-bottom-color: var(--fill-color);\n",
       "    animation:\n",
       "      spin 1s steps(1) infinite;\n",
       "  }\n",
       "\n",
       "  @keyframes spin {\n",
       "    0% {\n",
       "      border-color: transparent;\n",
       "      border-bottom-color: var(--fill-color);\n",
       "      border-left-color: var(--fill-color);\n",
       "    }\n",
       "    20% {\n",
       "      border-color: transparent;\n",
       "      border-left-color: var(--fill-color);\n",
       "      border-top-color: var(--fill-color);\n",
       "    }\n",
       "    30% {\n",
       "      border-color: transparent;\n",
       "      border-left-color: var(--fill-color);\n",
       "      border-top-color: var(--fill-color);\n",
       "      border-right-color: var(--fill-color);\n",
       "    }\n",
       "    40% {\n",
       "      border-color: transparent;\n",
       "      border-right-color: var(--fill-color);\n",
       "      border-top-color: var(--fill-color);\n",
       "    }\n",
       "    60% {\n",
       "      border-color: transparent;\n",
       "      border-right-color: var(--fill-color);\n",
       "    }\n",
       "    80% {\n",
       "      border-color: transparent;\n",
       "      border-right-color: var(--fill-color);\n",
       "      border-bottom-color: var(--fill-color);\n",
       "    }\n",
       "    90% {\n",
       "      border-color: transparent;\n",
       "      border-bottom-color: var(--fill-color);\n",
       "    }\n",
       "  }\n",
       "</style>\n",
       "\n",
       "  <script>\n",
       "    async function quickchart(key) {\n",
       "      const quickchartButtonEl =\n",
       "        document.querySelector('#' + key + ' button');\n",
       "      quickchartButtonEl.disabled = true;  // To prevent multiple clicks.\n",
       "      quickchartButtonEl.classList.add('colab-df-spinner');\n",
       "      try {\n",
       "        const charts = await google.colab.kernel.invokeFunction(\n",
       "            'suggestCharts', [key], {});\n",
       "      } catch (error) {\n",
       "        console.error('Error during call to suggestCharts:', error);\n",
       "      }\n",
       "      quickchartButtonEl.classList.remove('colab-df-spinner');\n",
       "      quickchartButtonEl.classList.add('colab-df-quickchart-complete');\n",
       "    }\n",
       "    (() => {\n",
       "      let quickchartButtonEl =\n",
       "        document.querySelector('#df-6fac4a62-3cdb-409f-ab49-223b382e5daa button');\n",
       "      quickchartButtonEl.style.display =\n",
       "        google.colab.kernel.accessAllowed ? 'block' : 'none';\n",
       "    })();\n",
       "  </script>\n",
       "</div>\n",
       "    </div>\n",
       "  </div>\n"
      ],
      "text/plain": [
       "     Predicted  True\n",
       "519          0     0\n",
       "520          0     0\n",
       "521          0     0\n",
       "522          1     1\n",
       "523          1     1\n",
       "524          0     0\n",
       "525          0     0\n",
       "526          1     1\n",
       "527          1     1\n",
       "528          0     0"
      ]
     },
     "execution_count": 31,
     "metadata": {},
     "output_type": "execute_result"
    }
   ],
   "source": [
    "df = pd.DataFrame({\"Predicted\": node_predictions, \"True\": test_targets.reshape(-1)})\n",
    "df.tail(10)"
   ]
  },
  {
   "cell_type": "markdown",
   "metadata": {},
   "source": [
    "Generate a report that evaluates the performance of the model."
   ]
  },
  {
   "cell_type": "code",
   "execution_count": 32,
   "metadata": {
    "colab": {
     "base_uri": "https://localhost:8080/"
    },
    "id": "B2hG3Z7IpwT2",
    "outputId": "b6ddf4c8-7bf5-4bfb-a447-002d6483158b"
   },
   "outputs": [
    {
     "name": "stdout",
     "output_type": "stream",
     "text": [
      "              precision    recall  f1-score   support\n",
      "\n",
      "           0       0.99      1.00      1.00       292\n",
      "           1       1.00      0.99      1.00       237\n",
      "\n",
      "    accuracy                           1.00       529\n",
      "   macro avg       1.00      1.00      1.00       529\n",
      "weighted avg       1.00      1.00      1.00       529\n",
      "\n"
     ]
    }
   ],
   "source": [
    "print(classification_report(test_targets, node_predictions))"
   ]
  },
  {
   "cell_type": "markdown",
   "metadata": {},
   "source": [
    "#### Visualize the confusion matrix"
   ]
  },
  {
   "cell_type": "code",
   "execution_count": 33,
   "metadata": {
    "colab": {
     "base_uri": "https://localhost:8080/",
     "height": 447
    },
    "id": "CZfhYuZpqVN9",
    "outputId": "7ad23440-2a3b-4931-c378-dc8c71943034"
   },
   "outputs": [
    {
     "data": {
      "text/plain": [
       "<Axes: >"
      ]
     },
     "execution_count": 33,
     "metadata": {},
     "output_type": "execute_result"
    },
    {
     "data": {
      "image/png": "[encoded data removed]",
      "text/plain": [
       "<Figure size 640x480 with 2 Axes>"
      ]
     },
     "metadata": {},
     "output_type": "display_data"
    }
   ],
   "source": [
    "conf_mat=confusion_matrix(node_predictions,test_targets)\n",
    "group_names = [\"True Neg\",\"False Pos\",\"False Neg\",\"True Pos\"]\n",
    "group_counts = [\"{0:0.0f}\".format(value) for value in\n",
    "                conf_mat.flatten()]\n",
    "labels = [f\"{v1}\\n{v2}\" for v1, v2 in\n",
    "          zip(group_names,group_counts)]\n",
    "labels = np.asarray(labels).reshape(2,2)\n",
    "sns.heatmap(conf_mat, annot=labels, fmt=\"\")"
   ]
  }
 ],
 "metadata": {
  "colab": {
   "provenance": []
  },
  "kernelspec": {
   "display_name": "Python 3 (ipykernel)",
   "language": "python",
   "name": "python3"
  },
  "language_info": {
   "codemirror_mode": {
    "name": "ipython",
    "version": 3
   },
   "file_extension": ".py",
   "mimetype": "text/x-python",
   "name": "python",
   "nbconvert_exporter": "python",
   "pygments_lexer": "ipython3",
   "version": "3.8.13"
  }
 },
 "nbformat": 4,
 "nbformat_minor": 4
}
